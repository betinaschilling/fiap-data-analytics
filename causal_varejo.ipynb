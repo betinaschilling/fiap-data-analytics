{
  "nbformat": 4,
  "nbformat_minor": 0,
  "metadata": {
    "colab": {
      "provenance": [],
      "toc_visible": true,
      "include_colab_link": true
    },
    "kernelspec": {
      "name": "python3",
      "display_name": "Python 3"
    },
    "language_info": {
      "name": "python"
    }
  },
  "cells": [
    {
      "cell_type": "markdown",
      "metadata": {
        "id": "view-in-github",
        "colab_type": "text"
      },
      "source": [
        "<a href=\"https://colab.research.google.com/github/betinaschilling/fiap-data-analytics/blob/main/causal_varejo.ipynb\" target=\"_parent\"><img src=\"https://colab.research.google.com/assets/colab-badge.svg\" alt=\"Open In Colab\"/></a>"
      ]
    },
    {
      "cell_type": "markdown",
      "source": [
        "# Análise Causal no Varejo usando Redes Bayesianas\n",
        "\n",
        "> pgmpy is a Python package for causal inference and probabilistic inference using Directed Acyclic Graphs (DAGs) and Bayesian Networks with a focus on modularity and extensibility. Implementations of various algorithms for Causal Discovery (a.k.a, Structure Learning), Parameter Estimation, Approximate (Sampling Based) and Exact inference, and Causal Inference are available.\n",
        "\n",
        "* https://pgmpy.org/started/install.html"
      ],
      "metadata": {
        "id": "nyLiNt-y1vUt"
      }
    },
    {
      "cell_type": "markdown",
      "source": [
        "## Setup Inicial\n",
        "Primeiro, vamos instalar e importar as bibliotecas necessárias:"
      ],
      "metadata": {
        "id": "blMLHS93116q"
      }
    },
    {
      "cell_type": "code",
      "execution_count": null,
      "metadata": {
        "colab": {
          "base_uri": "https://localhost:8080/"
        },
        "id": "X43_yLHM1tfo",
        "outputId": "89e44b47-8250-4439-b7c7-ce6ccab30df5"
      },
      "outputs": [
        {
          "output_type": "stream",
          "name": "stdout",
          "text": [
            "\u001b[2K   \u001b[90m━━━━━━━━━━━━━━━━━━━━━━━━━━━━━━━━━━━━━━━━\u001b[0m \u001b[32m2.0/2.0 MB\u001b[0m \u001b[31m21.1 MB/s\u001b[0m eta \u001b[36m0:00:00\u001b[0m\n",
            "\u001b[2K   \u001b[90m━━━━━━━━━━━━━━━━━━━━━━━━━━━━━━━━━━━━━━━━\u001b[0m \u001b[32m363.4/363.4 MB\u001b[0m \u001b[31m4.9 MB/s\u001b[0m eta \u001b[36m0:00:00\u001b[0m\n",
            "\u001b[2K   \u001b[90m━━━━━━━━━━━━━━━━━━━━━━━━━━━━━━━━━━━━━━━━\u001b[0m \u001b[32m13.8/13.8 MB\u001b[0m \u001b[31m85.9 MB/s\u001b[0m eta \u001b[36m0:00:00\u001b[0m\n",
            "\u001b[2K   \u001b[90m━━━━━━━━━━━━━━━━━━━━━━━━━━━━━━━━━━━━━━━━\u001b[0m \u001b[32m24.6/24.6 MB\u001b[0m \u001b[31m72.3 MB/s\u001b[0m eta \u001b[36m0:00:00\u001b[0m\n",
            "\u001b[2K   \u001b[90m━━━━━━━━━━━━━━━━━━━━━━━━━━━━━━━━━━━━━━━━\u001b[0m \u001b[32m883.7/883.7 kB\u001b[0m \u001b[31m45.7 MB/s\u001b[0m eta \u001b[36m0:00:00\u001b[0m\n",
            "\u001b[2K   \u001b[90m━━━━━━━━━━━━━━━━━━━━━━━━━━━━━━━━━━━━━━━━\u001b[0m \u001b[32m664.8/664.8 MB\u001b[0m \u001b[31m1.3 MB/s\u001b[0m eta \u001b[36m0:00:00\u001b[0m\n",
            "\u001b[2K   \u001b[90m━━━━━━━━━━━━━━━━━━━━━━━━━━━━━━━━━━━━━━━━\u001b[0m \u001b[32m211.5/211.5 MB\u001b[0m \u001b[31m5.1 MB/s\u001b[0m eta \u001b[36m0:00:00\u001b[0m\n",
            "\u001b[2K   \u001b[90m━━━━━━━━━━━━━━━━━━━━━━━━━━━━━━━━━━━━━━━━\u001b[0m \u001b[32m56.3/56.3 MB\u001b[0m \u001b[31m11.9 MB/s\u001b[0m eta \u001b[36m0:00:00\u001b[0m\n",
            "\u001b[2K   \u001b[90m━━━━━━━━━━━━━━━━━━━━━━━━━━━━━━━━━━━━━━━━\u001b[0m \u001b[32m127.9/127.9 MB\u001b[0m \u001b[31m7.2 MB/s\u001b[0m eta \u001b[36m0:00:00\u001b[0m\n",
            "\u001b[2K   \u001b[90m━━━━━━━━━━━━━━━━━━━━━━━━━━━━━━━━━━━━━━━━\u001b[0m \u001b[32m207.5/207.5 MB\u001b[0m \u001b[31m4.1 MB/s\u001b[0m eta \u001b[36m0:00:00\u001b[0m\n",
            "\u001b[2K   \u001b[90m━━━━━━━━━━━━━━━━━━━━━━━━━━━━━━━━━━━━━━━━\u001b[0m \u001b[32m21.1/21.1 MB\u001b[0m \u001b[31m32.6 MB/s\u001b[0m eta \u001b[36m0:00:00\u001b[0m\n",
            "\u001b[?25h"
          ]
        }
      ],
      "source": [
        "!pip install pgmpy networkx -q"
      ]
    },
    {
      "cell_type": "code",
      "source": [
        "import pandas as pd\n",
        "import numpy as np\n",
        "import networkx as nx\n",
        "import matplotlib.pyplot as plt\n",
        "import seaborn as sns\n",
        "from pgmpy.models import BayesianNetwork\n",
        "from pgmpy.factors.discrete import TabularCPD\n",
        "from pgmpy.estimators import MaximumLikelihoodEstimator, BayesianEstimator"
      ],
      "metadata": {
        "id": "ybxmzkwz1-Ht"
      },
      "execution_count": null,
      "outputs": []
    },
    {
      "cell_type": "markdown",
      "source": [
        "## Gerando Dados Sintéticos para Demonstração\n"
      ],
      "metadata": {
        "id": "-HmDhOrN2ufP"
      }
    },
    {
      "cell_type": "code",
      "source": [
        "np.random.seed(42)\n",
        "n_samples = 1000"
      ],
      "metadata": {
        "id": "DW3ldgXS2zSU"
      },
      "execution_count": null,
      "outputs": []
    },
    {
      "cell_type": "code",
      "source": [
        "# Variável de confusão: Sazonalidade (1 = alta temporada, 0 = baixa temporada)\n",
        "sazonalidade = np.random.binomial(n=1, p=0.3, size=n_samples)\n",
        "sazonalidade[:20]"
      ],
      "metadata": {
        "colab": {
          "base_uri": "https://localhost:8080/"
        },
        "id": "jsvGX1FX2zL7",
        "outputId": "38df65ca-1580-4e18-e20a-d896efee3068"
      },
      "execution_count": null,
      "outputs": [
        {
          "output_type": "execute_result",
          "data": {
            "text/plain": [
              "array([0, 0, 1, 0, 0, 1, 0, 1, 0, 0, 0, 0, 1, 0, 0, 0, 0, 1, 0, 0])"
            ]
          },
          "metadata": {},
          "execution_count": 7
        }
      ]
    },
    {
      "cell_type": "code",
      "source": [
        "# Promoção (influenciada pela sazonalidade)\n",
        "prob_promocao = np.where(sazonalidade == 1, 0.7, 0.3)\n",
        "promocao = np.random.binomial(n=1, p=prob_promocao, size=n_samples)\n",
        "promocao[:20]"
      ],
      "metadata": {
        "colab": {
          "base_uri": "https://localhost:8080/"
        },
        "id": "RsqNr55v3JeZ",
        "outputId": "d52bf9e8-57f2-418b-8bde-f46a4181ce9f"
      },
      "execution_count": null,
      "outputs": [
        {
          "output_type": "execute_result",
          "data": {
            "text/plain": [
              "array([0, 1, 0, 0, 0, 1, 0, 1, 0, 0, 0, 0, 1, 0, 0, 0, 1, 0, 0, 0])"
            ]
          },
          "metadata": {},
          "execution_count": 9
        }
      ]
    },
    {
      "cell_type": "code",
      "source": [
        "# Nível de estoque (influenciado pela sazonalidade)\n",
        "base_estoque = np.random.normal(loc=100, scale=20, size=n_samples)\n",
        "estoque = base_estoque + sazonalidade * 50\n",
        "estoque[:20]"
      ],
      "metadata": {
        "colab": {
          "base_uri": "https://localhost:8080/"
        },
        "id": "MIk0vh883Wwv",
        "outputId": "326209ad-d837-4bd1-81d8-36ce933c15ba"
      },
      "execution_count": null,
      "outputs": [
        {
          "output_type": "execute_result",
          "data": {
            "text/plain": [
              "array([ 88.06051427,  52.19391265, 141.7555851 , 118.26947464,\n",
              "       110.75259806, 158.56372496,  94.40013396, 124.41938528,\n",
              "       110.30588643,  83.3143638 , 143.68193467, 111.41014417,\n",
              "       138.38703395,  87.77229505,  98.14111587,  95.20996156,\n",
              "       122.33667551, 153.72832339,  85.36736522, 137.8088137 ])"
            ]
          },
          "metadata": {},
          "execution_count": 10
        }
      ]
    },
    {
      "cell_type": "code",
      "source": [
        "# Vendas (influenciadas por todos os fatores anteriores)\n",
        "vendas_base = np.random.normal(loc=50, scale=10, size=n_samples)\n",
        "vendas = (vendas_base +\n",
        "         promocao * 30 +\n",
        "         sazonalidade * 40 +\n",
        "         np.clip(estoque, 0, 100) * 0.2)\n",
        "vendas[:20]"
      ],
      "metadata": {
        "colab": {
          "base_uri": "https://localhost:8080/"
        },
        "id": "qFhMHIXR3beP",
        "outputId": "f66b9ce4-9946-4be7-a7ef-03a8e9a500cd"
      },
      "execution_count": null,
      "outputs": [
        {
          "output_type": "execute_result",
          "data": {
            "text/plain": [
              "array([ 68.44042856,  83.15706352, 127.48137069,  80.4006182 ,\n",
              "        62.60228836, 126.65389393,  65.02330048, 144.34502646,\n",
              "        72.40205844,  79.19420101,  77.89919722,  79.69569026,\n",
              "       143.26855401,  53.66147171,  67.67123786,  79.64288971,\n",
              "        99.48477071, 115.03090369,  63.88598989,  59.70188151])"
            ]
          },
          "metadata": {},
          "execution_count": 11
        }
      ]
    },
    {
      "cell_type": "code",
      "source": [
        "# Criando o DataFrame\n",
        "data = pd.DataFrame({\n",
        "    'sazonalidade': sazonalidade,\n",
        "    'promocao': promocao,\n",
        "    'estoque': estoque,\n",
        "    'vendas': vendas\n",
        "})\n",
        "\n",
        "data.sample(10)"
      ],
      "metadata": {
        "colab": {
          "base_uri": "https://localhost:8080/",
          "height": 363
        },
        "id": "HxUq4eNN3gm4",
        "outputId": "1f086441-eaa4-4417-d424-eda2ae0e7e60"
      },
      "execution_count": null,
      "outputs": [
        {
          "output_type": "execute_result",
          "data": {
            "text/plain": [
              "     sazonalidade  promocao     estoque      vendas\n",
              "995             1         0  174.599807   94.193961\n",
              "572             0         0   96.441642   81.243642\n",
              "735             1         1  172.116661  153.451476\n",
              "624             0         1  117.049373  110.877104\n",
              "378             0         0   99.602527   72.153315\n",
              "133             0         0  102.262809   71.007911\n",
              "391             0         0  103.988480   81.933110\n",
              "101             0         0  105.992954   61.871764\n",
              "29              0         0   77.954605   64.780461\n",
              "388             1         1  163.627247  134.612392"
            ],
            "text/html": [
              "\n",
              "  <div id=\"df-6e7f8970-0f45-4c76-97a9-122bdb759a9b\" class=\"colab-df-container\">\n",
              "    <div>\n",
              "<style scoped>\n",
              "    .dataframe tbody tr th:only-of-type {\n",
              "        vertical-align: middle;\n",
              "    }\n",
              "\n",
              "    .dataframe tbody tr th {\n",
              "        vertical-align: top;\n",
              "    }\n",
              "\n",
              "    .dataframe thead th {\n",
              "        text-align: right;\n",
              "    }\n",
              "</style>\n",
              "<table border=\"1\" class=\"dataframe\">\n",
              "  <thead>\n",
              "    <tr style=\"text-align: right;\">\n",
              "      <th></th>\n",
              "      <th>sazonalidade</th>\n",
              "      <th>promocao</th>\n",
              "      <th>estoque</th>\n",
              "      <th>vendas</th>\n",
              "    </tr>\n",
              "  </thead>\n",
              "  <tbody>\n",
              "    <tr>\n",
              "      <th>995</th>\n",
              "      <td>1</td>\n",
              "      <td>0</td>\n",
              "      <td>174.599807</td>\n",
              "      <td>94.193961</td>\n",
              "    </tr>\n",
              "    <tr>\n",
              "      <th>572</th>\n",
              "      <td>0</td>\n",
              "      <td>0</td>\n",
              "      <td>96.441642</td>\n",
              "      <td>81.243642</td>\n",
              "    </tr>\n",
              "    <tr>\n",
              "      <th>735</th>\n",
              "      <td>1</td>\n",
              "      <td>1</td>\n",
              "      <td>172.116661</td>\n",
              "      <td>153.451476</td>\n",
              "    </tr>\n",
              "    <tr>\n",
              "      <th>624</th>\n",
              "      <td>0</td>\n",
              "      <td>1</td>\n",
              "      <td>117.049373</td>\n",
              "      <td>110.877104</td>\n",
              "    </tr>\n",
              "    <tr>\n",
              "      <th>378</th>\n",
              "      <td>0</td>\n",
              "      <td>0</td>\n",
              "      <td>99.602527</td>\n",
              "      <td>72.153315</td>\n",
              "    </tr>\n",
              "    <tr>\n",
              "      <th>133</th>\n",
              "      <td>0</td>\n",
              "      <td>0</td>\n",
              "      <td>102.262809</td>\n",
              "      <td>71.007911</td>\n",
              "    </tr>\n",
              "    <tr>\n",
              "      <th>391</th>\n",
              "      <td>0</td>\n",
              "      <td>0</td>\n",
              "      <td>103.988480</td>\n",
              "      <td>81.933110</td>\n",
              "    </tr>\n",
              "    <tr>\n",
              "      <th>101</th>\n",
              "      <td>0</td>\n",
              "      <td>0</td>\n",
              "      <td>105.992954</td>\n",
              "      <td>61.871764</td>\n",
              "    </tr>\n",
              "    <tr>\n",
              "      <th>29</th>\n",
              "      <td>0</td>\n",
              "      <td>0</td>\n",
              "      <td>77.954605</td>\n",
              "      <td>64.780461</td>\n",
              "    </tr>\n",
              "    <tr>\n",
              "      <th>388</th>\n",
              "      <td>1</td>\n",
              "      <td>1</td>\n",
              "      <td>163.627247</td>\n",
              "      <td>134.612392</td>\n",
              "    </tr>\n",
              "  </tbody>\n",
              "</table>\n",
              "</div>\n",
              "    <div class=\"colab-df-buttons\">\n",
              "\n",
              "  <div class=\"colab-df-container\">\n",
              "    <button class=\"colab-df-convert\" onclick=\"convertToInteractive('df-6e7f8970-0f45-4c76-97a9-122bdb759a9b')\"\n",
              "            title=\"Convert this dataframe to an interactive table.\"\n",
              "            style=\"display:none;\">\n",
              "\n",
              "  <svg xmlns=\"http://www.w3.org/2000/svg\" height=\"24px\" viewBox=\"0 -960 960 960\">\n",
              "    <path d=\"M120-120v-720h720v720H120Zm60-500h600v-160H180v160Zm220 220h160v-160H400v160Zm0 220h160v-160H400v160ZM180-400h160v-160H180v160Zm440 0h160v-160H620v160ZM180-180h160v-160H180v160Zm440 0h160v-160H620v160Z\"/>\n",
              "  </svg>\n",
              "    </button>\n",
              "\n",
              "  <style>\n",
              "    .colab-df-container {\n",
              "      display:flex;\n",
              "      gap: 12px;\n",
              "    }\n",
              "\n",
              "    .colab-df-convert {\n",
              "      background-color: #E8F0FE;\n",
              "      border: none;\n",
              "      border-radius: 50%;\n",
              "      cursor: pointer;\n",
              "      display: none;\n",
              "      fill: #1967D2;\n",
              "      height: 32px;\n",
              "      padding: 0 0 0 0;\n",
              "      width: 32px;\n",
              "    }\n",
              "\n",
              "    .colab-df-convert:hover {\n",
              "      background-color: #E2EBFA;\n",
              "      box-shadow: 0px 1px 2px rgba(60, 64, 67, 0.3), 0px 1px 3px 1px rgba(60, 64, 67, 0.15);\n",
              "      fill: #174EA6;\n",
              "    }\n",
              "\n",
              "    .colab-df-buttons div {\n",
              "      margin-bottom: 4px;\n",
              "    }\n",
              "\n",
              "    [theme=dark] .colab-df-convert {\n",
              "      background-color: #3B4455;\n",
              "      fill: #D2E3FC;\n",
              "    }\n",
              "\n",
              "    [theme=dark] .colab-df-convert:hover {\n",
              "      background-color: #434B5C;\n",
              "      box-shadow: 0px 1px 3px 1px rgba(0, 0, 0, 0.15);\n",
              "      filter: drop-shadow(0px 1px 2px rgba(0, 0, 0, 0.3));\n",
              "      fill: #FFFFFF;\n",
              "    }\n",
              "  </style>\n",
              "\n",
              "    <script>\n",
              "      const buttonEl =\n",
              "        document.querySelector('#df-6e7f8970-0f45-4c76-97a9-122bdb759a9b button.colab-df-convert');\n",
              "      buttonEl.style.display =\n",
              "        google.colab.kernel.accessAllowed ? 'block' : 'none';\n",
              "\n",
              "      async function convertToInteractive(key) {\n",
              "        const element = document.querySelector('#df-6e7f8970-0f45-4c76-97a9-122bdb759a9b');\n",
              "        const dataTable =\n",
              "          await google.colab.kernel.invokeFunction('convertToInteractive',\n",
              "                                                    [key], {});\n",
              "        if (!dataTable) return;\n",
              "\n",
              "        const docLinkHtml = 'Like what you see? Visit the ' +\n",
              "          '<a target=\"_blank\" href=https://colab.research.google.com/notebooks/data_table.ipynb>data table notebook</a>'\n",
              "          + ' to learn more about interactive tables.';\n",
              "        element.innerHTML = '';\n",
              "        dataTable['output_type'] = 'display_data';\n",
              "        await google.colab.output.renderOutput(dataTable, element);\n",
              "        const docLink = document.createElement('div');\n",
              "        docLink.innerHTML = docLinkHtml;\n",
              "        element.appendChild(docLink);\n",
              "      }\n",
              "    </script>\n",
              "  </div>\n",
              "\n",
              "\n",
              "<div id=\"df-03ffea17-1b11-4d6d-b32d-6f777e1f672f\">\n",
              "  <button class=\"colab-df-quickchart\" onclick=\"quickchart('df-03ffea17-1b11-4d6d-b32d-6f777e1f672f')\"\n",
              "            title=\"Suggest charts\"\n",
              "            style=\"display:none;\">\n",
              "\n",
              "<svg xmlns=\"http://www.w3.org/2000/svg\" height=\"24px\"viewBox=\"0 0 24 24\"\n",
              "     width=\"24px\">\n",
              "    <g>\n",
              "        <path d=\"M19 3H5c-1.1 0-2 .9-2 2v14c0 1.1.9 2 2 2h14c1.1 0 2-.9 2-2V5c0-1.1-.9-2-2-2zM9 17H7v-7h2v7zm4 0h-2V7h2v10zm4 0h-2v-4h2v4z\"/>\n",
              "    </g>\n",
              "</svg>\n",
              "  </button>\n",
              "\n",
              "<style>\n",
              "  .colab-df-quickchart {\n",
              "      --bg-color: #E8F0FE;\n",
              "      --fill-color: #1967D2;\n",
              "      --hover-bg-color: #E2EBFA;\n",
              "      --hover-fill-color: #174EA6;\n",
              "      --disabled-fill-color: #AAA;\n",
              "      --disabled-bg-color: #DDD;\n",
              "  }\n",
              "\n",
              "  [theme=dark] .colab-df-quickchart {\n",
              "      --bg-color: #3B4455;\n",
              "      --fill-color: #D2E3FC;\n",
              "      --hover-bg-color: #434B5C;\n",
              "      --hover-fill-color: #FFFFFF;\n",
              "      --disabled-bg-color: #3B4455;\n",
              "      --disabled-fill-color: #666;\n",
              "  }\n",
              "\n",
              "  .colab-df-quickchart {\n",
              "    background-color: var(--bg-color);\n",
              "    border: none;\n",
              "    border-radius: 50%;\n",
              "    cursor: pointer;\n",
              "    display: none;\n",
              "    fill: var(--fill-color);\n",
              "    height: 32px;\n",
              "    padding: 0;\n",
              "    width: 32px;\n",
              "  }\n",
              "\n",
              "  .colab-df-quickchart:hover {\n",
              "    background-color: var(--hover-bg-color);\n",
              "    box-shadow: 0 1px 2px rgba(60, 64, 67, 0.3), 0 1px 3px 1px rgba(60, 64, 67, 0.15);\n",
              "    fill: var(--button-hover-fill-color);\n",
              "  }\n",
              "\n",
              "  .colab-df-quickchart-complete:disabled,\n",
              "  .colab-df-quickchart-complete:disabled:hover {\n",
              "    background-color: var(--disabled-bg-color);\n",
              "    fill: var(--disabled-fill-color);\n",
              "    box-shadow: none;\n",
              "  }\n",
              "\n",
              "  .colab-df-spinner {\n",
              "    border: 2px solid var(--fill-color);\n",
              "    border-color: transparent;\n",
              "    border-bottom-color: var(--fill-color);\n",
              "    animation:\n",
              "      spin 1s steps(1) infinite;\n",
              "  }\n",
              "\n",
              "  @keyframes spin {\n",
              "    0% {\n",
              "      border-color: transparent;\n",
              "      border-bottom-color: var(--fill-color);\n",
              "      border-left-color: var(--fill-color);\n",
              "    }\n",
              "    20% {\n",
              "      border-color: transparent;\n",
              "      border-left-color: var(--fill-color);\n",
              "      border-top-color: var(--fill-color);\n",
              "    }\n",
              "    30% {\n",
              "      border-color: transparent;\n",
              "      border-left-color: var(--fill-color);\n",
              "      border-top-color: var(--fill-color);\n",
              "      border-right-color: var(--fill-color);\n",
              "    }\n",
              "    40% {\n",
              "      border-color: transparent;\n",
              "      border-right-color: var(--fill-color);\n",
              "      border-top-color: var(--fill-color);\n",
              "    }\n",
              "    60% {\n",
              "      border-color: transparent;\n",
              "      border-right-color: var(--fill-color);\n",
              "    }\n",
              "    80% {\n",
              "      border-color: transparent;\n",
              "      border-right-color: var(--fill-color);\n",
              "      border-bottom-color: var(--fill-color);\n",
              "    }\n",
              "    90% {\n",
              "      border-color: transparent;\n",
              "      border-bottom-color: var(--fill-color);\n",
              "    }\n",
              "  }\n",
              "</style>\n",
              "\n",
              "  <script>\n",
              "    async function quickchart(key) {\n",
              "      const quickchartButtonEl =\n",
              "        document.querySelector('#' + key + ' button');\n",
              "      quickchartButtonEl.disabled = true;  // To prevent multiple clicks.\n",
              "      quickchartButtonEl.classList.add('colab-df-spinner');\n",
              "      try {\n",
              "        const charts = await google.colab.kernel.invokeFunction(\n",
              "            'suggestCharts', [key], {});\n",
              "      } catch (error) {\n",
              "        console.error('Error during call to suggestCharts:', error);\n",
              "      }\n",
              "      quickchartButtonEl.classList.remove('colab-df-spinner');\n",
              "      quickchartButtonEl.classList.add('colab-df-quickchart-complete');\n",
              "    }\n",
              "    (() => {\n",
              "      let quickchartButtonEl =\n",
              "        document.querySelector('#df-03ffea17-1b11-4d6d-b32d-6f777e1f672f button');\n",
              "      quickchartButtonEl.style.display =\n",
              "        google.colab.kernel.accessAllowed ? 'block' : 'none';\n",
              "    })();\n",
              "  </script>\n",
              "</div>\n",
              "\n",
              "    </div>\n",
              "  </div>\n"
            ],
            "application/vnd.google.colaboratory.intrinsic+json": {
              "type": "dataframe",
              "summary": "{\n  \"name\": \"data\",\n  \"rows\": 10,\n  \"fields\": [\n    {\n      \"column\": \"sazonalidade\",\n      \"properties\": {\n        \"dtype\": \"number\",\n        \"std\": 0,\n        \"min\": 0,\n        \"max\": 1,\n        \"num_unique_values\": 2,\n        \"samples\": [\n          0,\n          1\n        ],\n        \"semantic_type\": \"\",\n        \"description\": \"\"\n      }\n    },\n    {\n      \"column\": \"promocao\",\n      \"properties\": {\n        \"dtype\": \"number\",\n        \"std\": 0,\n        \"min\": 0,\n        \"max\": 1,\n        \"num_unique_values\": 2,\n        \"samples\": [\n          1,\n          0\n        ],\n        \"semantic_type\": \"\",\n        \"description\": \"\"\n      }\n    },\n    {\n      \"column\": \"estoque\",\n      \"properties\": {\n        \"dtype\": \"number\",\n        \"std\": 35.11374572113003,\n        \"min\": 77.95460519088289,\n        \"max\": 174.59980736877367,\n        \"num_unique_values\": 10,\n        \"samples\": [\n          77.95460519088289,\n          96.44164248391203\n        ],\n        \"semantic_type\": \"\",\n        \"description\": \"\"\n      }\n    },\n    {\n      \"column\": \"vendas\",\n      \"properties\": {\n        \"dtype\": \"number\",\n        \"std\": 31.001291665069054,\n        \"min\": 61.87176409663435,\n        \"max\": 153.45147620452414,\n        \"num_unique_values\": 10,\n        \"samples\": [\n          64.78046139095915,\n          81.24364237764951\n        ],\n        \"semantic_type\": \"\",\n        \"description\": \"\"\n      }\n    }\n  ]\n}"
            }
          },
          "metadata": {},
          "execution_count": 14
        }
      ]
    },
    {
      "cell_type": "code",
      "source": [
        "# Discretização das variáveis contínuas\n",
        "data['estoque_cat'] = pd.qcut(data['estoque'], q=3, labels=['baixo', 'medio', 'alto'])\n",
        "data['vendas_cat'] = pd.qcut(data['vendas'], q=3, labels=['baixas', 'medias', 'altas'])"
      ],
      "metadata": {
        "id": "jt9bJVyx3gkv"
      },
      "execution_count": null,
      "outputs": []
    },
    {
      "cell_type": "code",
      "source": [
        "# Convertendo para strings (requisito do pgmpy)\n",
        "for col in ['sazonalidade', 'promocao', 'estoque_cat', 'vendas_cat']:\n",
        "    data[col] = data[col].astype(str)"
      ],
      "metadata": {
        "id": "0zQL76aB3gim"
      },
      "execution_count": null,
      "outputs": []
    },
    {
      "cell_type": "markdown",
      "source": [
        "## Criando a Rede Bayesiana\n"
      ],
      "metadata": {
        "id": "E0k3bUUQ3q5I"
      }
    },
    {
      "cell_type": "code",
      "source": [
        "# Definindo a estrutura da rede\n",
        "model = BayesianNetwork([\n",
        "    ('sazonalidade', 'promocao'),        # Sazonalidade influencia decisões de promoção\n",
        "    ('sazonalidade', 'estoque_cat'),     # Sazonalidade influencia níveis de estoque\n",
        "    ('promocao', 'vendas_cat'),          # Promoções impactam vendas\n",
        "    ('estoque_cat', 'vendas_cat'),       # Nível de estoque afeta vendas\n",
        "    ('sazonalidade', 'vendas_cat')       # Sazonalidade tem efeito direto nas vendas\n",
        "])"
      ],
      "metadata": {
        "id": "2AF9qS3J3ggg"
      },
      "execution_count": null,
      "outputs": []
    },
    {
      "cell_type": "code",
      "source": [
        "def calculate_influence(model, from_node, to_node):\n",
        "    \"\"\"Calcula a força da influência entre dois nós baseado nas CPDs\"\"\"\n",
        "    cpd = model.get_cpds(to_node)\n",
        "    values = cpd.values\n",
        "    evidence = cpd.get_evidence()\n",
        "\n",
        "    if evidence and from_node in evidence:\n",
        "        # Encontra o índice da variável de interesse\n",
        "        evidence_idx = evidence.index(from_node)\n",
        "\n",
        "        # Calcula a diferença média nas probabilidades\n",
        "        if len(values.shape) > 1:\n",
        "            # Calculando a variação média ao longo do eixo da evidência\n",
        "            variance = np.var(values, axis=evidence_idx)\n",
        "            return float(np.mean(variance))\n",
        "    return 0.1  # valor base para quando não há influência direta\n",
        "\n",
        "def plot_network_with_influence(model):\n",
        "    plt.figure(figsize=(12, 8))\n",
        "    G = nx.DiGraph()\n",
        "    G.add_edges_from(model.edges())\n",
        "\n",
        "    # Layout manual\n",
        "    pos = {\n",
        "        'sazonalidade': (0, 1),\n",
        "        'promocao': (-1, 0),\n",
        "        'estoque_cat': (1, 0),\n",
        "        'vendas_cat': (0, -1)\n",
        "    }\n",
        "\n",
        "    # Calculando influências\n",
        "    edge_weights = {}\n",
        "    for edge in G.edges():\n",
        "        influence = calculate_influence(model, edge[0], edge[1])\n",
        "        edge_weights[edge] = influence\n",
        "\n",
        "    # Normalizando os pesos para espessura das linhas\n",
        "    max_weight = max(edge_weights.values())\n",
        "    normalized_weights = {k: (v/max_weight * 4 + 1) for k, v in edge_weights.items()}\n",
        "\n",
        "    # Desenhando nós\n",
        "    nx.draw_networkx_nodes(G, pos,\n",
        "                          node_color='lightblue',\n",
        "                          node_size=3000,\n",
        "                          alpha=0.7)\n",
        "\n",
        "    # Desenhando arestas com espessuras diferentes\n",
        "    for edge in G.edges():\n",
        "        nx.draw_networkx_edges(G, pos,\n",
        "                             edgelist=[edge],\n",
        "                             width=normalized_weights[edge],\n",
        "                             edge_color='gray',\n",
        "                             arrows=True,\n",
        "                             arrowsize=20,\n",
        "                             connectionstyle='arc3,rad=0.2')\n",
        "\n",
        "    # Adicionando labels dos nós\n",
        "    labels = nx.draw_networkx_labels(G, pos,\n",
        "                                   font_size=12,\n",
        "                                   font_weight='bold')\n",
        "\n",
        "    # Adicionando labels das arestas (influências)\n",
        "    edge_labels = {edge: f'{edge_weights[edge]:.3f}' for edge in G.edges()}\n",
        "    nx.draw_networkx_edge_labels(G, pos,\n",
        "                                edge_labels=edge_labels,\n",
        "                                font_size=10,\n",
        "                                bbox=dict(facecolor='white', edgecolor='none', alpha=0.7))\n",
        "\n",
        "    # Adicionando legenda\n",
        "    plt.title(\"Rede Bayesiana do Varejo\\nA espessura das arestas indica a força da influência\",\n",
        "             pad=20, fontsize=14)\n",
        "\n",
        "    # Adiciona uma nota explicativa\n",
        "    plt.figtext(0.02, 0.02,\n",
        "                \"Valores nas arestas representam a variância nas probabilidades condicionais\",\n",
        "                fontsize=8, ha='left')\n",
        "\n",
        "    plt.axis('off')\n",
        "    plt.tight_layout()\n",
        "    plt.show()\n",
        "\n",
        "plot_network_with_influence(model)"
      ],
      "metadata": {
        "colab": {
          "base_uri": "https://localhost:8080/",
          "height": 807
        },
        "id": "uX1LCGYO2vqg",
        "outputId": "abb6fcff-2998-418e-c3d3-c0559df727f5"
      },
      "execution_count": null,
      "outputs": [
        {
          "output_type": "display_data",
          "data": {
            "text/plain": [
              "<Figure size 1200x800 with 1 Axes>"
            ],
            "image/png": "[encoded data removed]"
          },
          "metadata": {}
        }
      ]
    },
    {
      "cell_type": "code",
      "source": [
        "# Estimando as probabilidades condicionais\n",
        "emv = MaximumLikelihoodEstimator(model=model, data=data)"
      ],
      "metadata": {
        "id": "0Zk3gay-31iz"
      },
      "execution_count": null,
      "outputs": []
    },
    {
      "cell_type": "code",
      "source": [
        "# Aprendendo os CPDs (Conditional Probability Distributions)\n",
        "cpds = []\n",
        "for node in model.nodes():\n",
        "    cpd = emv.estimate_cpd(node)\n",
        "    model.add_cpds(cpd)\n",
        "    cpds.append(cpd)"
      ],
      "metadata": {
        "colab": {
          "base_uri": "https://localhost:8080/"
        },
        "id": "QfcpqpUb41JU",
        "outputId": "63765f6f-ab20-48d0-f51a-57c862b407a4"
      },
      "execution_count": null,
      "outputs": [
        {
          "output_type": "stream",
          "name": "stderr",
          "text": [
            "WARNING:pgmpy:Replacing existing CPD for sazonalidade\n",
            "WARNING:pgmpy:Replacing existing CPD for promocao\n",
            "WARNING:pgmpy:Replacing existing CPD for estoque_cat\n",
            "WARNING:pgmpy:Replacing existing CPD for vendas_cat\n"
          ]
        }
      ]
    },
    {
      "cell_type": "markdown",
      "source": [
        "## Análise de Probabilidades Condicionais\n"
      ],
      "metadata": {
        "id": "xnZbjLtz45UH"
      }
    },
    {
      "cell_type": "code",
      "source": [
        "def print_cpd(model, node):\n",
        "    \"\"\"Imprime a tabela de probabilidade condicional para um nó\"\"\"\n",
        "    cpd = model.get_cpds(node)\n",
        "    print(f\"\\nProbabilidades condicionais para {node}:\")\n",
        "    print(cpd)\n",
        "\n",
        "# Imprimindo CPDs para todos os nós\n",
        "for node in model.nodes():\n",
        "    print_cpd(model, node)"
      ],
      "metadata": {
        "colab": {
          "base_uri": "https://localhost:8080/"
        },
        "id": "rgGmzYFl43Yl",
        "outputId": "2ba8f234-7e1d-4652-ada1-3e7b6e2eaa83"
      },
      "execution_count": null,
      "outputs": [
        {
          "output_type": "stream",
          "name": "stdout",
          "text": [
            "\n",
            "Probabilidades condicionais para sazonalidade:\n",
            "+-----------------+-------+\n",
            "| sazonalidade(0) | 0.689 |\n",
            "+-----------------+-------+\n",
            "| sazonalidade(1) | 0.311 |\n",
            "+-----------------+-------+\n",
            "\n",
            "Probabilidades condicionais para promocao:\n",
            "+--------------+--------------------+--------------------+\n",
            "| sazonalidade | sazonalidade(0)    | sazonalidade(1)    |\n",
            "+--------------+--------------------+--------------------+\n",
            "| promocao(0)  | 0.706821480406386  | 0.2604501607717042 |\n",
            "+--------------+--------------------+--------------------+\n",
            "| promocao(1)  | 0.2931785195936139 | 0.7395498392282959 |\n",
            "+--------------+--------------------+--------------------+\n",
            "\n",
            "Probabilidades condicionais para estoque_cat:\n",
            "+--------------------+---------------------+----------------------+\n",
            "| sazonalidade       | sazonalidade(0)     | sazonalidade(1)      |\n",
            "+--------------------+---------------------+----------------------+\n",
            "| estoque_cat(alto)  | 0.08127721335268505 | 0.8938906752411575   |\n",
            "+--------------------+---------------------+----------------------+\n",
            "| estoque_cat(baixo) | 0.4818577648766328  | 0.006430868167202572 |\n",
            "+--------------------+---------------------+----------------------+\n",
            "| estoque_cat(medio) | 0.43686502177068215 | 0.09967845659163987  |\n",
            "+--------------------+---------------------+----------------------+\n",
            "\n",
            "Probabilidades condicionais para vendas_cat:\n",
            "+--------------------+--------------------+-----+---------------------+--------------------+\n",
            "| estoque_cat        | estoque_cat(alto)  | ... | estoque_cat(medio)  | estoque_cat(medio) |\n",
            "+--------------------+--------------------+-----+---------------------+--------------------+\n",
            "| promocao           | promocao(0)        | ... | promocao(1)         | promocao(1)        |\n",
            "+--------------------+--------------------+-----+---------------------+--------------------+\n",
            "| sazonalidade       | sazonalidade(0)    | ... | sazonalidade(0)     | sazonalidade(1)    |\n",
            "+--------------------+--------------------+-----+---------------------+--------------------+\n",
            "| vendas_cat(altas)  | 0.0                | ... | 0.2948717948717949  | 1.0                |\n",
            "+--------------------+--------------------+-----+---------------------+--------------------+\n",
            "| vendas_cat(baixas) | 0.6829268292682927 | ... | 0.01282051282051282 | 0.0                |\n",
            "+--------------------+--------------------+-----+---------------------+--------------------+\n",
            "| vendas_cat(medias) | 0.3170731707317073 | ... | 0.6923076923076923  | 0.0                |\n",
            "+--------------------+--------------------+-----+---------------------+--------------------+\n"
          ]
        }
      ]
    },
    {
      "cell_type": "markdown",
      "source": [
        "## Análise de Cenários com Inferência"
      ],
      "metadata": {
        "id": "B_1x7D1N5HVN"
      }
    },
    {
      "cell_type": "code",
      "source": [
        "from pgmpy.inference import VariableElimination\n",
        "\n",
        "# Criando o modelo de inferência\n",
        "inference = VariableElimination(model)"
      ],
      "metadata": {
        "id": "yEs0ocly47le"
      },
      "execution_count": null,
      "outputs": []
    },
    {
      "cell_type": "code",
      "source": [
        "def simular_cenario(evidencias):\n",
        "    \"\"\"\n",
        "    Simula um cenário específico na rede Bayesiana\n",
        "\n",
        "    Args:\n",
        "        evidencias (dict): Dicionário com as evidências do cenário\n",
        "\n",
        "    Returns:\n",
        "        Probabilidades previstas para as vendas\n",
        "    \"\"\"\n",
        "    return inference.query(variables=['vendas_cat'], evidence=evidencias)"
      ],
      "metadata": {
        "id": "vQEi42aO5Jng"
      },
      "execution_count": null,
      "outputs": []
    },
    {
      "cell_type": "code",
      "source": [
        "print(\"\\nCenário Otimista (Alta temporada, Com promoção, Estoque alto):\")\n",
        "cenario_otimista = {\n",
        "    'sazonalidade': '1',\n",
        "    'promocao': '1',\n",
        "    'estoque_cat': 'alto'\n",
        "}\n",
        "print(simular_cenario(cenario_otimista))"
      ],
      "metadata": {
        "colab": {
          "base_uri": "https://localhost:8080/"
        },
        "id": "7SSBMeGM5Ogw",
        "outputId": "a42e283a-487f-4aaf-92b6-6389ef1b3133"
      },
      "execution_count": null,
      "outputs": [
        {
          "output_type": "stream",
          "name": "stdout",
          "text": [
            "\n",
            "Cenário Otimista (Alta temporada, Com promoção, Estoque alto):\n",
            "+--------------------+-------------------+\n",
            "| vendas_cat         |   phi(vendas_cat) |\n",
            "+====================+===================+\n",
            "| vendas_cat(altas)  |            1.0000 |\n",
            "+--------------------+-------------------+\n",
            "| vendas_cat(baixas) |            0.0000 |\n",
            "+--------------------+-------------------+\n",
            "| vendas_cat(medias) |            0.0000 |\n",
            "+--------------------+-------------------+\n"
          ]
        }
      ]
    },
    {
      "cell_type": "code",
      "source": [
        "print(\"\\nCenário Pessimista (Baixa temporada, Sem promoção, Estoque baixo):\")\n",
        "cenario_pessimista = {\n",
        "    'sazonalidade': '0',\n",
        "    'promocao': '0',\n",
        "    'estoque_cat': 'baixo'\n",
        "}\n",
        "print(simular_cenario(cenario_pessimista))"
      ],
      "metadata": {
        "colab": {
          "base_uri": "https://localhost:8080/"
        },
        "id": "XceDStUs5OyH",
        "outputId": "06b1ea3f-0f4f-4a92-d081-72ee841473e9"
      },
      "execution_count": null,
      "outputs": [
        {
          "output_type": "stream",
          "name": "stdout",
          "text": [
            "\n",
            "Cenário Pessimista (Baixa temporada, Sem promoção, Estoque baixo):\n",
            "+--------------------+-------------------+\n",
            "| vendas_cat         |   phi(vendas_cat) |\n",
            "+====================+===================+\n",
            "| vendas_cat(altas)  |            0.0000 |\n",
            "+--------------------+-------------------+\n",
            "| vendas_cat(baixas) |            0.7085 |\n",
            "+--------------------+-------------------+\n",
            "| vendas_cat(medias) |            0.2915 |\n",
            "+--------------------+-------------------+\n"
          ]
        }
      ]
    },
    {
      "cell_type": "markdown",
      "source": [
        "## Análise do Efeito Confundidor"
      ],
      "metadata": {
        "id": "WcjeBUaw5Yqh"
      }
    },
    {
      "cell_type": "code",
      "source": [
        "def analisar_efeito_confundidor():\n",
        "    # Análise sem controlar pela sazonalidade\n",
        "    prob_vendas_promocao = inference.query(\n",
        "        variables=['vendas_cat'],\n",
        "        evidence={'promocao': '1'}\n",
        "    )\n",
        "\n",
        "    print(\"\\nProbabilidade de vendas dado promoção (sem controlar sazonalidade):\")\n",
        "    print(prob_vendas_promocao)\n",
        "\n",
        "    # Análise controlando pela sazonalidade\n",
        "    for saz in ['0', '1']:\n",
        "        prob_vendas_promocao_saz = inference.query(\n",
        "            variables=['vendas_cat'],\n",
        "            evidence={'promocao': '1', 'sazonalidade': saz}\n",
        "        )\n",
        "        print(f\"\\nProbabilidade de vendas dado promoção e sazonalidade={saz}:\")\n",
        "        print(prob_vendas_promocao_saz)\n",
        "\n",
        "analisar_efeito_confundidor()"
      ],
      "metadata": {
        "colab": {
          "base_uri": "https://localhost:8080/"
        },
        "id": "D5e4ExrR5VeB",
        "outputId": "74d00832-a528-49b0-fbba-6dbdc65aa22e"
      },
      "execution_count": null,
      "outputs": [
        {
          "output_type": "stream",
          "name": "stdout",
          "text": [
            "\n",
            "Probabilidade de vendas dado promoção (sem controlar sazonalidade):\n",
            "+--------------------+-------------------+\n",
            "| vendas_cat         |   phi(vendas_cat) |\n",
            "+====================+===================+\n",
            "| vendas_cat(altas)  |            0.6503 |\n",
            "+--------------------+-------------------+\n",
            "| vendas_cat(baixas) |            0.0047 |\n",
            "+--------------------+-------------------+\n",
            "| vendas_cat(medias) |            0.3450 |\n",
            "+--------------------+-------------------+\n",
            "\n",
            "Probabilidade de vendas dado promoção e sazonalidade=0:\n",
            "+--------------------+-------------------+\n",
            "| vendas_cat         |   phi(vendas_cat) |\n",
            "+====================+===================+\n",
            "| vendas_cat(altas)  |            0.2522 |\n",
            "+--------------------+-------------------+\n",
            "| vendas_cat(baixas) |            0.0100 |\n",
            "+--------------------+-------------------+\n",
            "| vendas_cat(medias) |            0.7378 |\n",
            "+--------------------+-------------------+\n",
            "\n",
            "Probabilidade de vendas dado promoção e sazonalidade=1:\n",
            "+--------------------+-------------------+\n",
            "| vendas_cat         |   phi(vendas_cat) |\n",
            "+====================+===================+\n",
            "| vendas_cat(altas)  |            1.0000 |\n",
            "+--------------------+-------------------+\n",
            "| vendas_cat(baixas) |            0.0000 |\n",
            "+--------------------+-------------------+\n",
            "| vendas_cat(medias) |            0.0000 |\n",
            "+--------------------+-------------------+\n"
          ]
        }
      ]
    },
    {
      "cell_type": "markdown",
      "source": [
        "## Plots"
      ],
      "metadata": {
        "id": "0oVOweUA5imL"
      }
    },
    {
      "cell_type": "code",
      "source": [
        "def plot_conditional_distributions():\n",
        "    plt.figure(figsize=(20, 5))\n",
        "\n",
        "    plt.rcParams['axes.spines.right'] = False\n",
        "    plt.rcParams['axes.spines.top'] = False\n",
        "\n",
        "    # Vendas por Sazonalidade\n",
        "    plt.subplot(131)\n",
        "    sns.boxplot(data=data, x='sazonalidade', y='vendas')\n",
        "    plt.title('Vendas por Sazonalidade')\n",
        "\n",
        "    # Vendas por Promoção\n",
        "    plt.subplot(132)\n",
        "    sns.boxplot(data=data, x='promocao', y='vendas')\n",
        "    plt.title('Vendas por Promoção')\n",
        "\n",
        "    # Vendas por Nível de Estoque\n",
        "    plt.subplot(133)\n",
        "    sns.boxplot(data=data, x='estoque_cat', y='vendas')\n",
        "    plt.title('Vendas por Nível de Estoque')\n",
        "\n",
        "    plt.tight_layout()\n",
        "    plt.show()\n",
        "\n",
        "plot_conditional_distributions()"
      ],
      "metadata": {
        "colab": {
          "base_uri": "https://localhost:8080/",
          "height": 333
        },
        "id": "N49M_04z5asC",
        "outputId": "847c2837-ea19-44d4-bfd2-409a426dd2b7"
      },
      "execution_count": null,
      "outputs": [
        {
          "output_type": "display_data",
          "data": {
            "text/plain": [
              "<Figure size 2000x500 with 3 Axes>"
            ],
            "image/png": "[encoded data removed]"
          },
          "metadata": {}
        }
      ]
    },
    {
      "cell_type": "markdown",
      "source": [
        "## Conclusões\n",
        "A estrutura da rede mostra claramente o papel da sazonalidade como variável de confusão:\n",
        "\n",
        "- Influencia diretamente as vendas\n",
        "- Afeta as decisões de promoção\n",
        "- Impacta os níveis de estoque\n",
        "\n",
        "\n",
        "Análise do efeito confundidor revela:\n",
        "\n",
        "1. O efeito aparente das promoções é maior quando não controlamos pela sazonalidade\n",
        "2. Ao estratificar pela sazonalidade, vemos o efeito real das promoções\n",
        "\n",
        "\n"
      ],
      "metadata": {
        "id": "FyWXlZI76LiE"
      }
    },
    {
      "cell_type": "markdown",
      "source": [
        "## Insights para o negócio\n",
        "\n",
        "1. Ajustar estratégias promocionais por sazonalidade\n",
        "2. Otimizar níveis de estoque considerando múltiplos fatores\n",
        "3. Desenvolver previsões mais precisas considerando a estrutura causal"
      ],
      "metadata": {
        "id": "qfGdiV8V6W7_"
      }
    },
    {
      "cell_type": "markdown",
      "source": [
        "## Referências\n",
        "\n",
        "- Documentação do pgmpy: https://pgmpy.org/"
      ],
      "metadata": {
        "id": "scRXtPl86Hn3"
      }
    }
  ]
}