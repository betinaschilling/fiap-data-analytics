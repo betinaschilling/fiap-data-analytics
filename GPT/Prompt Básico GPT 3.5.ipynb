{
 "cells": [
  {
   "cell_type": "code",
   "execution_count": null,
   "metadata": {},
   "outputs": [],
   "source": [
    "import requests\n",
    "\n",
    "api_key = 'sua_api_key_aqui'\n",
    "headers = {\n",
    "    'Content-Type': 'application/json',\n",
    "    'Authorization': f'Bearer {api_key}',\n",
    "}\n",
    "\n",
    "data = {\n",
    "    'model': 'gpt-3.5-turbo',  # ou outro modelo disponível na sua conta\n",
    "    'messages': [\n",
    "        {'role': 'user', 'content': 'Olá, como você está?'}\n",
    "    ]\n",
    "}\n",
    "\n",
    "response = requests.post('https://api.openai.com/v1/chat/completions', json=data, headers=headers)\n",
    "\n",
    "if response.status_code == 200:\n",
    "    result = response.json()\n",
    "    print('Resposta do ChatGPT:', result['choices'][0]['message']['content'])\n",
    "else:\n",
    "    print('Erro ao fazer a solicitação:', response.status_code, response.text)"
   ]
  }
 ],
 "metadata": {
  "language_info": {
   "name": "python"
  }
 },
 "nbformat": 4,
 "nbformat_minor": 2
}
