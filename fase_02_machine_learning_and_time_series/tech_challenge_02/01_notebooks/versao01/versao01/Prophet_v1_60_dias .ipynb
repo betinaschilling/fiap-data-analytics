{
 "cells": [
  {
   "cell_type": "code",
   "execution_count": 2,
   "metadata": {},
   "outputs": [],
   "source": [
    "import yfinance as yf\n",
    "import pandas as pd\n",
    "from prophet import Prophet\n",
    "import matplotlib.pyplot as plt\n",
    "from sklearn.metrics import mean_absolute_error, mean_squared_error\n",
    "import numpy as np"
   ]
  },
  {
   "cell_type": "code",
   "execution_count": 3,
   "metadata": {},
   "outputs": [],
   "source": [
    "# Período estudado\n",
    "\n",
    "start_date = '2004-01-01'\n",
    "end_date = '2024-07-01'"
   ]
  },
  {
   "cell_type": "code",
   "execution_count": 4,
   "metadata": {},
   "outputs": [
    {
     "name": "stdout",
     "output_type": "stream",
     "text": [
      "            selic\n",
      "ds               \n",
      "2004-01-02  16.34\n",
      "2004-01-05  16.34\n",
      "2004-01-06  16.34\n",
      "2004-01-07  16.33\n",
      "2004-01-08  16.33\n"
     ]
    }
   ],
   "source": [
    "# Baixar dados da Taxa selic\n",
    "\n",
    "import requests\n",
    "\n",
    "# Código da série Selic diária\n",
    "serie_codigo = '1178'\n",
    "\n",
    "# URL da API do BCB\n",
    "url = f'http://api.bcb.gov.br/dados/serie/bcdata.sgs.{serie_codigo}/dados?formato=json'\n",
    "\n",
    "# Solicitar dados da série\n",
    "response = requests.get(url)\n",
    "data = response.json()\n",
    "\n",
    "# Converter para DataFrame\n",
    "selic = pd.DataFrame(data)\n",
    "selic['data'] = pd.to_datetime(selic['data'], format='%d/%m/%Y')\n",
    "selic = selic[selic['data'] >= start_date]\n",
    "selic = selic[selic['data'] <= end_date]\n",
    "selic['valor'] = selic['valor'].astype(float)\n",
    "selic.rename(columns={'data': 'ds', 'valor': 'selic'}, inplace=True)\n",
    "selic.set_index('ds', inplace=True)\n",
    "\n",
    "print(selic.head())\n"
   ]
  },
  {
   "cell_type": "code",
   "execution_count": 5,
   "metadata": {},
   "outputs": [
    {
     "name": "stderr",
     "output_type": "stream",
     "text": [
      "[*********************100%%**********************]  1 of 1 completed\n",
      "[*********************100%%**********************]  1 of 1 completed\n",
      "[*********************100%%**********************]  1 of 1 completed\n",
      "[*********************100%%**********************]  1 of 1 completed\n",
      "[*********************100%%**********************]  1 of 1 completed\n",
      "[*********************100%%**********************]  1 of 1 completed\n",
      "[*********************100%%**********************]  1 of 1 completed\n",
      "[*********************100%%**********************]  1 of 1 completed\n",
      "[*********************100%%**********************]  1 of 1 completed\n",
      "[*********************100%%**********************]  1 of 1 completed\n",
      "[*********************100%%**********************]  1 of 1 completed\n",
      "[*********************100%%**********************]  1 of 1 completed\n",
      "[*********************100%%**********************]  1 of 1 completed\n",
      "[*********************100%%**********************]  1 of 1 completed\n",
      "[*********************100%%**********************]  1 of 1 completed\n",
      "[*********************100%%**********************]  1 of 1 completed\n",
      "[*********************100%%**********************]  1 of 1 completed\n",
      "[*********************100%%**********************]  1 of 1 completed\n",
      "[*********************100%%**********************]  1 of 1 completed\n"
     ]
    },
    {
     "data": {
      "text/plain": [
       "Date\n",
       "2004-01-05     424.399994\n",
       "2004-01-06     422.799988\n",
       "2004-01-07     421.899994\n",
       "2004-01-08     424.000000\n",
       "2004-01-09     426.399994\n",
       "                 ...     \n",
       "2024-06-24    2330.000000\n",
       "2024-06-25    2316.600098\n",
       "2024-06-26    2299.199951\n",
       "2024-06-27    2324.500000\n",
       "2024-06-28    2327.699951\n",
       "Name: Gold, Length: 5148, dtype: float64"
      ]
     },
     "execution_count": 5,
     "metadata": {},
     "output_type": "execute_result"
    }
   ],
   "source": [
    "# Baixar dados do Ibovespa e outras variáveis\n",
    "\n",
    "ibov = yf.download('^BVSP', start=start_date, end=end_date)['Close']\n",
    "ibov.rename('IBOV', inplace=True)\n",
    "sp500 = yf.download('^GSPC', start=start_date, end=end_date)['Close']  # S&P 500\n",
    "sp500.rename('SP500', inplace=True)\n",
    "nasdaq = yf.download('^IXIC', start=start_date, end=end_date)['Close'] # Nasdaq Composite\n",
    "nasdaq.rename('NASDAQ Composite', inplace=True)\n",
    "dax = yf.download('^GDAXI', start=start_date, end=end_date)['Close'] # DAX\n",
    "dax.rename('DAX', inplace=True)\n",
    "ftse = yf.download('^FTSE', start=start_date, end=end_date)['Close'] # FTSE 100\n",
    "ftse.rename('FTSE 100', inplace=True)\n",
    "nikkei = yf.download('^N225', start=start_date, end=end_date)['Close'] # Nikkei 225\n",
    "nikkei.rename('Nikkei 225', inplace=True)\n",
    "hsi = yf.download('^HSI', start=start_date, end=end_date)['Close'] # Hang Seng Index\n",
    "hsi.rename('Hang Seng Index', inplace=True)\n",
    "cac40 = yf.download('^FCHI', start=start_date, end=end_date)['Close'] # CAC 40\n",
    "cac40.rename('CAC 40', inplace=True)\n",
    "vti = yf.download('VTI', start=start_date, end=end_date)['Close'] # Vanguard Total Stock Market ETF\n",
    "vti.rename('VTI', inplace=True)\n",
    "eem = yf.download('EEM', start=start_date, end=end_date)['Close'] # iShares MSCI Emerging Markets ETF\n",
    "eem.rename('EEM', inplace=True)\n",
    "acwi = yf.download('ACWI', start=start_date, end=end_date)['Close'] # iShares MSCI ACWI ETF\n",
    "acwi.rename('ACWI', inplace=True)\n",
    "gld = yf.download('GLD', start=start_date, end=end_date)['Close'] # SPDR Gold Shares\n",
    "gld.rename('GLD', inplace=True)\n",
    "ioo = yf.download('IOO', start=start_date, end=end_date)['Close'] # iShares Global 100 ETF\n",
    "ioo.rename('IOO', inplace=True)\n",
    "iee = yf.download('IEE', start=start_date, end=end_date)['Close'] # Índice de Energia\n",
    "iee.rename('IEE', inplace=True)\n",
    "usd_brl = yf.download('BRL=X', start=start_date, end=end_date)['Close']  # Taxa de câmbio USD/BRL\n",
    "usd_brl.rename('USD/BRL', inplace=True)\n",
    "oil = yf.download('CL=F', start=start_date, end=end_date)['Close']  # Preço do petróleo\n",
    "oil.rename('Oil', inplace=True)\n",
    "ewz = yf.download('EWZ', start=start_date, end=end_date)['Close'] #ETF EWZ - ibov em dólar\n",
    "ewz.rename('EWZ', inplace=True)\n",
    "eem = yf.download('EEM', start=start_date, end=end_date)['Close'] #ETF EEM - grande e médias empresas de 26 países emergentes\n",
    "eem.rename('EEM', inplace=True)\n",
    "gold = yf.download('GC=F', start=start_date, end=end_date)['Close'] #preço do ouro\n",
    "gold.rename('Gold', inplace=True)"
   ]
  },
  {
   "cell_type": "code",
   "execution_count": 6,
   "metadata": {},
   "outputs": [
    {
     "name": "stderr",
     "output_type": "stream",
     "text": [
      "[*********************100%%**********************]  1 of 1 completed\n",
      "[*********************100%%**********************]  1 of 1 completed\n",
      "[*********************100%%**********************]  1 of 1 completed\n",
      "[*********************100%%**********************]  1 of 1 completed\n",
      "[*********************100%%**********************]  1 of 1 completed\n",
      "[*********************100%%**********************]  1 of 1 completed\n",
      "[*********************100%%**********************]  1 of 1 completed\n",
      "[*********************100%%**********************]  1 of 1 completed\n",
      "[*********************100%%**********************]  1 of 1 completed\n",
      "[*********************100%%**********************]  1 of 1 completed\n",
      "[*********************100%%**********************]  1 of 1 completed\n",
      "[*********************100%%**********************]  1 of 1 completed\n",
      "[*********************100%%**********************]  1 of 1 completed\n",
      "[*********************100%%**********************]  1 of 1 completed\n",
      "[*********************100%%**********************]  1 of 1 completed\n",
      "[*********************100%%**********************]  1 of 1 completed\n",
      "[*********************100%%**********************]  1 of 1 completed\n",
      "[*********************100%%**********************]  1 of 1 completed\n",
      "[*********************100%%**********************]  1 of 1 completed\n",
      "[*********************100%%**********************]  1 of 1 completed\n",
      "[*********************100%%**********************]  1 of 1 completed\n",
      "[*********************100%%**********************]  1 of 1 completed\n",
      "[*********************100%%**********************]  1 of 1 completed\n",
      "[*********************100%%**********************]  1 of 1 completed\n"
     ]
    },
    {
     "data": {
      "text/plain": [
       "Date\n",
       "2009-04-17     45.849998\n",
       "2009-04-20     44.419998\n",
       "2009-04-22     44.990002\n",
       "2009-04-23     45.900002\n",
       "2009-04-24     46.689999\n",
       "                 ...    \n",
       "2024-06-24    119.080002\n",
       "2024-06-25    118.900002\n",
       "2024-06-26    119.139999\n",
       "2024-06-27    120.800003\n",
       "2024-06-28    120.379997\n",
       "Name: BOVA11, Length: 3743, dtype: float64"
      ]
     },
     "execution_count": 6,
     "metadata": {},
     "output_type": "execute_result"
    }
   ],
   "source": [
    " #Baixar dados dos principais presentes nos índices IFNC, IMAT, IEE e PETR4\n",
    "\n",
    "# IFNC\n",
    "itub4 = yf.download('ITUB4.SA', start=start_date, end=end_date)['Close'] #Itau\n",
    "itub4.rename('ITUB4', inplace=True)\n",
    "bbas3 = yf.download('BBAS3.SA', start=start_date, end=end_date)['Close'] #Banco do Brasil\n",
    "bbas3.rename('BBAS3', inplace=True)\n",
    "b3sa3 = yf.download('B3SA3.SA', start=start_date, end=end_date)['Close'] #B3\n",
    "b3sa3.rename('B3SA3', inplace=True)\n",
    "bbdc4 = yf.download('BBDC4.SA', start=start_date, end=end_date)['Close'] #Banco Bradesco\n",
    "bbdc4.rename('BBDC4', inplace=True)\n",
    "bpac11 = yf.download('BPAC11.SA', start=start_date, end=end_date)['Close'] #Banco do BTG\n",
    "bpac11.rename('BPAC11', inplace=True)\n",
    "sanb11 = yf.download('SANB11.SA', start=start_date, end=end_date)['Close'] #Santander\n",
    "sanb11.rename('SANB11', inplace=True)\n",
    "itsa4 = yf.download('ITSA4.SA', start=start_date, end=end_date)['Close'] #Itaúsa\n",
    "itsa4.rename('ITSA4', inplace=True)\n",
    "\n",
    "# IMAT\n",
    "vale3 = yf.download('VALE3.SA', start=start_date, end=end_date)['Close'] #Vale\n",
    "vale3.rename('VALE3', inplace=True)\n",
    "suzb3 = yf.download('SUZB3.SA', start=start_date, end=end_date)['Close'] #Suzano\n",
    "suzb3.rename('SUZB3', inplace=True)\n",
    "ggbr4 = yf.download('GGBR4.SA', start=start_date, end=end_date)['Close'] #Gerdau\n",
    "ggbr4.rename('GGBR4', inplace=True)\n",
    "klbn11 = yf.download('KLBN11.SA', start=start_date, end=end_date)['Close'] #Klabin\n",
    "klbn11.rename('KLBN11', inplace=True)\n",
    "csna3 = yf.download('CSNA3.SA', start=start_date, end=end_date)['Close'] #Cosan\n",
    "csna3.rename('CSNA3', inplace=True)\n",
    "goau4 = yf.download('GOAU4.SA', start=start_date, end=end_date)['Close'] #Metalúrgica Gerdau\n",
    "goau4.rename('GOAU4', inplace=True)\n",
    "\n",
    "# IEE\n",
    "cmig4 = yf.download('CMIG4.SA', start=start_date, end=end_date)['Close'] #Cemig\n",
    "cmig4.rename('CMIG4', inplace=True)\n",
    "coce5 = yf.download('COCE5.SA', start=start_date, end=end_date)['Close'] #Coce\n",
    "coce5.rename('COCE5', inplace=True)\n",
    "engi11 = yf.download('ENGI11.SA', start=start_date, end=end_date)['Close'] #Energisa\n",
    "engi11.rename('ENGI11', inplace=True)\n",
    "cple6 = yf.download('CPLE6.SA', start=start_date, end=end_date)['Close'] #Copel\n",
    "cple6.rename('CPLE6', inplace=True)\n",
    "srna3 = yf.download('SRNA3.SA', start=start_date, end=end_date)['Close'] #Serena\n",
    "srna3.rename('SRNA3', inplace=True)\n",
    "egie3 = yf.download('EGIE3.SA', start=start_date, end=end_date)['Close'] #Engie Brasil\n",
    "egie3.rename('EGIE3', inplace=True)\n",
    "ligt3 = yf.download('LIGT3.SA', start=start_date, end=end_date)['Close'] #Light\n",
    "ligt3.rename('LIGT3', inplace=True)\n",
    "\n",
    "# CONSUMO E VAREJO\n",
    "mglu3 = yf.download('MGLU3.SA', start=start_date, end=end_date)['Close'] #Magazine Luiza\n",
    "mglu3.rename('MGLU3', inplace=True)\n",
    "\n",
    "# PETR4\n",
    "petr4 = yf.download('PETR4.SA', start=start_date, end=end_date)['Close'] #Petrobras\n",
    "petr4.rename('PETR4', inplace=True)\n",
    "\n",
    "#OUTROS ÍNDICES ETF\n",
    "smal11 = yf.download('SMAL11.SA', start=start_date, end=end_date)['Close'] #Índice Small Caps\n",
    "smal11.rename('SMAL11', inplace=True)\n",
    "bova11 = yf.download('BOVA11.SA', start=start_date, end=end_date)['Close'] #BOVA11 - ETF que reflete o IBOV\n",
    "bova11.rename('BOVA11', inplace=True)"
   ]
  },
  {
   "cell_type": "code",
   "execution_count": 7,
   "metadata": {},
   "outputs": [],
   "source": [
    "# Reamostrar a Taxa Selic para a frequência do Ibovespa\n",
    "selic = selic.reindex(ibov.index, method='ffill')\n",
    "\n",
    "# Calcular correlação da Selic com o Ibovespa\n",
    "selic_corr = ibov.corr(selic['selic'])\n",
    "\n"
   ]
  },
  {
   "cell_type": "code",
   "execution_count": 8,
   "metadata": {},
   "outputs": [
    {
     "name": "stdout",
     "output_type": "stream",
     "text": [
      "              Ticker  Correlation\n",
      "0              SP500     0.893188\n",
      "1   NASDAQ Composite     0.901262\n",
      "2                DAX     0.868615\n",
      "3           FTSE 100     0.721132\n",
      "4         Nikkei 225     0.815365\n",
      "5    Hang Seng Index     0.486474\n",
      "6             CAC 40     0.747128\n",
      "7             BOVA11     0.999700\n",
      "8                EWZ    -0.019755\n",
      "9                EEM     0.652754\n",
      "10               VTI     0.893768\n",
      "11              ACWI     0.892929\n",
      "12               GLD     0.788383\n",
      "13               IOO     0.880738\n",
      "14            SMAL11     0.920442\n",
      "15           USD/BRL     0.767502\n",
      "16               Oil     0.157408\n",
      "17              Gold     0.831574\n",
      "18             ITUB4     0.873531\n",
      "19             BBAS3     0.882286\n",
      "20             B3SA3     0.550996\n",
      "21             BBDC4     0.579919\n",
      "22            BPAC11     0.927826\n",
      "23            SANB11     0.802020\n",
      "24             ITSA4     0.912526\n",
      "25             VALE3     0.856281\n",
      "26             SUZB3     0.914612\n",
      "27             GGBR4     0.600470\n",
      "28            KLBN11     0.626344\n",
      "29             CSNA3     0.411569\n",
      "30             GOAU4    -0.201085\n",
      "31             CMIG4    -0.475870\n",
      "32             COCE5     0.776629\n",
      "33            ENGI11     0.925690\n",
      "34             CPLE6     0.899367\n",
      "35             SRNA3    -0.207943\n",
      "36             EGIE3     0.882767\n",
      "37             LIGT3    -0.522016\n",
      "38             PETR4     0.573252\n",
      "39             MGLU3     0.614363\n",
      "40               IEE    -0.169744\n",
      "41             SELIC    -0.596570\n"
     ]
    }
   ],
   "source": [
    "# Criar o DataFrame de correlações\n",
    "index = [sp500, nasdaq, dax, ftse, nikkei, hsi, cac40, bova11,\n",
    "         ewz, eem, vti, acwi, gld, ioo, smal11,\n",
    "         usd_brl,\n",
    "         oil, gold,\n",
    "         itub4, bbas3, b3sa3, bbdc4, bpac11, sanb11, itsa4,\n",
    "         vale3, suzb3, ggbr4, klbn11, csna3, goau4,\n",
    "         cmig4, coce5, engi11, cple6, srna3, egie3, ligt3, petr4,\n",
    "         mglu3,\n",
    "         iee]\n",
    "corr_df = []\n",
    "for i in index:\n",
    "    corr_df.append({\n",
    "        'Ticker': i.name,\n",
    "        'Correlation': ibov.corr(i)\n",
    "    })\n",
    "\n",
    "# Adicionar a correlação da Selic ao DataFrame\n",
    "corr_df.append({\n",
    "    'Ticker': 'SELIC',\n",
    "    'Correlation': selic_corr\n",
    "})\n",
    "\n",
    "corr_df = pd.DataFrame(corr_df)\n",
    "\n",
    "pd.set_option('display.max_rows', None)\n",
    "print(corr_df)"
   ]
  },
  {
   "cell_type": "code",
   "execution_count": 9,
   "metadata": {},
   "outputs": [
    {
     "data": {
      "application/vnd.plotly.v1+json": {
       "config": {
        "plotlyServerURL": "https://plot.ly"
       },
       "data": [
        {
         "alignmentgroup": "True",
         "hovertemplate": "Categoria=Índices Globais<br>Ativo/Índice=%{x}<br>Correlação=%{text}<extra></extra>",
         "legendgroup": "Índices Globais",
         "marker": {
          "color": "#636efa",
          "pattern": {
           "shape": ""
          }
         },
         "name": "Índices Globais",
         "offsetgroup": "Índices Globais",
         "orientation": "v",
         "showlegend": true,
         "text": [
          0.8931878333349385,
          0.9012623323916419,
          0.8686147022526455,
          0.721132117618467,
          0.8153645679058654,
          0.48647441745438436,
          0.7471277893467059,
          0.9997000014605499
         ],
         "textposition": "outside",
         "texttemplate": "%{text:.2f}",
         "type": "bar",
         "x": [
          "SP500",
          "NASDAQ Composite",
          "DAX",
          "FTSE 100",
          "Nikkei 225",
          "Hang Seng Index",
          "CAC 40",
          "BOVA11"
         ],
         "xaxis": "x",
         "y": [
          0.8931878333349385,
          0.9012623323916419,
          0.8686147022526455,
          0.721132117618467,
          0.8153645679058654,
          0.48647441745438436,
          0.7471277893467059,
          0.9997000014605499
         ],
         "yaxis": "y"
        },
        {
         "alignmentgroup": "True",
         "hovertemplate": "Categoria=ETFs<br>Ativo/Índice=%{x}<br>Correlação=%{text}<extra></extra>",
         "legendgroup": "ETFs",
         "marker": {
          "color": "#EF553B",
          "pattern": {
           "shape": ""
          }
         },
         "name": "ETFs",
         "offsetgroup": "ETFs",
         "orientation": "v",
         "showlegend": true,
         "text": [
          -0.01975523513420437,
          0.6527536560029,
          0.9204416727098922
         ],
         "textposition": "outside",
         "texttemplate": "%{text:.2f}",
         "type": "bar",
         "x": [
          "EWZ",
          "EEM",
          "SMAL11"
         ],
         "xaxis": "x",
         "y": [
          -0.01975523513420437,
          0.6527536560029,
          0.9204416727098922
         ],
         "yaxis": "y"
        },
        {
         "alignmentgroup": "True",
         "hovertemplate": "Categoria=Outros<br>Ativo/Índice=%{x}<br>Correlação=%{text}<extra></extra>",
         "legendgroup": "Outros",
         "marker": {
          "color": "#00cc96",
          "pattern": {
           "shape": ""
          }
         },
         "name": "Outros",
         "offsetgroup": "Outros",
         "orientation": "v",
         "showlegend": true,
         "text": [
          0.8937678722785858,
          0.8929294792909573,
          0.7883825839631555,
          0.8807377013393077,
          -0.16974379183609709,
          -0.5965700269252525
         ],
         "textposition": "outside",
         "texttemplate": "%{text:.2f}",
         "type": "bar",
         "x": [
          "VTI",
          "ACWI",
          "GLD",
          "IOO",
          "IEE",
          "SELIC"
         ],
         "xaxis": "x",
         "y": [
          0.8937678722785858,
          0.8929294792909573,
          0.7883825839631555,
          0.8807377013393077,
          -0.16974379183609709,
          -0.5965700269252525
         ],
         "yaxis": "y"
        },
        {
         "alignmentgroup": "True",
         "hovertemplate": "Categoria=Moedas<br>Ativo/Índice=%{x}<br>Correlação=%{text}<extra></extra>",
         "legendgroup": "Moedas",
         "marker": {
          "color": "#ab63fa",
          "pattern": {
           "shape": ""
          }
         },
         "name": "Moedas",
         "offsetgroup": "Moedas",
         "orientation": "v",
         "showlegend": true,
         "text": [
          0.7675016951560166
         ],
         "textposition": "outside",
         "texttemplate": "%{text:.2f}",
         "type": "bar",
         "x": [
          "USD/BRL"
         ],
         "xaxis": "x",
         "y": [
          0.7675016951560166
         ],
         "yaxis": "y"
        },
        {
         "alignmentgroup": "True",
         "hovertemplate": "Categoria=Commodities<br>Ativo/Índice=%{x}<br>Correlação=%{text}<extra></extra>",
         "legendgroup": "Commodities",
         "marker": {
          "color": "#FFA15A",
          "pattern": {
           "shape": ""
          }
         },
         "name": "Commodities",
         "offsetgroup": "Commodities",
         "orientation": "v",
         "showlegend": true,
         "text": [
          0.15740834227152078,
          0.8315744803438871
         ],
         "textposition": "outside",
         "texttemplate": "%{text:.2f}",
         "type": "bar",
         "x": [
          "Oil",
          "Gold"
         ],
         "xaxis": "x",
         "y": [
          0.15740834227152078,
          0.8315744803438871
         ],
         "yaxis": "y"
        },
        {
         "alignmentgroup": "True",
         "hovertemplate": "Categoria=Bancos<br>Ativo/Índice=%{x}<br>Correlação=%{text}<extra></extra>",
         "legendgroup": "Bancos",
         "marker": {
          "color": "#19d3f3",
          "pattern": {
           "shape": ""
          }
         },
         "name": "Bancos",
         "offsetgroup": "Bancos",
         "orientation": "v",
         "showlegend": true,
         "text": [
          0.8735312080747739,
          0.8822862659448312,
          0.5509961372144334,
          0.5799187403562578,
          0.9278264309914818,
          0.8020200093811709,
          0.9125260091369619
         ],
         "textposition": "outside",
         "texttemplate": "%{text:.2f}",
         "type": "bar",
         "x": [
          "ITUB4",
          "BBAS3",
          "B3SA3",
          "BBDC4",
          "BPAC11",
          "SANB11",
          "ITSA4"
         ],
         "xaxis": "x",
         "y": [
          0.8735312080747739,
          0.8822862659448312,
          0.5509961372144334,
          0.5799187403562578,
          0.9278264309914818,
          0.8020200093811709,
          0.9125260091369619
         ],
         "yaxis": "y"
        },
        {
         "alignmentgroup": "True",
         "hovertemplate": "Categoria=Materiais<br>Ativo/Índice=%{x}<br>Correlação=%{text}<extra></extra>",
         "legendgroup": "Materiais",
         "marker": {
          "color": "#FF6692",
          "pattern": {
           "shape": ""
          }
         },
         "name": "Materiais",
         "offsetgroup": "Materiais",
         "orientation": "v",
         "showlegend": true,
         "text": [
          0.8562805165681064,
          0.9146118984939122,
          0.6004703310535687,
          0.6263442083634744,
          0.41156891234740195,
          -0.20108469656388725
         ],
         "textposition": "outside",
         "texttemplate": "%{text:.2f}",
         "type": "bar",
         "x": [
          "VALE3",
          "SUZB3",
          "GGBR4",
          "KLBN11",
          "CSNA3",
          "GOAU4"
         ],
         "xaxis": "x",
         "y": [
          0.8562805165681064,
          0.9146118984939122,
          0.6004703310535687,
          0.6263442083634744,
          0.41156891234740195,
          -0.20108469656388725
         ],
         "yaxis": "y"
        },
        {
         "alignmentgroup": "True",
         "hovertemplate": "Categoria=Energia<br>Ativo/Índice=%{x}<br>Correlação=%{text}<extra></extra>",
         "legendgroup": "Energia",
         "marker": {
          "color": "#B6E880",
          "pattern": {
           "shape": ""
          }
         },
         "name": "Energia",
         "offsetgroup": "Energia",
         "orientation": "v",
         "showlegend": true,
         "text": [
          -0.47587015060809745,
          0.7766286818658841,
          0.9256896146601433,
          0.8993671442688013,
          -0.2079426756419735,
          0.8827671015160833,
          -0.5220160246081653,
          0.5732522830294888
         ],
         "textposition": "outside",
         "texttemplate": "%{text:.2f}",
         "type": "bar",
         "x": [
          "CMIG4",
          "COCE5",
          "ENGI11",
          "CPLE6",
          "SRNA3",
          "EGIE3",
          "LIGT3",
          "PETR4"
         ],
         "xaxis": "x",
         "y": [
          -0.47587015060809745,
          0.7766286818658841,
          0.9256896146601433,
          0.8993671442688013,
          -0.2079426756419735,
          0.8827671015160833,
          -0.5220160246081653,
          0.5732522830294888
         ],
         "yaxis": "y"
        },
        {
         "alignmentgroup": "True",
         "hovertemplate": "Categoria=Consumo e Varejo<br>Ativo/Índice=%{x}<br>Correlação=%{text}<extra></extra>",
         "legendgroup": "Consumo e Varejo",
         "marker": {
          "color": "#FF97FF",
          "pattern": {
           "shape": ""
          }
         },
         "name": "Consumo e Varejo",
         "offsetgroup": "Consumo e Varejo",
         "orientation": "v",
         "showlegend": true,
         "text": [
          0.6143630853174391
         ],
         "textposition": "outside",
         "texttemplate": "%{text:.2f}",
         "type": "bar",
         "x": [
          "MGLU3"
         ],
         "xaxis": "x",
         "y": [
          0.6143630853174391
         ],
         "yaxis": "y"
        }
       ],
       "layout": {
        "annotations": [
         {
          "showarrow": false,
          "text": "Forte Correlação Positiva",
          "x": 1,
          "xanchor": "right",
          "xref": "x domain",
          "y": 0.7,
          "yanchor": "top",
          "yref": "y"
         },
         {
          "showarrow": false,
          "text": "Forte Correlação Negativa",
          "x": 1,
          "xanchor": "right",
          "xref": "x domain",
          "y": -0.7,
          "yanchor": "bottom",
          "yref": "y"
         }
        ],
        "barmode": "relative",
        "legend": {
         "title": {
          "text": "Categoria"
         },
         "tracegroupgap": 0
        },
        "margin": {
         "b": 120,
         "l": 40,
         "r": 40,
         "t": 80
        },
        "shapes": [
         {
          "fillcolor": "gray",
          "layer": "below",
          "line": {
           "width": 0
          },
          "opacity": 0.3,
          "type": "rect",
          "x0": -0.5,
          "x1": 41.5,
          "y0": -0.7,
          "y1": 0.7
         },
         {
          "line": {
           "color": "gray",
           "dash": "dash"
          },
          "type": "line",
          "x0": 0,
          "x1": 1,
          "xref": "x domain",
          "y0": 0.7,
          "y1": 0.7,
          "yref": "y"
         },
         {
          "line": {
           "color": "gray",
           "dash": "dash"
          },
          "type": "line",
          "x0": 0,
          "x1": 1,
          "xref": "x domain",
          "y0": -0.7,
          "y1": -0.7,
          "yref": "y"
         }
        ],
        "template": {
         "data": {
          "bar": [
           {
            "error_x": {
             "color": "#2a3f5f"
            },
            "error_y": {
             "color": "#2a3f5f"
            },
            "marker": {
             "line": {
              "color": "#E5ECF6",
              "width": 0.5
             },
             "pattern": {
              "fillmode": "overlay",
              "size": 10,
              "solidity": 0.2
             }
            },
            "type": "bar"
           }
          ],
          "barpolar": [
           {
            "marker": {
             "line": {
              "color": "#E5ECF6",
              "width": 0.5
             },
             "pattern": {
              "fillmode": "overlay",
              "size": 10,
              "solidity": 0.2
             }
            },
            "type": "barpolar"
           }
          ],
          "carpet": [
           {
            "aaxis": {
             "endlinecolor": "#2a3f5f",
             "gridcolor": "white",
             "linecolor": "white",
             "minorgridcolor": "white",
             "startlinecolor": "#2a3f5f"
            },
            "baxis": {
             "endlinecolor": "#2a3f5f",
             "gridcolor": "white",
             "linecolor": "white",
             "minorgridcolor": "white",
             "startlinecolor": "#2a3f5f"
            },
            "type": "carpet"
           }
          ],
          "choropleth": [
           {
            "colorbar": {
             "outlinewidth": 0,
             "ticks": ""
            },
            "type": "choropleth"
           }
          ],
          "contour": [
           {
            "colorbar": {
             "outlinewidth": 0,
             "ticks": ""
            },
            "colorscale": [
             [
              0,
              "#0d0887"
             ],
             [
              0.1111111111111111,
              "#46039f"
             ],
             [
              0.2222222222222222,
              "#7201a8"
             ],
             [
              0.3333333333333333,
              "#9c179e"
             ],
             [
              0.4444444444444444,
              "#bd3786"
             ],
             [
              0.5555555555555556,
              "#d8576b"
             ],
             [
              0.6666666666666666,
              "#ed7953"
             ],
             [
              0.7777777777777778,
              "#fb9f3a"
             ],
             [
              0.8888888888888888,
              "#fdca26"
             ],
             [
              1,
              "#f0f921"
             ]
            ],
            "type": "contour"
           }
          ],
          "contourcarpet": [
           {
            "colorbar": {
             "outlinewidth": 0,
             "ticks": ""
            },
            "type": "contourcarpet"
           }
          ],
          "heatmap": [
           {
            "colorbar": {
             "outlinewidth": 0,
             "ticks": ""
            },
            "colorscale": [
             [
              0,
              "#0d0887"
             ],
             [
              0.1111111111111111,
              "#46039f"
             ],
             [
              0.2222222222222222,
              "#7201a8"
             ],
             [
              0.3333333333333333,
              "#9c179e"
             ],
             [
              0.4444444444444444,
              "#bd3786"
             ],
             [
              0.5555555555555556,
              "#d8576b"
             ],
             [
              0.6666666666666666,
              "#ed7953"
             ],
             [
              0.7777777777777778,
              "#fb9f3a"
             ],
             [
              0.8888888888888888,
              "#fdca26"
             ],
             [
              1,
              "#f0f921"
             ]
            ],
            "type": "heatmap"
           }
          ],
          "heatmapgl": [
           {
            "colorbar": {
             "outlinewidth": 0,
             "ticks": ""
            },
            "colorscale": [
             [
              0,
              "#0d0887"
             ],
             [
              0.1111111111111111,
              "#46039f"
             ],
             [
              0.2222222222222222,
              "#7201a8"
             ],
             [
              0.3333333333333333,
              "#9c179e"
             ],
             [
              0.4444444444444444,
              "#bd3786"
             ],
             [
              0.5555555555555556,
              "#d8576b"
             ],
             [
              0.6666666666666666,
              "#ed7953"
             ],
             [
              0.7777777777777778,
              "#fb9f3a"
             ],
             [
              0.8888888888888888,
              "#fdca26"
             ],
             [
              1,
              "#f0f921"
             ]
            ],
            "type": "heatmapgl"
           }
          ],
          "histogram": [
           {
            "marker": {
             "pattern": {
              "fillmode": "overlay",
              "size": 10,
              "solidity": 0.2
             }
            },
            "type": "histogram"
           }
          ],
          "histogram2d": [
           {
            "colorbar": {
             "outlinewidth": 0,
             "ticks": ""
            },
            "colorscale": [
             [
              0,
              "#0d0887"
             ],
             [
              0.1111111111111111,
              "#46039f"
             ],
             [
              0.2222222222222222,
              "#7201a8"
             ],
             [
              0.3333333333333333,
              "#9c179e"
             ],
             [
              0.4444444444444444,
              "#bd3786"
             ],
             [
              0.5555555555555556,
              "#d8576b"
             ],
             [
              0.6666666666666666,
              "#ed7953"
             ],
             [
              0.7777777777777778,
              "#fb9f3a"
             ],
             [
              0.8888888888888888,
              "#fdca26"
             ],
             [
              1,
              "#f0f921"
             ]
            ],
            "type": "histogram2d"
           }
          ],
          "histogram2dcontour": [
           {
            "colorbar": {
             "outlinewidth": 0,
             "ticks": ""
            },
            "colorscale": [
             [
              0,
              "#0d0887"
             ],
             [
              0.1111111111111111,
              "#46039f"
             ],
             [
              0.2222222222222222,
              "#7201a8"
             ],
             [
              0.3333333333333333,
              "#9c179e"
             ],
             [
              0.4444444444444444,
              "#bd3786"
             ],
             [
              0.5555555555555556,
              "#d8576b"
             ],
             [
              0.6666666666666666,
              "#ed7953"
             ],
             [
              0.7777777777777778,
              "#fb9f3a"
             ],
             [
              0.8888888888888888,
              "#fdca26"
             ],
             [
              1,
              "#f0f921"
             ]
            ],
            "type": "histogram2dcontour"
           }
          ],
          "mesh3d": [
           {
            "colorbar": {
             "outlinewidth": 0,
             "ticks": ""
            },
            "type": "mesh3d"
           }
          ],
          "parcoords": [
           {
            "line": {
             "colorbar": {
              "outlinewidth": 0,
              "ticks": ""
             }
            },
            "type": "parcoords"
           }
          ],
          "pie": [
           {
            "automargin": true,
            "type": "pie"
           }
          ],
          "scatter": [
           {
            "fillpattern": {
             "fillmode": "overlay",
             "size": 10,
             "solidity": 0.2
            },
            "type": "scatter"
           }
          ],
          "scatter3d": [
           {
            "line": {
             "colorbar": {
              "outlinewidth": 0,
              "ticks": ""
             }
            },
            "marker": {
             "colorbar": {
              "outlinewidth": 0,
              "ticks": ""
             }
            },
            "type": "scatter3d"
           }
          ],
          "scattercarpet": [
           {
            "marker": {
             "colorbar": {
              "outlinewidth": 0,
              "ticks": ""
             }
            },
            "type": "scattercarpet"
           }
          ],
          "scattergeo": [
           {
            "marker": {
             "colorbar": {
              "outlinewidth": 0,
              "ticks": ""
             }
            },
            "type": "scattergeo"
           }
          ],
          "scattergl": [
           {
            "marker": {
             "colorbar": {
              "outlinewidth": 0,
              "ticks": ""
             }
            },
            "type": "scattergl"
           }
          ],
          "scattermapbox": [
           {
            "marker": {
             "colorbar": {
              "outlinewidth": 0,
              "ticks": ""
             }
            },
            "type": "scattermapbox"
           }
          ],
          "scatterpolar": [
           {
            "marker": {
             "colorbar": {
              "outlinewidth": 0,
              "ticks": ""
             }
            },
            "type": "scatterpolar"
           }
          ],
          "scatterpolargl": [
           {
            "marker": {
             "colorbar": {
              "outlinewidth": 0,
              "ticks": ""
             }
            },
            "type": "scatterpolargl"
           }
          ],
          "scatterternary": [
           {
            "marker": {
             "colorbar": {
              "outlinewidth": 0,
              "ticks": ""
             }
            },
            "type": "scatterternary"
           }
          ],
          "surface": [
           {
            "colorbar": {
             "outlinewidth": 0,
             "ticks": ""
            },
            "colorscale": [
             [
              0,
              "#0d0887"
             ],
             [
              0.1111111111111111,
              "#46039f"
             ],
             [
              0.2222222222222222,
              "#7201a8"
             ],
             [
              0.3333333333333333,
              "#9c179e"
             ],
             [
              0.4444444444444444,
              "#bd3786"
             ],
             [
              0.5555555555555556,
              "#d8576b"
             ],
             [
              0.6666666666666666,
              "#ed7953"
             ],
             [
              0.7777777777777778,
              "#fb9f3a"
             ],
             [
              0.8888888888888888,
              "#fdca26"
             ],
             [
              1,
              "#f0f921"
             ]
            ],
            "type": "surface"
           }
          ],
          "table": [
           {
            "cells": {
             "fill": {
              "color": "#EBF0F8"
             },
             "line": {
              "color": "white"
             }
            },
            "header": {
             "fill": {
              "color": "#C8D4E3"
             },
             "line": {
              "color": "white"
             }
            },
            "type": "table"
           }
          ]
         },
         "layout": {
          "annotationdefaults": {
           "arrowcolor": "#2a3f5f",
           "arrowhead": 0,
           "arrowwidth": 1
          },
          "autotypenumbers": "strict",
          "coloraxis": {
           "colorbar": {
            "outlinewidth": 0,
            "ticks": ""
           }
          },
          "colorscale": {
           "diverging": [
            [
             0,
             "#8e0152"
            ],
            [
             0.1,
             "#c51b7d"
            ],
            [
             0.2,
             "#de77ae"
            ],
            [
             0.3,
             "#f1b6da"
            ],
            [
             0.4,
             "#fde0ef"
            ],
            [
             0.5,
             "#f7f7f7"
            ],
            [
             0.6,
             "#e6f5d0"
            ],
            [
             0.7,
             "#b8e186"
            ],
            [
             0.8,
             "#7fbc41"
            ],
            [
             0.9,
             "#4d9221"
            ],
            [
             1,
             "#276419"
            ]
           ],
           "sequential": [
            [
             0,
             "#0d0887"
            ],
            [
             0.1111111111111111,
             "#46039f"
            ],
            [
             0.2222222222222222,
             "#7201a8"
            ],
            [
             0.3333333333333333,
             "#9c179e"
            ],
            [
             0.4444444444444444,
             "#bd3786"
            ],
            [
             0.5555555555555556,
             "#d8576b"
            ],
            [
             0.6666666666666666,
             "#ed7953"
            ],
            [
             0.7777777777777778,
             "#fb9f3a"
            ],
            [
             0.8888888888888888,
             "#fdca26"
            ],
            [
             1,
             "#f0f921"
            ]
           ],
           "sequentialminus": [
            [
             0,
             "#0d0887"
            ],
            [
             0.1111111111111111,
             "#46039f"
            ],
            [
             0.2222222222222222,
             "#7201a8"
            ],
            [
             0.3333333333333333,
             "#9c179e"
            ],
            [
             0.4444444444444444,
             "#bd3786"
            ],
            [
             0.5555555555555556,
             "#d8576b"
            ],
            [
             0.6666666666666666,
             "#ed7953"
            ],
            [
             0.7777777777777778,
             "#fb9f3a"
            ],
            [
             0.8888888888888888,
             "#fdca26"
            ],
            [
             1,
             "#f0f921"
            ]
           ]
          },
          "colorway": [
           "#636efa",
           "#EF553B",
           "#00cc96",
           "#ab63fa",
           "#FFA15A",
           "#19d3f3",
           "#FF6692",
           "#B6E880",
           "#FF97FF",
           "#FECB52"
          ],
          "font": {
           "color": "#2a3f5f"
          },
          "geo": {
           "bgcolor": "white",
           "lakecolor": "white",
           "landcolor": "#E5ECF6",
           "showlakes": true,
           "showland": true,
           "subunitcolor": "white"
          },
          "hoverlabel": {
           "align": "left"
          },
          "hovermode": "closest",
          "mapbox": {
           "style": "light"
          },
          "paper_bgcolor": "white",
          "plot_bgcolor": "#E5ECF6",
          "polar": {
           "angularaxis": {
            "gridcolor": "white",
            "linecolor": "white",
            "ticks": ""
           },
           "bgcolor": "#E5ECF6",
           "radialaxis": {
            "gridcolor": "white",
            "linecolor": "white",
            "ticks": ""
           }
          },
          "scene": {
           "xaxis": {
            "backgroundcolor": "#E5ECF6",
            "gridcolor": "white",
            "gridwidth": 2,
            "linecolor": "white",
            "showbackground": true,
            "ticks": "",
            "zerolinecolor": "white"
           },
           "yaxis": {
            "backgroundcolor": "#E5ECF6",
            "gridcolor": "white",
            "gridwidth": 2,
            "linecolor": "white",
            "showbackground": true,
            "ticks": "",
            "zerolinecolor": "white"
           },
           "zaxis": {
            "backgroundcolor": "#E5ECF6",
            "gridcolor": "white",
            "gridwidth": 2,
            "linecolor": "white",
            "showbackground": true,
            "ticks": "",
            "zerolinecolor": "white"
           }
          },
          "shapedefaults": {
           "line": {
            "color": "#2a3f5f"
           }
          },
          "ternary": {
           "aaxis": {
            "gridcolor": "white",
            "linecolor": "white",
            "ticks": ""
           },
           "baxis": {
            "gridcolor": "white",
            "linecolor": "white",
            "ticks": ""
           },
           "bgcolor": "#E5ECF6",
           "caxis": {
            "gridcolor": "white",
            "linecolor": "white",
            "ticks": ""
           }
          },
          "title": {
           "x": 0.05
          },
          "xaxis": {
           "automargin": true,
           "gridcolor": "white",
           "linecolor": "white",
           "ticks": "",
           "title": {
            "standoff": 15
           },
           "zerolinecolor": "white",
           "zerolinewidth": 2
          },
          "yaxis": {
           "automargin": true,
           "gridcolor": "white",
           "linecolor": "white",
           "ticks": "",
           "title": {
            "standoff": 15
           },
           "zerolinecolor": "white",
           "zerolinewidth": 2
          }
         }
        },
        "title": {
         "text": "Correlação entre o Ibovespa e outras variáveis"
        },
        "xaxis": {
         "anchor": "y",
         "domain": [
          0,
          1
         ],
         "tickangle": -50,
         "title": {
          "text": "Ativo/Índice"
         }
        },
        "yaxis": {
         "anchor": "x",
         "domain": [
          0,
          1
         ],
         "range": [
          -1,
          1.2
         ],
         "title": {
          "text": "Correlação"
         }
        }
       }
      }
     },
     "metadata": {},
     "output_type": "display_data"
    }
   ],
   "source": [
    "import plotly.express as px\n",
    "\n",
    "# Adicionar uma coluna para a categoria (opcional, se não tiver categorizado antes)\n",
    "corr_df['Category'] = corr_df['Ticker'].apply(lambda x: \n",
    "                                             'Índices Globais' if x in ['SP500', 'NASDAQ Composite', 'DAX', 'FTSE 100', 'Nikkei 225', 'Hang Seng Index', 'CAC 40', 'BOVA11'] else\n",
    "                                             'ETFs' if x in ['EWZ', 'EEM', 'Vanguard Total Stock Market ETF', 'iShares MSCI ACWI ETF', 'SPDR Gold Shares', 'iShares Global 100 ETF', 'SMAL11'] else\n",
    "                                             'Moedas' if x == 'USD/BRL' else\n",
    "                                             'Commodities' if x in ['Oil', 'Gold'] else\n",
    "                                             'Bancos' if x in ['ITUB4', 'BBAS3', 'B3SA3', 'BBDC4', 'BPAC11', 'SANB11', 'ITSA4'] else\n",
    "                                             'Materiais' if x in ['VALE3', 'SUZB3', 'GGBR4', 'KLBN11', 'CSNA3', 'GOAU4'] else\n",
    "                                             'Energia' if x in ['CMIG4', 'COCE5', 'ENGI11', 'CPLE6', 'SRNA3', 'EGIE3', 'LIGT3', 'PETR4'] else\n",
    "                                             'Consumo e Varejo' if x == 'MGLU3' else\n",
    "                                             'Outros Índices' if x in ['Índice de Commodities Brasil', 'Índice de Consumo', 'Índice de Energia', 'Índice de Saúde'] else 'Outros')\n",
    "\n",
    "# Criação do gráfico\n",
    "fig = px.bar(corr_df, x='Ticker', y='Correlation', \n",
    "             color='Category',  # Adiciona a cor por categoria\n",
    "             title='Correlação entre o Ibovespa e outras variáveis',\n",
    "             text='Correlation',\n",
    "             labels={\n",
    "                 \"Ticker\": \"Ativo/Índice\",\n",
    "                 \"Correlation\": \"Correlação\",\n",
    "                 \"Category\": \"Categoria\"\n",
    "             })\n",
    "\n",
    "# Adicionar área cinza clara entre as linhas de referência\n",
    "fig.add_shape(type=\"rect\",\n",
    "              x0=-0.5, x1=len(corr_df)-0.5, y0=-0.7, y1=0.7,\n",
    "              fillcolor=\"gray\", opacity=0.3, layer=\"below\", line_width=0)\n",
    "\n",
    "# Adicionar linhas de referência horizontais\n",
    "fig.add_hline(y=0.7, line_dash=\"dash\", line_color=\"gray\", annotation_text=\"Forte Correlação Positiva\", annotation_position=\"bottom right\")\n",
    "fig.add_hline(y=-0.7, line_dash=\"dash\", line_color=\"gray\", annotation_text=\"Forte Correlação Negativa\", annotation_position=\"top right\")\n",
    "\n",
    "# Atualizar traços e layout\n",
    "fig.update_traces(texttemplate='%{text:.2f}', textposition='outside')\n",
    "fig.update_layout(xaxis_tickangle=-50, yaxis=dict(range=[-1, 1.2]),\n",
    "                  xaxis_title='Ativo/Índice', yaxis_title='Correlação',\n",
    "                  legend_title_text='Categoria', margin=dict(l=40, r=40, t=80, b=120))\n",
    "\n",
    "\n",
    "\n",
    "# Exibir o gráfico\n",
    "fig.show()\n",
    "\n"
   ]
  },
  {
   "cell_type": "code",
   "execution_count": 10,
   "metadata": {},
   "outputs": [
    {
     "name": "stderr",
     "output_type": "stream",
     "text": [
      "/tmp/ipykernel_34552/3387284582.py:20: FutureWarning:\n",
      "\n",
      "DataFrame.applymap has been deprecated. Use DataFrame.map instead.\n",
      "\n"
     ]
    },
    {
     "data": {
      "application/vnd.plotly.v1+json": {
       "config": {
        "plotlyServerURL": "https://plot.ly"
       },
       "data": [
        {
         "colorscale": [
          [
           0,
           "rgb(5,48,97)"
          ],
          [
           0.1,
           "rgb(33,102,172)"
          ],
          [
           0.2,
           "rgb(67,147,195)"
          ],
          [
           0.3,
           "rgb(146,197,222)"
          ],
          [
           0.4,
           "rgb(209,229,240)"
          ],
          [
           0.5,
           "rgb(247,247,247)"
          ],
          [
           0.6,
           "rgb(253,219,199)"
          ],
          [
           0.7,
           "rgb(244,165,130)"
          ],
          [
           0.8,
           "rgb(214,96,77)"
          ],
          [
           0.9,
           "rgb(178,24,43)"
          ],
          [
           1,
           "rgb(103,0,31)"
          ]
         ],
         "type": "heatmap",
         "x": [
          "VTI",
          "ACWI",
          "SP500",
          "GLD",
          "CAC 40",
          "Nikkei 225",
          "ITUB4",
          "DAX",
          "BPAC11",
          "IBOV",
          "NASDAQ Composite",
          "BOVA11",
          "ENGI11",
          "IOO",
          "SANB11",
          "BBDC4",
          "COCE5",
          "BBAS3",
          "ITSA4",
          "Gold",
          "USD/BRL",
          "SMAL11",
          "SUZB3",
          "B3SA3",
          "Hang Seng Index",
          "FTSE 100",
          "VALE3",
          "EWZ",
          "GGBR4",
          "CPLE6",
          "CSNA3",
          "EEM",
          "SRNA3",
          "EGIE3",
          "KLBN11",
          "Oil",
          "GOAU4",
          "PETR4",
          "CMIG4",
          "LIGT3",
          "MGLU3",
          "IEE"
         ],
         "y": [
          "VTI",
          "ACWI",
          "SP500",
          "GLD",
          "CAC 40",
          "Nikkei 225",
          "ITUB4",
          "DAX",
          "BPAC11",
          "IBOV",
          "NASDAQ Composite",
          "BOVA11",
          "ENGI11",
          "IOO",
          "SANB11",
          "BBDC4",
          "COCE5",
          "BBAS3",
          "ITSA4",
          "Gold",
          "USD/BRL",
          "SMAL11",
          "SUZB3",
          "B3SA3",
          "Hang Seng Index",
          "FTSE 100",
          "VALE3",
          "EWZ",
          "GGBR4",
          "CPLE6",
          "CSNA3",
          "EEM",
          "SRNA3",
          "EGIE3",
          "KLBN11",
          "Oil",
          "GOAU4",
          "PETR4",
          "CMIG4",
          "LIGT3",
          "MGLU3",
          "IEE"
         ],
         "z": [
          [
           null,
           1,
           1,
           0.698572295115888,
           0.9433968496882441,
           1,
           0.7719936708352968,
           1,
           0.9279627597527478,
           0.8937678722785851,
           1,
           0.8800028419289267,
           0.9066851147325595,
           1,
           0.6647914662446205,
           0.4695630042358303,
           0.6981522663523716,
           0.6752407109396311,
           0.8276201521836155,
           0.740751915180584,
           0.9252326415488306,
           0.8061639120707105,
           0.9133332931617224,
           0.38334772301246384,
           0.1938737603358168,
           0.7854905638512075,
           0.6603875456960377,
           -0.6307657902599235,
           0.3173374964060926,
           0.8111306327751777,
           0.04512693023731963,
           0.3642619346618164,
           -0.18026827640536067,
           0.8704590113532708,
           0.7052059984483126,
           -0.15371173274715164,
           -0.5349377952351886,
           0.20936067701838598,
           0.14431747299115952,
           -0.7345441343947925,
           0.5185362822334474,
           0.37777855901862717
          ],
          [
           null,
           null,
           1,
           0.6840630923200974,
           1,
           1,
           0.7775168389481942,
           1,
           0.8912124901502926,
           0.892929479290958,
           1,
           0.8757957396287892,
           0.893833311358546,
           1,
           0.6734023270763115,
           0.512968267871756,
           0.7073072103929727,
           0.6809026590683647,
           0.8333349903250006,
           0.7256734803266668,
           0.8937332951131474,
           0.8196149540518419,
           0.9001633916789632,
           0.4726991533641623,
           0.2821507194642097,
           0.8146456716855748,
           0.6823498704888874,
           -0.5678024717192941,
           0.3409131092417342,
           0.7855302982782293,
           0.09854573280650555,
           0.47648727506037264,
           -0.17301894799395937,
           0.859507810739173,
           0.7056738718720907,
           -0.09373869192782971,
           -0.48986555406455273,
           0.24666831208818354,
           0.13627705377766328,
           -0.6899644235246075,
           0.5385598060391087,
           0.0002860128075759775
          ],
          [
           null,
           null,
           null,
           0.7068919035770853,
           0.8702264136291923,
           1,
           0.7931384024046644,
           1,
           0.9329475038001804,
           0.8931878333349378,
           1,
           0.8827222499770953,
           0.9060135223781823,
           1,
           0.6550180859623521,
           0.46029200612180127,
           0.7181555263622261,
           0.7243665318555221,
           0.8295560973982863,
           0.7438232038966294,
           0.9150301742573682,
           0.7980726435414524,
           0.9110141354374136,
           0.32228571537939243,
           0.33752473281108775,
           0.7855392500971667,
           0.6994231352752799,
           -0.3961440871100539,
           0.38516652214199454,
           0.8493285770699419,
           0.13802571419652582,
           0.442610476053197,
           -0.21427117592357575,
           0.856968030352906,
           0.689369175750235,
           -0.017020021754817868,
           -0.4740115523631601,
           0.298929374536661,
           -0.3015700954265377,
           -0.7231981975000662,
           0.49588781307292856,
           0.4065909903658505
          ],
          [
           null,
           null,
           null,
           null,
           0.3803078207775382,
           0.5357933923964407,
           0.6315924027588502,
           0.705784834407609,
           0.900528315490761,
           0.7883825839631554,
           0.7290994187673379,
           0.7029643461179387,
           0.5674542122024793,
           0.6648278276841465,
           0.24497986482519707,
           0.03710019978272709,
           0.7289153255653124,
           0.6437385325264368,
           0.6735631438011704,
           1,
           0.619600593451675,
           0.6825515919770458,
           0.7603191598486955,
           0.09406535346651818,
           0.29851173470700076,
           0.5196758429950961,
           0.6207193925826489,
           -0.10167270392234348,
           0.34379861202240275,
           0.8129490921441653,
           0.19316904221242615,
           0.5358173069874542,
           -0.501259144328552,
           0.8148899353894312,
           0.5972593546563761,
           0.2067398829782793,
           -0.27844270029630597,
           0.2502380522872087,
           -0.5202252080852297,
           -0.44192788501182023,
           0.38240822045752604,
           -0.030098362104886863
          ],
          [
           null,
           null,
           null,
           null,
           null,
           0.9371708620267484,
           0.6506481170275579,
           0.8383486183087898,
           0.8084654484783067,
           0.7471277893467109,
           0.8341637117873517,
           0.8400388354291315,
           0.8402911659323492,
           0.9146547695357621,
           0.6267561718416166,
           0.476905010291636,
           0.48397216141427163,
           0.6639366222956707,
           0.7017594827989855,
           0.45680231680198585,
           0.7325686767110351,
           0.7001779440047285,
           0.6879961428472711,
           0.42201585391777163,
           0.2753372569940724,
           0.798589034829381,
           0.6172945750791556,
           -0.2768774089263351,
           0.423374897976208,
           0.7074014667546851,
           0.12757415331386493,
           0.4089987835884184,
           -0.48334631240905906,
           0.6310464628231781,
           0.5818392457457888,
           0.018968405831506243,
           -0.28411993988013534,
           0.3776651065256812,
           -0.17734831565394543,
           -0.6464687218654931,
           0.32464334223873254,
           0.4046400046820955
          ],
          [
           null,
           null,
           null,
           null,
           null,
           null,
           0.7594848054702972,
           0.9289055121598675,
           0.8827421699542651,
           0.8153645679058653,
           0.9378409873736394,
           0.824924585524609,
           0.8703879491159435,
           1,
           0.6345252980595815,
           0.469812336690506,
           0.6238201149375826,
           0.7000403694067825,
           0.7909154925766932,
           0.5919981419068132,
           0.8733366676379017,
           0.7088105515194079,
           0.8198133806948036,
           0.3297106101921601,
           0.3183359346699342,
           0.8056956559989413,
           0.6050344756957964,
           -0.4230779223108776,
           0.3248705195986029,
           0.7663258497612518,
           0.05820684813389184,
           0.3910088640727913,
           -0.3920018662478833,
           0.7665876244743942,
           0.6955698887672696,
           -0.0913454098740717,
           -0.4671565481661169,
           0.27661511721128756,
           -0.23101500514099824,
           -0.7361235004133809,
           0.4220015176441474,
           0.430496816853524
          ],
          [
           null,
           null,
           null,
           null,
           null,
           null,
           null,
           0.8691146203598935,
           -0.06228177723415915,
           0.8735312080747758,
           0.7767003507802588,
           0.7792312078666511,
           0.8475578417886018,
           0.7224283965703043,
           0.9129552410122558,
           0.7355944234352826,
           0.8617362838490086,
           0.8933619759691984,
           1,
           0.7036896281275998,
           0.6825782121627677,
           0.7148492705469901,
           0.7787397365587453,
           0.290582423759375,
           0.6794516483403303,
           0.8211575113862661,
           0.5851348515572591,
           -0.08858437616726417,
           0.269630177665653,
           0.6659790016644503,
           0.13263675617133078,
           0.6211373881320214,
           -0.34983984362179155,
           0.8793813191030191,
           0.2404984067254229,
           -0.041229618248472204,
           -0.4216299738763667,
           0.32268524975850843,
           -0.49722809521956884,
           -0.4997812153794957,
           0.4585872539910349,
           0.0074179863679121405
          ],
          [
           null,
           null,
           null,
           null,
           null,
           null,
           null,
           null,
           0.8091990095914078,
           0.8686147022526458,
           0.933638831588512,
           0.7830310091899266,
           0.8537954785534811,
           0.9113932866076332,
           0.6395669388948488,
           0.46412082663266674,
           0.8191721098350511,
           0.7612339644158284,
           0.887067681251337,
           0.7633429203610327,
           0.8544849312151036,
           0.7098588543647675,
           0.8588648069295389,
           0.2274217485579553,
           0.5264361512959802,
           0.8919004818900576,
           0.6217908364464595,
           -0.3115014900413635,
           0.2993262799298801,
           0.7818231478569424,
           0.07533120660661448,
           0.5632478209821333,
           -0.46915940912092996,
           0.8927196573951711,
           0.6728736680504691,
           -0.020837366398230858,
           -0.49578381934286103,
           0.22088767383775568,
           -0.4382509281258921,
           -0.7067390973022007,
           0.42932554487246727,
           0.5222568514560315
          ],
          [
           null,
           null,
           null,
           null,
           null,
           null,
           null,
           null,
           null,
           0.9278264309914814,
           0.9252973941183744,
           0.9323263745316104,
           0.7677270678461463,
           0.9264284045263554,
           -0.10610079216661093,
           -0.32087732799374324,
           -0.1325454838950634,
           0.3631386662424244,
           0.22137234615079543,
           0.9048433836197728,
           0.7736314071918229,
           0.6774150219035167,
           0.732140112926104,
           0.6035316321781128,
           -0.6925999710114108,
           0.1406395057984661,
           0.7160784176349457,
           -0.4133302845670002,
           0.8014800760580738,
           0.9417555537153669,
           0.5271201622445635,
           0.03453605759054217,
           -0.2094491501050406,
           0.6515643932998755,
           0.6394982672736328,
           0.5203568601439658,
           0.7989325558146921,
           0.8085364904306199,
           0.8538770807019486,
           -0.5637173170885474,
           0.21350544175800729,
           1
          ],
          [
           null,
           null,
           null,
           null,
           null,
           null,
           null,
           null,
           null,
           null,
           0.9012623323916423,
           1,
           0.9256896146601452,
           0.8807377013393085,
           0.8020200093811699,
           0.5799187403562586,
           0.7766286818658859,
           0.8822862659448325,
           0.9125260091369616,
           0.8315744803438885,
           0.7675016951560178,
           0.9204416727098917,
           0.9146118984939128,
           0.5509961372144329,
           0.4864744174543923,
           0.7211321176184644,
           0.856280516568106,
           -0.019755235134202027,
           0.6004703310535723,
           0.8993671442688012,
           0.41156891234740384,
           0.6527536560029068,
           -0.2079426756419784,
           0.8827671015160834,
           0.6263442083634774,
           0.1574083422715221,
           -0.2010846965638886,
           0.5732522830294918,
           -0.47587015060809634,
           -0.5220160246081667,
           0.6143630853174374,
           -0.1697437918360962
          ],
          [
           null,
           null,
           null,
           null,
           null,
           null,
           null,
           null,
           null,
           null,
           null,
           0.8986267927905672,
           0.9055196011823942,
           1,
           0.6597514760949303,
           0.44881240737279704,
           0.717452600672377,
           0.7043134104072134,
           0.8161155797666144,
           0.7603389349613632,
           0.9232236915282674,
           0.829323118478117,
           0.9306438497542913,
           0.35141845018467704,
           0.3285838075336961,
           0.7293172295614145,
           0.7275866371071965,
           -0.3884042499895443,
           0.41269290087098587,
           0.8595003009882846,
           0.19452833297271535,
           0.4481324514278992,
           -0.14394833810366855,
           0.8508457245516471,
           0.740245263481997,
           -0.030640193681548505,
           -0.4556154268442187,
           0.31430610783657503,
           -0.2990228755973665,
           -0.6922613523517879,
           0.5747899923741321,
           0.4522027074191018
          ],
          [
           null,
           null,
           null,
           null,
           null,
           null,
           null,
           null,
           null,
           null,
           null,
           null,
           0.9182380022515192,
           0.8943220114723037,
           0.7973792709783681,
           0.6330501263049185,
           0.5914915434087681,
           0.8154536618004974,
           0.8569070978044323,
           0.739330354065211,
           0.7877706598857638,
           0.9164111249295872,
           0.8884721969058682,
           0.8017555993005142,
           0.07961447714280445,
           0.5797115227120325,
           0.8510689147461222,
           -0.3218233898704533,
           0.6807118690437121,
           0.8669723118539674,
           0.4138172068938896,
           0.44065242370910807,
           -0.2247282710445512,
           0.7995591807763058,
           0.6260994549123998,
           -0.02288756149001977,
           -0.21628417008618483,
           0.6795097827427083,
           0.3237777127430828,
           -0.4664872967886473,
           0.6078597850637457,
           -0.17629997862581495
          ],
          [
           null,
           null,
           null,
           null,
           null,
           null,
           null,
           null,
           null,
           null,
           null,
           null,
           null,
           0.8696285658918019,
           0.8359306493853377,
           0.7427872445610573,
           0.75751925637917,
           0.7596697526200086,
           0.9053639777460649,
           0.6206068743366115,
           0.8983583801823082,
           0.8796320327613041,
           0.8772509602609792,
           0.7599025016165171,
           0.17387479494559321,
           0.6660113416131226,
           0.6729475730993479,
           -0.5690835181118169,
           0.4447896831999912,
           0.7558317936111123,
           0.1801389098438086,
           0.2544970513009986,
           0.0214332493054033,
           0.9290085258544701,
           0.5728655186887276,
           -0.2795143240564252,
           -0.48608952579227116,
           0.5070323159441963,
           0.09059515006918262,
           -0.544672985296328,
           0.6497569486664329,
           0.31485646312969195
          ],
          [
           null,
           null,
           null,
           null,
           null,
           null,
           null,
           null,
           null,
           null,
           null,
           null,
           null,
           null,
           0.6003678659666772,
           0.4189349745686659,
           0.6199184414891312,
           0.7170684059621625,
           0.7734283269202642,
           0.7033911094832728,
           0.8561053036845802,
           0.7924278453534375,
           0.876683770470854,
           0.3968964861438474,
           0.2771382057899384,
           0.7581704028682287,
           0.7399578853560193,
           -0.31803793110280176,
           0.4788645902831036,
           0.8657757411634583,
           0.2063449205256586,
           0.45550992146628083,
           -0.28061379291584837,
           0.7878694461149607,
           0.6570350575572518,
           0.07286081197505025,
           -0.3445516081943913,
           0.4000385300398224,
           -0.2678834409085646,
           -0.682611895892524,
           0.4554633731205624,
           -0.1222823810599872
          ],
          [
           null,
           null,
           null,
           null,
           null,
           null,
           null,
           null,
           null,
           null,
           null,
           null,
           null,
           null,
           null,
           0.9124154998978751,
           0.7253818862924809,
           0.7387425037473309,
           0.9189689654135267,
           0.29076947579411644,
           0.6520107337642825,
           0.7869310515959697,
           0.7008916051407516,
           0.7287775572948054,
           0.4831077461355074,
           0.5684609247234143,
           0.6094198255216136,
           -0.28401250496604086,
           0.38252129789562167,
           0.43333925172881727,
           0.3180316404906356,
           0.42310431921338537,
           0.5010226380036796,
           0.7068468166120361,
           0.3819822362433885,
           -0.318809705295307,
           -0.3793855918171063,
           0.48084790450708287,
           -0.05708446560340349,
           -0.22323798877260104,
           0.6212357538047295,
           0.08150911390672548
          ],
          [
           null,
           null,
           null,
           null,
           null,
           null,
           null,
           null,
           null,
           null,
           null,
           null,
           null,
           null,
           null,
           null,
           0.5733015669780506,
           0.5787935214837391,
           0.7104859818805292,
           0.07166700264618805,
           0.4654792693393855,
           0.7023261793260027,
           0.49530961341775154,
           0.5656315762265384,
           0.5830062246675682,
           0.45480546524748106,
           0.4168621874421639,
           -0.14772108829433445,
           0.1853632273169481,
           0.21407856297228023,
           0.1865980011882957,
           0.3995577083289147,
           0.7275591491237318,
           0.547707771772066,
           0.13839710454356527,
           -0.19075985076834395,
           -0.23921780663375553,
           0.30628085374937386,
           -0.11828535542153767,
           -0.09284468756146487,
           0.5672251212915685,
           0.019597349208138
          ],
          [
           null,
           null,
           null,
           null,
           null,
           null,
           null,
           null,
           null,
           null,
           null,
           null,
           null,
           null,
           null,
           null,
           null,
           0.6926292207277572,
           0.8707973756850637,
           0.7803469208677978,
           0.6727213314660851,
           0.7495171557433665,
           0.7355773684505542,
           0.10366633012274792,
           0.7282437203788226,
           0.7547137486053322,
           0.5317063113139857,
           -0.11453043378914916,
           0.20076198939665282,
           0.6130771274491983,
           0.09022840409086734,
           0.666095115630575,
           0.63933550128126,
           0.9114514468799241,
           0.3571567634461043,
           -0.019845321837161464,
           -0.4423406457675611,
           0.1212509211404733,
           -0.5759525656716389,
           -0.45265303438282156,
           0.7176649369462262,
           0.3870706526191611
          ],
          [
           null,
           null,
           null,
           null,
           null,
           null,
           null,
           null,
           null,
           null,
           null,
           null,
           null,
           null,
           null,
           null,
           null,
           null,
           0.9082052630179577,
           0.7095370104345429,
           0.5081343893269256,
           0.6619214881232438,
           0.6930706271531369,
           0.4188126656584477,
           0.5174496617284378,
           0.7445138508457415,
           0.6388120317776499,
           0.14360004447102914,
           0.4555165448416379,
           0.7656135129336367,
           0.23582594075414742,
           0.6179483908864908,
           -0.4521211552371512,
           0.7982891987945515,
           0.17495192489112546,
           0.18875441003011645,
           -0.13734409458311866,
           0.5922325756197819,
           -0.4933886089561455,
           -0.4063055770537312,
           0.2628864476086699,
           -0.38551023492361
          ],
          [
           null,
           null,
           null,
           null,
           null,
           null,
           null,
           null,
           null,
           null,
           null,
           null,
           null,
           null,
           null,
           null,
           null,
           null,
           null,
           0.7414845471339372,
           0.7134559045137644,
           0.8027978572082517,
           0.8125702001555346,
           0.3421130164171405,
           0.6613051846846201,
           0.8308355472088736,
           0.6451452452963273,
           -0.07240400198901649,
           0.3392868115066972,
           0.7334030177878734,
           0.17175780796100737,
           0.6566908572225293,
           -0.23091829940342998,
           0.9029223509208261,
           0.35900901702564125,
           -0.0016831704457059683,
           -0.3839845269869288,
           0.3719256927533968,
           -0.4967629966609897,
           -0.5159684133330129,
           0.5216574498690668,
           0.05706084580261925
          ],
          [
           null,
           null,
           null,
           null,
           null,
           null,
           null,
           null,
           null,
           null,
           null,
           null,
           null,
           null,
           null,
           null,
           null,
           null,
           null,
           null,
           0.6104848363187713,
           0.7104477715594648,
           0.7873562836987282,
           0.11254314885330796,
           0.4063823570022422,
           0.6111309015224164,
           0.6701462017979797,
           0.007074462059356969,
           0.41420859718964376,
           0.8446369570433436,
           0.23357555984390818,
           0.6165444969149636,
           -0.5081705880802395,
           0.8556891499644013,
           0.6020556933253701,
           0.27182694363472143,
           -0.22806946780510373,
           0.33784946429398355,
           -0.5842699315100194,
           -0.509263987551981,
           0.40248826209279776,
           -0.010100008640295735
          ],
          [
           null,
           null,
           null,
           null,
           null,
           null,
           null,
           null,
           null,
           null,
           null,
           null,
           null,
           null,
           null,
           null,
           null,
           null,
           null,
           null,
           null,
           0.7428621179334713,
           0.8840153149025433,
           0.3179214551728307,
           0.18588095422647896,
           0.5865025185143938,
           0.5503193909073839,
           -0.7035227339480209,
           0.1858318182543495,
           0.7141811374338877,
           -0.005896688577512071,
           0.15926675999753054,
           -0.0014002524350156527,
           0.8060907789953897,
           0.7914756163249735,
           -0.3416874645453032,
           -0.6511433072519718,
           0.05635557887488803,
           -0.06514579638916818,
           -0.7314209642042171,
           0.6412066310746505,
           0.38074117374681343
          ],
          [
           null,
           null,
           null,
           null,
           null,
           null,
           null,
           null,
           null,
           null,
           null,
           null,
           null,
           null,
           null,
           null,
           null,
           null,
           null,
           null,
           null,
           null,
           0.8543874615919222,
           0.7822647674458815,
           0.2670924567958424,
           0.513209174346475,
           0.8252260647565374,
           -0.2916982871097321,
           0.6190648869716548,
           0.7477845281936483,
           0.4379003053440577,
           0.5976141054512497,
           0.5618731434121905,
           0.8349178505505771,
           0.6177153326066528,
           -0.026439714456137686,
           -0.21001200574354684,
           0.5399304717565372,
           0.2927662765527933,
           -0.28431085142763846,
           0.7955446123462044,
           -0.3846855333366322
          ],
          [
           null,
           null,
           null,
           null,
           null,
           null,
           null,
           null,
           null,
           null,
           null,
           null,
           null,
           null,
           null,
           null,
           null,
           null,
           null,
           null,
           null,
           null,
           null,
           0.39760097655037385,
           0.38397717253158764,
           0.6377185662321376,
           0.7982357594604556,
           -0.3179856245053886,
           0.48056762728150326,
           0.8213929396291522,
           0.29744417076130125,
           0.5061515553111576,
           0.07434745283020562,
           0.8570002346213854,
           0.7698639788776883,
           0.016319584617934813,
           -0.3786169883918556,
           0.3553914328195838,
           -0.3681785710277392,
           -0.5813608428348677,
           0.6631488605357727,
           null
          ],
          [
           null,
           null,
           null,
           null,
           null,
           null,
           null,
           null,
           null,
           null,
           null,
           null,
           null,
           null,
           null,
           null,
           null,
           null,
           null,
           null,
           null,
           null,
           null,
           null,
           0.22262487358226338,
           0.08410311551663872,
           0.6457986726782786,
           0.24719489423500826,
           0.6185802482068075,
           0.40469826314130136,
           0.6259449614273725,
           0.4421266986039337,
           0.4159456750928062,
           0.23790008224553413,
           0.6333007938150738,
           0.06196591685574286,
           0.30826301548325735,
           0.7015791440897416,
           0.08340809009794499,
           0.004114999345429516,
           0.8355299457453776,
           0.13483074851159016
          ],
          [
           null,
           null,
           null,
           null,
           null,
           null,
           null,
           null,
           null,
           null,
           null,
           null,
           null,
           null,
           null,
           null,
           null,
           null,
           null,
           null,
           null,
           null,
           null,
           null,
           null,
           0.6193735075596571,
           0.3835420129180067,
           0.28315360285844576,
           0.14120351681209725,
           0.19335841832700587,
           0.22289985461042017,
           0.8336062544279753,
           0.38408515844118957,
           0.5591671894055406,
           -0.03455939280927135,
           0.08395956633524443,
           -0.10917942948914222,
           0.13203578513657474,
           -0.5567127484537825,
           -0.04730317307434922,
           0.41378808883802903,
           0.003234762966059909
          ],
          [
           null,
           null,
           null,
           null,
           null,
           null,
           null,
           null,
           null,
           null,
           null,
           null,
           null,
           null,
           null,
           null,
           null,
           null,
           null,
           null,
           null,
           null,
           null,
           null,
           null,
           null,
           0.48046912329510977,
           -0.1337625639964392,
           0.19535898312870675,
           0.5914691300846446,
           -0.048443694447224496,
           0.6270499741315976,
           -0.48543464678885717,
           0.7796418985517484,
           0.10332125233256294,
           0.13433939574718837,
           -0.39283329515890564,
           0.1759119415628491,
           -0.41433669016208863,
           -0.5995412446341425,
           0.05145080745361428,
           0.06203008098245028
          ],
          [
           null,
           null,
           null,
           null,
           null,
           null,
           null,
           null,
           null,
           null,
           null,
           null,
           null,
           null,
           null,
           null,
           null,
           null,
           null,
           null,
           null,
           null,
           null,
           null,
           null,
           null,
           null,
           0.18363511594038415,
           0.8260317062030167,
           0.7614235358921123,
           0.7022823012047967,
           0.6680045985993338,
           0.1652280071523882,
           0.614198557538696,
           0.6672940721926071,
           0.35822294516871056,
           0.1379349042958924,
           0.6796775927879424,
           -0.38149956875775975,
           -0.3077225835857633,
           0.6443799925265207,
           -0.5184880496511656
          ],
          [
           null,
           null,
           null,
           null,
           null,
           null,
           null,
           null,
           null,
           null,
           null,
           null,
           null,
           null,
           null,
           null,
           null,
           null,
           null,
           null,
           null,
           null,
           null,
           null,
           null,
           null,
           null,
           null,
           0.4219349611571754,
           -0.07905137045685534,
           0.5542257081238965,
           0.508226153112357,
           0.28636350152521517,
           -0.19637652119541407,
           -0.4459116685916742,
           0.6434081845037577,
           0.8254003251224891,
           0.5607864590571088,
           -0.33275862063055656,
           0.5182394807643858,
           -0.23896827159123205,
           -0.47538045970298554
          ],
          [
           null,
           null,
           null,
           null,
           null,
           null,
           null,
           null,
           null,
           null,
           null,
           null,
           null,
           null,
           null,
           null,
           null,
           null,
           null,
           null,
           null,
           null,
           null,
           null,
           null,
           null,
           null,
           null,
           null,
           0.5828481240913916,
           0.7677038769352206,
           0.5100634921861474,
           0.24418736252775838,
           0.28901656100466444,
           0.6057149595896439,
           0.5171631137552731,
           0.5352272259750763,
           0.8144391603708936,
           -0.33850182318971755,
           -0.11375378096752468,
           0.47431805628736556,
           -0.3529256225049009
          ],
          [
           null,
           null,
           null,
           null,
           null,
           null,
           null,
           null,
           null,
           null,
           null,
           null,
           null,
           null,
           null,
           null,
           null,
           null,
           null,
           null,
           null,
           null,
           null,
           null,
           null,
           null,
           null,
           null,
           null,
           null,
           0.32511567168375644,
           0.4764201711479904,
           -0.43315375623367547,
           0.8116403067988855,
           0.5490832383651931,
           0.20225757551126455,
           -0.1555968850652879,
           0.5349520067798197,
           -0.4045198756955002,
           -0.5647707950126832,
           0.42490818742819597,
           -0.24327558146516579
          ],
          [
           null,
           null,
           null,
           null,
           null,
           null,
           null,
           null,
           null,
           null,
           null,
           null,
           null,
           null,
           null,
           null,
           null,
           null,
           null,
           null,
           null,
           null,
           null,
           null,
           null,
           null,
           null,
           null,
           null,
           null,
           null,
           0.5109069248325051,
           0.371847787279442,
           0.09059461234825719,
           0.6306375243513128,
           0.38463082624085276,
           0.5772752071526993,
           0.6896120965428202,
           -0.2587939740480979,
           0.19388778353062655,
           0.6768836593597483,
           -0.31239649113789
          ],
          [
           null,
           null,
           null,
           null,
           null,
           null,
           null,
           null,
           null,
           null,
           null,
           null,
           null,
           null,
           null,
           null,
           null,
           null,
           null,
           null,
           null,
           null,
           null,
           null,
           null,
           null,
           null,
           null,
           null,
           null,
           null,
           null,
           0.32583907225031883,
           0.5790541259759061,
           0.4230822561722392,
           0.4450312018323141,
           0.18815786075204624,
           0.46417692745742917,
           -0.6048270625780464,
           -0.07981862528804747,
           0.5873901288137545,
           -0.30742695785648055
          ],
          [
           null,
           null,
           null,
           null,
           null,
           null,
           null,
           null,
           null,
           null,
           null,
           null,
           null,
           null,
           null,
           null,
           null,
           null,
           null,
           null,
           null,
           null,
           null,
           null,
           null,
           null,
           null,
           null,
           null,
           null,
           null,
           null,
           null,
           0.18376403544591075,
           0.15589000902398797,
           0.42698151178825927,
           0.02603187800207278,
           -0.06268241305719562,
           -0.24931114158459772,
           0.6560760249848447,
           0.5722798244605833,
           null
          ],
          [
           null,
           null,
           null,
           null,
           null,
           null,
           null,
           null,
           null,
           null,
           null,
           null,
           null,
           null,
           null,
           null,
           null,
           null,
           null,
           null,
           null,
           null,
           null,
           null,
           null,
           null,
           null,
           null,
           null,
           null,
           null,
           null,
           null,
           null,
           0.4802988881411453,
           0.035959986106193456,
           -0.4442314326537262,
           0.25176804459338814,
           -0.5201265999869594,
           -0.592645947686754,
           0.6316466030503923,
           0.12213416777778223
          ],
          [
           null,
           null,
           null,
           null,
           null,
           null,
           null,
           null,
           null,
           null,
           null,
           null,
           null,
           null,
           null,
           null,
           null,
           null,
           null,
           null,
           null,
           null,
           null,
           null,
           null,
           null,
           null,
           null,
           null,
           null,
           null,
           null,
           null,
           null,
           null,
           -0.031170369425929562,
           0.06502123566881,
           0.42475649500161733,
           0.17046884677523177,
           -0.32404697533122406,
           0.584642970990648,
           0.37854361704420064
          ],
          [
           null,
           null,
           null,
           null,
           null,
           null,
           null,
           null,
           null,
           null,
           null,
           null,
           null,
           null,
           null,
           null,
           null,
           null,
           null,
           null,
           null,
           null,
           null,
           null,
           null,
           null,
           null,
           null,
           null,
           null,
           null,
           null,
           null,
           null,
           null,
           null,
           0.627219688279936,
           0.5360023526855628,
           -0.2549782717314332,
           0.07836149372926914,
           -0.3276862644681926,
           -0.6424740763461916
          ],
          [
           null,
           null,
           null,
           null,
           null,
           null,
           null,
           null,
           null,
           null,
           null,
           null,
           null,
           null,
           null,
           null,
           null,
           null,
           null,
           null,
           null,
           null,
           null,
           null,
           null,
           null,
           null,
           null,
           null,
           null,
           null,
           null,
           null,
           null,
           null,
           null,
           null,
           0.5630740822467739,
           -0.07722326611545328,
           0.507681180665369,
           -0.12595018591437007,
           -0.43365512539050327
          ],
          [
           null,
           null,
           null,
           null,
           null,
           null,
           null,
           null,
           null,
           null,
           null,
           null,
           null,
           null,
           null,
           null,
           null,
           null,
           null,
           null,
           null,
           null,
           null,
           null,
           null,
           null,
           null,
           null,
           null,
           null,
           null,
           null,
           null,
           null,
           null,
           null,
           null,
           null,
           -0.3122570293805377,
           -0.029616516480623814,
           0.3325816608370967,
           -0.5558885973035861
          ],
          [
           null,
           null,
           null,
           null,
           null,
           null,
           null,
           null,
           null,
           null,
           null,
           null,
           null,
           null,
           null,
           null,
           null,
           null,
           null,
           null,
           null,
           null,
           null,
           null,
           null,
           null,
           null,
           null,
           null,
           null,
           null,
           null,
           null,
           null,
           null,
           null,
           null,
           null,
           null,
           0.17724106094206482,
           -0.017911533184713658,
           -0.4729269157826707
          ],
          [
           null,
           null,
           null,
           null,
           null,
           null,
           null,
           null,
           null,
           null,
           null,
           null,
           null,
           null,
           null,
           null,
           null,
           null,
           null,
           null,
           null,
           null,
           null,
           null,
           null,
           null,
           null,
           null,
           null,
           null,
           null,
           null,
           null,
           null,
           null,
           null,
           null,
           null,
           null,
           null,
           0.02208648260030282,
           -0.49918454972069826
          ],
          [
           null,
           null,
           null,
           null,
           null,
           null,
           null,
           null,
           null,
           null,
           null,
           null,
           null,
           null,
           null,
           null,
           null,
           null,
           null,
           null,
           null,
           null,
           null,
           null,
           null,
           null,
           null,
           null,
           null,
           null,
           null,
           null,
           null,
           null,
           null,
           null,
           null,
           null,
           null,
           null,
           null,
           -0.21545908892287888
          ],
          [
           null,
           null,
           null,
           null,
           null,
           null,
           null,
           null,
           null,
           null,
           null,
           null,
           null,
           null,
           null,
           null,
           null,
           null,
           null,
           null,
           null,
           null,
           null,
           null,
           null,
           null,
           null,
           null,
           null,
           null,
           null,
           null,
           null,
           null,
           null,
           null,
           null,
           null,
           null,
           null,
           null,
           null
          ]
         ],
         "zmax": 1,
         "zmin": -1
        }
       ],
       "layout": {
        "annotations": [
         {
          "font": {
           "color": "black",
           "size": 10
          },
          "showarrow": false,
          "text": "1.0",
          "x": "ACWI",
          "xanchor": "center",
          "y": "VTI",
          "yanchor": "middle"
         },
         {
          "font": {
           "color": "black",
           "size": 10
          },
          "showarrow": false,
          "text": "1.0",
          "x": "SP500",
          "xanchor": "center",
          "y": "VTI",
          "yanchor": "middle"
         },
         {
          "font": {
           "color": "black",
           "size": 10
          },
          "showarrow": false,
          "text": "0.7",
          "x": "GLD",
          "xanchor": "center",
          "y": "VTI",
          "yanchor": "middle"
         },
         {
          "font": {
           "color": "black",
           "size": 10
          },
          "showarrow": false,
          "text": "0.9",
          "x": "CAC 40",
          "xanchor": "center",
          "y": "VTI",
          "yanchor": "middle"
         },
         {
          "font": {
           "color": "black",
           "size": 10
          },
          "showarrow": false,
          "text": "1.0",
          "x": "Nikkei 225",
          "xanchor": "center",
          "y": "VTI",
          "yanchor": "middle"
         },
         {
          "font": {
           "color": "black",
           "size": 10
          },
          "showarrow": false,
          "text": "0.8",
          "x": "ITUB4",
          "xanchor": "center",
          "y": "VTI",
          "yanchor": "middle"
         },
         {
          "font": {
           "color": "black",
           "size": 10
          },
          "showarrow": false,
          "text": "1.0",
          "x": "DAX",
          "xanchor": "center",
          "y": "VTI",
          "yanchor": "middle"
         },
         {
          "font": {
           "color": "black",
           "size": 10
          },
          "showarrow": false,
          "text": "0.9",
          "x": "BPAC11",
          "xanchor": "center",
          "y": "VTI",
          "yanchor": "middle"
         },
         {
          "font": {
           "color": "black",
           "size": 10
          },
          "showarrow": false,
          "text": "0.9",
          "x": "IBOV",
          "xanchor": "center",
          "y": "VTI",
          "yanchor": "middle"
         },
         {
          "font": {
           "color": "black",
           "size": 10
          },
          "showarrow": false,
          "text": "1.0",
          "x": "NASDAQ Composite",
          "xanchor": "center",
          "y": "VTI",
          "yanchor": "middle"
         },
         {
          "font": {
           "color": "black",
           "size": 10
          },
          "showarrow": false,
          "text": "0.9",
          "x": "BOVA11",
          "xanchor": "center",
          "y": "VTI",
          "yanchor": "middle"
         },
         {
          "font": {
           "color": "black",
           "size": 10
          },
          "showarrow": false,
          "text": "0.9",
          "x": "ENGI11",
          "xanchor": "center",
          "y": "VTI",
          "yanchor": "middle"
         },
         {
          "font": {
           "color": "black",
           "size": 10
          },
          "showarrow": false,
          "text": "1.0",
          "x": "IOO",
          "xanchor": "center",
          "y": "VTI",
          "yanchor": "middle"
         },
         {
          "font": {
           "color": "black",
           "size": 10
          },
          "showarrow": false,
          "text": "0.7",
          "x": "SANB11",
          "xanchor": "center",
          "y": "VTI",
          "yanchor": "middle"
         },
         {
          "font": {
           "color": "black",
           "size": 10
          },
          "showarrow": false,
          "text": "0.5",
          "x": "BBDC4",
          "xanchor": "center",
          "y": "VTI",
          "yanchor": "middle"
         },
         {
          "font": {
           "color": "black",
           "size": 10
          },
          "showarrow": false,
          "text": "0.7",
          "x": "COCE5",
          "xanchor": "center",
          "y": "VTI",
          "yanchor": "middle"
         },
         {
          "font": {
           "color": "black",
           "size": 10
          },
          "showarrow": false,
          "text": "0.7",
          "x": "BBAS3",
          "xanchor": "center",
          "y": "VTI",
          "yanchor": "middle"
         },
         {
          "font": {
           "color": "black",
           "size": 10
          },
          "showarrow": false,
          "text": "0.8",
          "x": "ITSA4",
          "xanchor": "center",
          "y": "VTI",
          "yanchor": "middle"
         },
         {
          "font": {
           "color": "black",
           "size": 10
          },
          "showarrow": false,
          "text": "0.7",
          "x": "Gold",
          "xanchor": "center",
          "y": "VTI",
          "yanchor": "middle"
         },
         {
          "font": {
           "color": "black",
           "size": 10
          },
          "showarrow": false,
          "text": "0.9",
          "x": "USD/BRL",
          "xanchor": "center",
          "y": "VTI",
          "yanchor": "middle"
         },
         {
          "font": {
           "color": "black",
           "size": 10
          },
          "showarrow": false,
          "text": "0.8",
          "x": "SMAL11",
          "xanchor": "center",
          "y": "VTI",
          "yanchor": "middle"
         },
         {
          "font": {
           "color": "black",
           "size": 10
          },
          "showarrow": false,
          "text": "0.9",
          "x": "SUZB3",
          "xanchor": "center",
          "y": "VTI",
          "yanchor": "middle"
         },
         {
          "font": {
           "color": "black",
           "size": 10
          },
          "showarrow": false,
          "text": "0.4",
          "x": "B3SA3",
          "xanchor": "center",
          "y": "VTI",
          "yanchor": "middle"
         },
         {
          "font": {
           "color": "black",
           "size": 10
          },
          "showarrow": false,
          "text": "0.2",
          "x": "Hang Seng Index",
          "xanchor": "center",
          "y": "VTI",
          "yanchor": "middle"
         },
         {
          "font": {
           "color": "black",
           "size": 10
          },
          "showarrow": false,
          "text": "0.8",
          "x": "FTSE 100",
          "xanchor": "center",
          "y": "VTI",
          "yanchor": "middle"
         },
         {
          "font": {
           "color": "black",
           "size": 10
          },
          "showarrow": false,
          "text": "0.7",
          "x": "VALE3",
          "xanchor": "center",
          "y": "VTI",
          "yanchor": "middle"
         },
         {
          "font": {
           "color": "black",
           "size": 10
          },
          "showarrow": false,
          "text": "-0.6",
          "x": "EWZ",
          "xanchor": "center",
          "y": "VTI",
          "yanchor": "middle"
         },
         {
          "font": {
           "color": "black",
           "size": 10
          },
          "showarrow": false,
          "text": "0.3",
          "x": "GGBR4",
          "xanchor": "center",
          "y": "VTI",
          "yanchor": "middle"
         },
         {
          "font": {
           "color": "black",
           "size": 10
          },
          "showarrow": false,
          "text": "0.8",
          "x": "CPLE6",
          "xanchor": "center",
          "y": "VTI",
          "yanchor": "middle"
         },
         {
          "font": {
           "color": "black",
           "size": 10
          },
          "showarrow": false,
          "text": "0.0",
          "x": "CSNA3",
          "xanchor": "center",
          "y": "VTI",
          "yanchor": "middle"
         },
         {
          "font": {
           "color": "black",
           "size": 10
          },
          "showarrow": false,
          "text": "0.4",
          "x": "EEM",
          "xanchor": "center",
          "y": "VTI",
          "yanchor": "middle"
         },
         {
          "font": {
           "color": "black",
           "size": 10
          },
          "showarrow": false,
          "text": "-0.2",
          "x": "SRNA3",
          "xanchor": "center",
          "y": "VTI",
          "yanchor": "middle"
         },
         {
          "font": {
           "color": "black",
           "size": 10
          },
          "showarrow": false,
          "text": "0.9",
          "x": "EGIE3",
          "xanchor": "center",
          "y": "VTI",
          "yanchor": "middle"
         },
         {
          "font": {
           "color": "black",
           "size": 10
          },
          "showarrow": false,
          "text": "0.7",
          "x": "KLBN11",
          "xanchor": "center",
          "y": "VTI",
          "yanchor": "middle"
         },
         {
          "font": {
           "color": "black",
           "size": 10
          },
          "showarrow": false,
          "text": "-0.2",
          "x": "Oil",
          "xanchor": "center",
          "y": "VTI",
          "yanchor": "middle"
         },
         {
          "font": {
           "color": "black",
           "size": 10
          },
          "showarrow": false,
          "text": "-0.5",
          "x": "GOAU4",
          "xanchor": "center",
          "y": "VTI",
          "yanchor": "middle"
         },
         {
          "font": {
           "color": "black",
           "size": 10
          },
          "showarrow": false,
          "text": "0.2",
          "x": "PETR4",
          "xanchor": "center",
          "y": "VTI",
          "yanchor": "middle"
         },
         {
          "font": {
           "color": "black",
           "size": 10
          },
          "showarrow": false,
          "text": "0.1",
          "x": "CMIG4",
          "xanchor": "center",
          "y": "VTI",
          "yanchor": "middle"
         },
         {
          "font": {
           "color": "black",
           "size": 10
          },
          "showarrow": false,
          "text": "-0.7",
          "x": "LIGT3",
          "xanchor": "center",
          "y": "VTI",
          "yanchor": "middle"
         },
         {
          "font": {
           "color": "black",
           "size": 10
          },
          "showarrow": false,
          "text": "0.5",
          "x": "MGLU3",
          "xanchor": "center",
          "y": "VTI",
          "yanchor": "middle"
         },
         {
          "font": {
           "color": "black",
           "size": 10
          },
          "showarrow": false,
          "text": "0.4",
          "x": "IEE",
          "xanchor": "center",
          "y": "VTI",
          "yanchor": "middle"
         },
         {
          "font": {
           "color": "black",
           "size": 10
          },
          "showarrow": false,
          "text": "1.0",
          "x": "SP500",
          "xanchor": "center",
          "y": "ACWI",
          "yanchor": "middle"
         },
         {
          "font": {
           "color": "black",
           "size": 10
          },
          "showarrow": false,
          "text": "0.7",
          "x": "GLD",
          "xanchor": "center",
          "y": "ACWI",
          "yanchor": "middle"
         },
         {
          "font": {
           "color": "black",
           "size": 10
          },
          "showarrow": false,
          "text": "1.0",
          "x": "CAC 40",
          "xanchor": "center",
          "y": "ACWI",
          "yanchor": "middle"
         },
         {
          "font": {
           "color": "black",
           "size": 10
          },
          "showarrow": false,
          "text": "1.0",
          "x": "Nikkei 225",
          "xanchor": "center",
          "y": "ACWI",
          "yanchor": "middle"
         },
         {
          "font": {
           "color": "black",
           "size": 10
          },
          "showarrow": false,
          "text": "0.8",
          "x": "ITUB4",
          "xanchor": "center",
          "y": "ACWI",
          "yanchor": "middle"
         },
         {
          "font": {
           "color": "black",
           "size": 10
          },
          "showarrow": false,
          "text": "1.0",
          "x": "DAX",
          "xanchor": "center",
          "y": "ACWI",
          "yanchor": "middle"
         },
         {
          "font": {
           "color": "black",
           "size": 10
          },
          "showarrow": false,
          "text": "0.9",
          "x": "BPAC11",
          "xanchor": "center",
          "y": "ACWI",
          "yanchor": "middle"
         },
         {
          "font": {
           "color": "black",
           "size": 10
          },
          "showarrow": false,
          "text": "0.9",
          "x": "IBOV",
          "xanchor": "center",
          "y": "ACWI",
          "yanchor": "middle"
         },
         {
          "font": {
           "color": "black",
           "size": 10
          },
          "showarrow": false,
          "text": "1.0",
          "x": "NASDAQ Composite",
          "xanchor": "center",
          "y": "ACWI",
          "yanchor": "middle"
         },
         {
          "font": {
           "color": "black",
           "size": 10
          },
          "showarrow": false,
          "text": "0.9",
          "x": "BOVA11",
          "xanchor": "center",
          "y": "ACWI",
          "yanchor": "middle"
         },
         {
          "font": {
           "color": "black",
           "size": 10
          },
          "showarrow": false,
          "text": "0.9",
          "x": "ENGI11",
          "xanchor": "center",
          "y": "ACWI",
          "yanchor": "middle"
         },
         {
          "font": {
           "color": "black",
           "size": 10
          },
          "showarrow": false,
          "text": "1.0",
          "x": "IOO",
          "xanchor": "center",
          "y": "ACWI",
          "yanchor": "middle"
         },
         {
          "font": {
           "color": "black",
           "size": 10
          },
          "showarrow": false,
          "text": "0.7",
          "x": "SANB11",
          "xanchor": "center",
          "y": "ACWI",
          "yanchor": "middle"
         },
         {
          "font": {
           "color": "black",
           "size": 10
          },
          "showarrow": false,
          "text": "0.5",
          "x": "BBDC4",
          "xanchor": "center",
          "y": "ACWI",
          "yanchor": "middle"
         },
         {
          "font": {
           "color": "black",
           "size": 10
          },
          "showarrow": false,
          "text": "0.7",
          "x": "COCE5",
          "xanchor": "center",
          "y": "ACWI",
          "yanchor": "middle"
         },
         {
          "font": {
           "color": "black",
           "size": 10
          },
          "showarrow": false,
          "text": "0.7",
          "x": "BBAS3",
          "xanchor": "center",
          "y": "ACWI",
          "yanchor": "middle"
         },
         {
          "font": {
           "color": "black",
           "size": 10
          },
          "showarrow": false,
          "text": "0.8",
          "x": "ITSA4",
          "xanchor": "center",
          "y": "ACWI",
          "yanchor": "middle"
         },
         {
          "font": {
           "color": "black",
           "size": 10
          },
          "showarrow": false,
          "text": "0.7",
          "x": "Gold",
          "xanchor": "center",
          "y": "ACWI",
          "yanchor": "middle"
         },
         {
          "font": {
           "color": "black",
           "size": 10
          },
          "showarrow": false,
          "text": "0.9",
          "x": "USD/BRL",
          "xanchor": "center",
          "y": "ACWI",
          "yanchor": "middle"
         },
         {
          "font": {
           "color": "black",
           "size": 10
          },
          "showarrow": false,
          "text": "0.8",
          "x": "SMAL11",
          "xanchor": "center",
          "y": "ACWI",
          "yanchor": "middle"
         },
         {
          "font": {
           "color": "black",
           "size": 10
          },
          "showarrow": false,
          "text": "0.9",
          "x": "SUZB3",
          "xanchor": "center",
          "y": "ACWI",
          "yanchor": "middle"
         },
         {
          "font": {
           "color": "black",
           "size": 10
          },
          "showarrow": false,
          "text": "0.5",
          "x": "B3SA3",
          "xanchor": "center",
          "y": "ACWI",
          "yanchor": "middle"
         },
         {
          "font": {
           "color": "black",
           "size": 10
          },
          "showarrow": false,
          "text": "0.3",
          "x": "Hang Seng Index",
          "xanchor": "center",
          "y": "ACWI",
          "yanchor": "middle"
         },
         {
          "font": {
           "color": "black",
           "size": 10
          },
          "showarrow": false,
          "text": "0.8",
          "x": "FTSE 100",
          "xanchor": "center",
          "y": "ACWI",
          "yanchor": "middle"
         },
         {
          "font": {
           "color": "black",
           "size": 10
          },
          "showarrow": false,
          "text": "0.7",
          "x": "VALE3",
          "xanchor": "center",
          "y": "ACWI",
          "yanchor": "middle"
         },
         {
          "font": {
           "color": "black",
           "size": 10
          },
          "showarrow": false,
          "text": "-0.6",
          "x": "EWZ",
          "xanchor": "center",
          "y": "ACWI",
          "yanchor": "middle"
         },
         {
          "font": {
           "color": "black",
           "size": 10
          },
          "showarrow": false,
          "text": "0.3",
          "x": "GGBR4",
          "xanchor": "center",
          "y": "ACWI",
          "yanchor": "middle"
         },
         {
          "font": {
           "color": "black",
           "size": 10
          },
          "showarrow": false,
          "text": "0.8",
          "x": "CPLE6",
          "xanchor": "center",
          "y": "ACWI",
          "yanchor": "middle"
         },
         {
          "font": {
           "color": "black",
           "size": 10
          },
          "showarrow": false,
          "text": "0.1",
          "x": "CSNA3",
          "xanchor": "center",
          "y": "ACWI",
          "yanchor": "middle"
         },
         {
          "font": {
           "color": "black",
           "size": 10
          },
          "showarrow": false,
          "text": "0.5",
          "x": "EEM",
          "xanchor": "center",
          "y": "ACWI",
          "yanchor": "middle"
         },
         {
          "font": {
           "color": "black",
           "size": 10
          },
          "showarrow": false,
          "text": "-0.2",
          "x": "SRNA3",
          "xanchor": "center",
          "y": "ACWI",
          "yanchor": "middle"
         },
         {
          "font": {
           "color": "black",
           "size": 10
          },
          "showarrow": false,
          "text": "0.9",
          "x": "EGIE3",
          "xanchor": "center",
          "y": "ACWI",
          "yanchor": "middle"
         },
         {
          "font": {
           "color": "black",
           "size": 10
          },
          "showarrow": false,
          "text": "0.7",
          "x": "KLBN11",
          "xanchor": "center",
          "y": "ACWI",
          "yanchor": "middle"
         },
         {
          "font": {
           "color": "black",
           "size": 10
          },
          "showarrow": false,
          "text": "-0.1",
          "x": "Oil",
          "xanchor": "center",
          "y": "ACWI",
          "yanchor": "middle"
         },
         {
          "font": {
           "color": "black",
           "size": 10
          },
          "showarrow": false,
          "text": "-0.5",
          "x": "GOAU4",
          "xanchor": "center",
          "y": "ACWI",
          "yanchor": "middle"
         },
         {
          "font": {
           "color": "black",
           "size": 10
          },
          "showarrow": false,
          "text": "0.2",
          "x": "PETR4",
          "xanchor": "center",
          "y": "ACWI",
          "yanchor": "middle"
         },
         {
          "font": {
           "color": "black",
           "size": 10
          },
          "showarrow": false,
          "text": "0.1",
          "x": "CMIG4",
          "xanchor": "center",
          "y": "ACWI",
          "yanchor": "middle"
         },
         {
          "font": {
           "color": "black",
           "size": 10
          },
          "showarrow": false,
          "text": "-0.7",
          "x": "LIGT3",
          "xanchor": "center",
          "y": "ACWI",
          "yanchor": "middle"
         },
         {
          "font": {
           "color": "black",
           "size": 10
          },
          "showarrow": false,
          "text": "0.5",
          "x": "MGLU3",
          "xanchor": "center",
          "y": "ACWI",
          "yanchor": "middle"
         },
         {
          "font": {
           "color": "black",
           "size": 10
          },
          "showarrow": false,
          "text": "0.0",
          "x": "IEE",
          "xanchor": "center",
          "y": "ACWI",
          "yanchor": "middle"
         },
         {
          "font": {
           "color": "black",
           "size": 10
          },
          "showarrow": false,
          "text": "0.7",
          "x": "GLD",
          "xanchor": "center",
          "y": "SP500",
          "yanchor": "middle"
         },
         {
          "font": {
           "color": "black",
           "size": 10
          },
          "showarrow": false,
          "text": "0.9",
          "x": "CAC 40",
          "xanchor": "center",
          "y": "SP500",
          "yanchor": "middle"
         },
         {
          "font": {
           "color": "black",
           "size": 10
          },
          "showarrow": false,
          "text": "1.0",
          "x": "Nikkei 225",
          "xanchor": "center",
          "y": "SP500",
          "yanchor": "middle"
         },
         {
          "font": {
           "color": "black",
           "size": 10
          },
          "showarrow": false,
          "text": "0.8",
          "x": "ITUB4",
          "xanchor": "center",
          "y": "SP500",
          "yanchor": "middle"
         },
         {
          "font": {
           "color": "black",
           "size": 10
          },
          "showarrow": false,
          "text": "1.0",
          "x": "DAX",
          "xanchor": "center",
          "y": "SP500",
          "yanchor": "middle"
         },
         {
          "font": {
           "color": "black",
           "size": 10
          },
          "showarrow": false,
          "text": "0.9",
          "x": "BPAC11",
          "xanchor": "center",
          "y": "SP500",
          "yanchor": "middle"
         },
         {
          "font": {
           "color": "black",
           "size": 10
          },
          "showarrow": false,
          "text": "0.9",
          "x": "IBOV",
          "xanchor": "center",
          "y": "SP500",
          "yanchor": "middle"
         },
         {
          "font": {
           "color": "black",
           "size": 10
          },
          "showarrow": false,
          "text": "1.0",
          "x": "NASDAQ Composite",
          "xanchor": "center",
          "y": "SP500",
          "yanchor": "middle"
         },
         {
          "font": {
           "color": "black",
           "size": 10
          },
          "showarrow": false,
          "text": "0.9",
          "x": "BOVA11",
          "xanchor": "center",
          "y": "SP500",
          "yanchor": "middle"
         },
         {
          "font": {
           "color": "black",
           "size": 10
          },
          "showarrow": false,
          "text": "0.9",
          "x": "ENGI11",
          "xanchor": "center",
          "y": "SP500",
          "yanchor": "middle"
         },
         {
          "font": {
           "color": "black",
           "size": 10
          },
          "showarrow": false,
          "text": "1.0",
          "x": "IOO",
          "xanchor": "center",
          "y": "SP500",
          "yanchor": "middle"
         },
         {
          "font": {
           "color": "black",
           "size": 10
          },
          "showarrow": false,
          "text": "0.7",
          "x": "SANB11",
          "xanchor": "center",
          "y": "SP500",
          "yanchor": "middle"
         },
         {
          "font": {
           "color": "black",
           "size": 10
          },
          "showarrow": false,
          "text": "0.5",
          "x": "BBDC4",
          "xanchor": "center",
          "y": "SP500",
          "yanchor": "middle"
         },
         {
          "font": {
           "color": "black",
           "size": 10
          },
          "showarrow": false,
          "text": "0.7",
          "x": "COCE5",
          "xanchor": "center",
          "y": "SP500",
          "yanchor": "middle"
         },
         {
          "font": {
           "color": "black",
           "size": 10
          },
          "showarrow": false,
          "text": "0.7",
          "x": "BBAS3",
          "xanchor": "center",
          "y": "SP500",
          "yanchor": "middle"
         },
         {
          "font": {
           "color": "black",
           "size": 10
          },
          "showarrow": false,
          "text": "0.8",
          "x": "ITSA4",
          "xanchor": "center",
          "y": "SP500",
          "yanchor": "middle"
         },
         {
          "font": {
           "color": "black",
           "size": 10
          },
          "showarrow": false,
          "text": "0.7",
          "x": "Gold",
          "xanchor": "center",
          "y": "SP500",
          "yanchor": "middle"
         },
         {
          "font": {
           "color": "black",
           "size": 10
          },
          "showarrow": false,
          "text": "0.9",
          "x": "USD/BRL",
          "xanchor": "center",
          "y": "SP500",
          "yanchor": "middle"
         },
         {
          "font": {
           "color": "black",
           "size": 10
          },
          "showarrow": false,
          "text": "0.8",
          "x": "SMAL11",
          "xanchor": "center",
          "y": "SP500",
          "yanchor": "middle"
         },
         {
          "font": {
           "color": "black",
           "size": 10
          },
          "showarrow": false,
          "text": "0.9",
          "x": "SUZB3",
          "xanchor": "center",
          "y": "SP500",
          "yanchor": "middle"
         },
         {
          "font": {
           "color": "black",
           "size": 10
          },
          "showarrow": false,
          "text": "0.3",
          "x": "B3SA3",
          "xanchor": "center",
          "y": "SP500",
          "yanchor": "middle"
         },
         {
          "font": {
           "color": "black",
           "size": 10
          },
          "showarrow": false,
          "text": "0.3",
          "x": "Hang Seng Index",
          "xanchor": "center",
          "y": "SP500",
          "yanchor": "middle"
         },
         {
          "font": {
           "color": "black",
           "size": 10
          },
          "showarrow": false,
          "text": "0.8",
          "x": "FTSE 100",
          "xanchor": "center",
          "y": "SP500",
          "yanchor": "middle"
         },
         {
          "font": {
           "color": "black",
           "size": 10
          },
          "showarrow": false,
          "text": "0.7",
          "x": "VALE3",
          "xanchor": "center",
          "y": "SP500",
          "yanchor": "middle"
         },
         {
          "font": {
           "color": "black",
           "size": 10
          },
          "showarrow": false,
          "text": "-0.4",
          "x": "EWZ",
          "xanchor": "center",
          "y": "SP500",
          "yanchor": "middle"
         },
         {
          "font": {
           "color": "black",
           "size": 10
          },
          "showarrow": false,
          "text": "0.4",
          "x": "GGBR4",
          "xanchor": "center",
          "y": "SP500",
          "yanchor": "middle"
         },
         {
          "font": {
           "color": "black",
           "size": 10
          },
          "showarrow": false,
          "text": "0.8",
          "x": "CPLE6",
          "xanchor": "center",
          "y": "SP500",
          "yanchor": "middle"
         },
         {
          "font": {
           "color": "black",
           "size": 10
          },
          "showarrow": false,
          "text": "0.1",
          "x": "CSNA3",
          "xanchor": "center",
          "y": "SP500",
          "yanchor": "middle"
         },
         {
          "font": {
           "color": "black",
           "size": 10
          },
          "showarrow": false,
          "text": "0.4",
          "x": "EEM",
          "xanchor": "center",
          "y": "SP500",
          "yanchor": "middle"
         },
         {
          "font": {
           "color": "black",
           "size": 10
          },
          "showarrow": false,
          "text": "-0.2",
          "x": "SRNA3",
          "xanchor": "center",
          "y": "SP500",
          "yanchor": "middle"
         },
         {
          "font": {
           "color": "black",
           "size": 10
          },
          "showarrow": false,
          "text": "0.9",
          "x": "EGIE3",
          "xanchor": "center",
          "y": "SP500",
          "yanchor": "middle"
         },
         {
          "font": {
           "color": "black",
           "size": 10
          },
          "showarrow": false,
          "text": "0.7",
          "x": "KLBN11",
          "xanchor": "center",
          "y": "SP500",
          "yanchor": "middle"
         },
         {
          "font": {
           "color": "black",
           "size": 10
          },
          "showarrow": false,
          "text": "-0.0",
          "x": "Oil",
          "xanchor": "center",
          "y": "SP500",
          "yanchor": "middle"
         },
         {
          "font": {
           "color": "black",
           "size": 10
          },
          "showarrow": false,
          "text": "-0.5",
          "x": "GOAU4",
          "xanchor": "center",
          "y": "SP500",
          "yanchor": "middle"
         },
         {
          "font": {
           "color": "black",
           "size": 10
          },
          "showarrow": false,
          "text": "0.3",
          "x": "PETR4",
          "xanchor": "center",
          "y": "SP500",
          "yanchor": "middle"
         },
         {
          "font": {
           "color": "black",
           "size": 10
          },
          "showarrow": false,
          "text": "-0.3",
          "x": "CMIG4",
          "xanchor": "center",
          "y": "SP500",
          "yanchor": "middle"
         },
         {
          "font": {
           "color": "black",
           "size": 10
          },
          "showarrow": false,
          "text": "-0.7",
          "x": "LIGT3",
          "xanchor": "center",
          "y": "SP500",
          "yanchor": "middle"
         },
         {
          "font": {
           "color": "black",
           "size": 10
          },
          "showarrow": false,
          "text": "0.5",
          "x": "MGLU3",
          "xanchor": "center",
          "y": "SP500",
          "yanchor": "middle"
         },
         {
          "font": {
           "color": "black",
           "size": 10
          },
          "showarrow": false,
          "text": "0.4",
          "x": "IEE",
          "xanchor": "center",
          "y": "SP500",
          "yanchor": "middle"
         },
         {
          "font": {
           "color": "black",
           "size": 10
          },
          "showarrow": false,
          "text": "0.4",
          "x": "CAC 40",
          "xanchor": "center",
          "y": "GLD",
          "yanchor": "middle"
         },
         {
          "font": {
           "color": "black",
           "size": 10
          },
          "showarrow": false,
          "text": "0.5",
          "x": "Nikkei 225",
          "xanchor": "center",
          "y": "GLD",
          "yanchor": "middle"
         },
         {
          "font": {
           "color": "black",
           "size": 10
          },
          "showarrow": false,
          "text": "0.6",
          "x": "ITUB4",
          "xanchor": "center",
          "y": "GLD",
          "yanchor": "middle"
         },
         {
          "font": {
           "color": "black",
           "size": 10
          },
          "showarrow": false,
          "text": "0.7",
          "x": "DAX",
          "xanchor": "center",
          "y": "GLD",
          "yanchor": "middle"
         },
         {
          "font": {
           "color": "black",
           "size": 10
          },
          "showarrow": false,
          "text": "0.9",
          "x": "BPAC11",
          "xanchor": "center",
          "y": "GLD",
          "yanchor": "middle"
         },
         {
          "font": {
           "color": "black",
           "size": 10
          },
          "showarrow": false,
          "text": "0.8",
          "x": "IBOV",
          "xanchor": "center",
          "y": "GLD",
          "yanchor": "middle"
         },
         {
          "font": {
           "color": "black",
           "size": 10
          },
          "showarrow": false,
          "text": "0.7",
          "x": "NASDAQ Composite",
          "xanchor": "center",
          "y": "GLD",
          "yanchor": "middle"
         },
         {
          "font": {
           "color": "black",
           "size": 10
          },
          "showarrow": false,
          "text": "0.7",
          "x": "BOVA11",
          "xanchor": "center",
          "y": "GLD",
          "yanchor": "middle"
         },
         {
          "font": {
           "color": "black",
           "size": 10
          },
          "showarrow": false,
          "text": "0.6",
          "x": "ENGI11",
          "xanchor": "center",
          "y": "GLD",
          "yanchor": "middle"
         },
         {
          "font": {
           "color": "black",
           "size": 10
          },
          "showarrow": false,
          "text": "0.7",
          "x": "IOO",
          "xanchor": "center",
          "y": "GLD",
          "yanchor": "middle"
         },
         {
          "font": {
           "color": "black",
           "size": 10
          },
          "showarrow": false,
          "text": "0.2",
          "x": "SANB11",
          "xanchor": "center",
          "y": "GLD",
          "yanchor": "middle"
         },
         {
          "font": {
           "color": "black",
           "size": 10
          },
          "showarrow": false,
          "text": "0.0",
          "x": "BBDC4",
          "xanchor": "center",
          "y": "GLD",
          "yanchor": "middle"
         },
         {
          "font": {
           "color": "black",
           "size": 10
          },
          "showarrow": false,
          "text": "0.7",
          "x": "COCE5",
          "xanchor": "center",
          "y": "GLD",
          "yanchor": "middle"
         },
         {
          "font": {
           "color": "black",
           "size": 10
          },
          "showarrow": false,
          "text": "0.6",
          "x": "BBAS3",
          "xanchor": "center",
          "y": "GLD",
          "yanchor": "middle"
         },
         {
          "font": {
           "color": "black",
           "size": 10
          },
          "showarrow": false,
          "text": "0.7",
          "x": "ITSA4",
          "xanchor": "center",
          "y": "GLD",
          "yanchor": "middle"
         },
         {
          "font": {
           "color": "black",
           "size": 10
          },
          "showarrow": false,
          "text": "1.0",
          "x": "Gold",
          "xanchor": "center",
          "y": "GLD",
          "yanchor": "middle"
         },
         {
          "font": {
           "color": "black",
           "size": 10
          },
          "showarrow": false,
          "text": "0.6",
          "x": "USD/BRL",
          "xanchor": "center",
          "y": "GLD",
          "yanchor": "middle"
         },
         {
          "font": {
           "color": "black",
           "size": 10
          },
          "showarrow": false,
          "text": "0.7",
          "x": "SMAL11",
          "xanchor": "center",
          "y": "GLD",
          "yanchor": "middle"
         },
         {
          "font": {
           "color": "black",
           "size": 10
          },
          "showarrow": false,
          "text": "0.8",
          "x": "SUZB3",
          "xanchor": "center",
          "y": "GLD",
          "yanchor": "middle"
         },
         {
          "font": {
           "color": "black",
           "size": 10
          },
          "showarrow": false,
          "text": "0.1",
          "x": "B3SA3",
          "xanchor": "center",
          "y": "GLD",
          "yanchor": "middle"
         },
         {
          "font": {
           "color": "black",
           "size": 10
          },
          "showarrow": false,
          "text": "0.3",
          "x": "Hang Seng Index",
          "xanchor": "center",
          "y": "GLD",
          "yanchor": "middle"
         },
         {
          "font": {
           "color": "black",
           "size": 10
          },
          "showarrow": false,
          "text": "0.5",
          "x": "FTSE 100",
          "xanchor": "center",
          "y": "GLD",
          "yanchor": "middle"
         },
         {
          "font": {
           "color": "black",
           "size": 10
          },
          "showarrow": false,
          "text": "0.6",
          "x": "VALE3",
          "xanchor": "center",
          "y": "GLD",
          "yanchor": "middle"
         },
         {
          "font": {
           "color": "black",
           "size": 10
          },
          "showarrow": false,
          "text": "-0.1",
          "x": "EWZ",
          "xanchor": "center",
          "y": "GLD",
          "yanchor": "middle"
         },
         {
          "font": {
           "color": "black",
           "size": 10
          },
          "showarrow": false,
          "text": "0.3",
          "x": "GGBR4",
          "xanchor": "center",
          "y": "GLD",
          "yanchor": "middle"
         },
         {
          "font": {
           "color": "black",
           "size": 10
          },
          "showarrow": false,
          "text": "0.8",
          "x": "CPLE6",
          "xanchor": "center",
          "y": "GLD",
          "yanchor": "middle"
         },
         {
          "font": {
           "color": "black",
           "size": 10
          },
          "showarrow": false,
          "text": "0.2",
          "x": "CSNA3",
          "xanchor": "center",
          "y": "GLD",
          "yanchor": "middle"
         },
         {
          "font": {
           "color": "black",
           "size": 10
          },
          "showarrow": false,
          "text": "0.5",
          "x": "EEM",
          "xanchor": "center",
          "y": "GLD",
          "yanchor": "middle"
         },
         {
          "font": {
           "color": "black",
           "size": 10
          },
          "showarrow": false,
          "text": "-0.5",
          "x": "SRNA3",
          "xanchor": "center",
          "y": "GLD",
          "yanchor": "middle"
         },
         {
          "font": {
           "color": "black",
           "size": 10
          },
          "showarrow": false,
          "text": "0.8",
          "x": "EGIE3",
          "xanchor": "center",
          "y": "GLD",
          "yanchor": "middle"
         },
         {
          "font": {
           "color": "black",
           "size": 10
          },
          "showarrow": false,
          "text": "0.6",
          "x": "KLBN11",
          "xanchor": "center",
          "y": "GLD",
          "yanchor": "middle"
         },
         {
          "font": {
           "color": "black",
           "size": 10
          },
          "showarrow": false,
          "text": "0.2",
          "x": "Oil",
          "xanchor": "center",
          "y": "GLD",
          "yanchor": "middle"
         },
         {
          "font": {
           "color": "black",
           "size": 10
          },
          "showarrow": false,
          "text": "-0.3",
          "x": "GOAU4",
          "xanchor": "center",
          "y": "GLD",
          "yanchor": "middle"
         },
         {
          "font": {
           "color": "black",
           "size": 10
          },
          "showarrow": false,
          "text": "0.3",
          "x": "PETR4",
          "xanchor": "center",
          "y": "GLD",
          "yanchor": "middle"
         },
         {
          "font": {
           "color": "black",
           "size": 10
          },
          "showarrow": false,
          "text": "-0.5",
          "x": "CMIG4",
          "xanchor": "center",
          "y": "GLD",
          "yanchor": "middle"
         },
         {
          "font": {
           "color": "black",
           "size": 10
          },
          "showarrow": false,
          "text": "-0.4",
          "x": "LIGT3",
          "xanchor": "center",
          "y": "GLD",
          "yanchor": "middle"
         },
         {
          "font": {
           "color": "black",
           "size": 10
          },
          "showarrow": false,
          "text": "0.4",
          "x": "MGLU3",
          "xanchor": "center",
          "y": "GLD",
          "yanchor": "middle"
         },
         {
          "font": {
           "color": "black",
           "size": 10
          },
          "showarrow": false,
          "text": "-0.0",
          "x": "IEE",
          "xanchor": "center",
          "y": "GLD",
          "yanchor": "middle"
         },
         {
          "font": {
           "color": "black",
           "size": 10
          },
          "showarrow": false,
          "text": "0.9",
          "x": "Nikkei 225",
          "xanchor": "center",
          "y": "CAC 40",
          "yanchor": "middle"
         },
         {
          "font": {
           "color": "black",
           "size": 10
          },
          "showarrow": false,
          "text": "0.7",
          "x": "ITUB4",
          "xanchor": "center",
          "y": "CAC 40",
          "yanchor": "middle"
         },
         {
          "font": {
           "color": "black",
           "size": 10
          },
          "showarrow": false,
          "text": "0.8",
          "x": "DAX",
          "xanchor": "center",
          "y": "CAC 40",
          "yanchor": "middle"
         },
         {
          "font": {
           "color": "black",
           "size": 10
          },
          "showarrow": false,
          "text": "0.8",
          "x": "BPAC11",
          "xanchor": "center",
          "y": "CAC 40",
          "yanchor": "middle"
         },
         {
          "font": {
           "color": "black",
           "size": 10
          },
          "showarrow": false,
          "text": "0.7",
          "x": "IBOV",
          "xanchor": "center",
          "y": "CAC 40",
          "yanchor": "middle"
         },
         {
          "font": {
           "color": "black",
           "size": 10
          },
          "showarrow": false,
          "text": "0.8",
          "x": "NASDAQ Composite",
          "xanchor": "center",
          "y": "CAC 40",
          "yanchor": "middle"
         },
         {
          "font": {
           "color": "black",
           "size": 10
          },
          "showarrow": false,
          "text": "0.8",
          "x": "BOVA11",
          "xanchor": "center",
          "y": "CAC 40",
          "yanchor": "middle"
         },
         {
          "font": {
           "color": "black",
           "size": 10
          },
          "showarrow": false,
          "text": "0.8",
          "x": "ENGI11",
          "xanchor": "center",
          "y": "CAC 40",
          "yanchor": "middle"
         },
         {
          "font": {
           "color": "black",
           "size": 10
          },
          "showarrow": false,
          "text": "0.9",
          "x": "IOO",
          "xanchor": "center",
          "y": "CAC 40",
          "yanchor": "middle"
         },
         {
          "font": {
           "color": "black",
           "size": 10
          },
          "showarrow": false,
          "text": "0.6",
          "x": "SANB11",
          "xanchor": "center",
          "y": "CAC 40",
          "yanchor": "middle"
         },
         {
          "font": {
           "color": "black",
           "size": 10
          },
          "showarrow": false,
          "text": "0.5",
          "x": "BBDC4",
          "xanchor": "center",
          "y": "CAC 40",
          "yanchor": "middle"
         },
         {
          "font": {
           "color": "black",
           "size": 10
          },
          "showarrow": false,
          "text": "0.5",
          "x": "COCE5",
          "xanchor": "center",
          "y": "CAC 40",
          "yanchor": "middle"
         },
         {
          "font": {
           "color": "black",
           "size": 10
          },
          "showarrow": false,
          "text": "0.7",
          "x": "BBAS3",
          "xanchor": "center",
          "y": "CAC 40",
          "yanchor": "middle"
         },
         {
          "font": {
           "color": "black",
           "size": 10
          },
          "showarrow": false,
          "text": "0.7",
          "x": "ITSA4",
          "xanchor": "center",
          "y": "CAC 40",
          "yanchor": "middle"
         },
         {
          "font": {
           "color": "black",
           "size": 10
          },
          "showarrow": false,
          "text": "0.5",
          "x": "Gold",
          "xanchor": "center",
          "y": "CAC 40",
          "yanchor": "middle"
         },
         {
          "font": {
           "color": "black",
           "size": 10
          },
          "showarrow": false,
          "text": "0.7",
          "x": "USD/BRL",
          "xanchor": "center",
          "y": "CAC 40",
          "yanchor": "middle"
         },
         {
          "font": {
           "color": "black",
           "size": 10
          },
          "showarrow": false,
          "text": "0.7",
          "x": "SMAL11",
          "xanchor": "center",
          "y": "CAC 40",
          "yanchor": "middle"
         },
         {
          "font": {
           "color": "black",
           "size": 10
          },
          "showarrow": false,
          "text": "0.7",
          "x": "SUZB3",
          "xanchor": "center",
          "y": "CAC 40",
          "yanchor": "middle"
         },
         {
          "font": {
           "color": "black",
           "size": 10
          },
          "showarrow": false,
          "text": "0.4",
          "x": "B3SA3",
          "xanchor": "center",
          "y": "CAC 40",
          "yanchor": "middle"
         },
         {
          "font": {
           "color": "black",
           "size": 10
          },
          "showarrow": false,
          "text": "0.3",
          "x": "Hang Seng Index",
          "xanchor": "center",
          "y": "CAC 40",
          "yanchor": "middle"
         },
         {
          "font": {
           "color": "black",
           "size": 10
          },
          "showarrow": false,
          "text": "0.8",
          "x": "FTSE 100",
          "xanchor": "center",
          "y": "CAC 40",
          "yanchor": "middle"
         },
         {
          "font": {
           "color": "black",
           "size": 10
          },
          "showarrow": false,
          "text": "0.6",
          "x": "VALE3",
          "xanchor": "center",
          "y": "CAC 40",
          "yanchor": "middle"
         },
         {
          "font": {
           "color": "black",
           "size": 10
          },
          "showarrow": false,
          "text": "-0.3",
          "x": "EWZ",
          "xanchor": "center",
          "y": "CAC 40",
          "yanchor": "middle"
         },
         {
          "font": {
           "color": "black",
           "size": 10
          },
          "showarrow": false,
          "text": "0.4",
          "x": "GGBR4",
          "xanchor": "center",
          "y": "CAC 40",
          "yanchor": "middle"
         },
         {
          "font": {
           "color": "black",
           "size": 10
          },
          "showarrow": false,
          "text": "0.7",
          "x": "CPLE6",
          "xanchor": "center",
          "y": "CAC 40",
          "yanchor": "middle"
         },
         {
          "font": {
           "color": "black",
           "size": 10
          },
          "showarrow": false,
          "text": "0.1",
          "x": "CSNA3",
          "xanchor": "center",
          "y": "CAC 40",
          "yanchor": "middle"
         },
         {
          "font": {
           "color": "black",
           "size": 10
          },
          "showarrow": false,
          "text": "0.4",
          "x": "EEM",
          "xanchor": "center",
          "y": "CAC 40",
          "yanchor": "middle"
         },
         {
          "font": {
           "color": "black",
           "size": 10
          },
          "showarrow": false,
          "text": "-0.5",
          "x": "SRNA3",
          "xanchor": "center",
          "y": "CAC 40",
          "yanchor": "middle"
         },
         {
          "font": {
           "color": "black",
           "size": 10
          },
          "showarrow": false,
          "text": "0.6",
          "x": "EGIE3",
          "xanchor": "center",
          "y": "CAC 40",
          "yanchor": "middle"
         },
         {
          "font": {
           "color": "black",
           "size": 10
          },
          "showarrow": false,
          "text": "0.6",
          "x": "KLBN11",
          "xanchor": "center",
          "y": "CAC 40",
          "yanchor": "middle"
         },
         {
          "font": {
           "color": "black",
           "size": 10
          },
          "showarrow": false,
          "text": "0.0",
          "x": "Oil",
          "xanchor": "center",
          "y": "CAC 40",
          "yanchor": "middle"
         },
         {
          "font": {
           "color": "black",
           "size": 10
          },
          "showarrow": false,
          "text": "-0.3",
          "x": "GOAU4",
          "xanchor": "center",
          "y": "CAC 40",
          "yanchor": "middle"
         },
         {
          "font": {
           "color": "black",
           "size": 10
          },
          "showarrow": false,
          "text": "0.4",
          "x": "PETR4",
          "xanchor": "center",
          "y": "CAC 40",
          "yanchor": "middle"
         },
         {
          "font": {
           "color": "black",
           "size": 10
          },
          "showarrow": false,
          "text": "-0.2",
          "x": "CMIG4",
          "xanchor": "center",
          "y": "CAC 40",
          "yanchor": "middle"
         },
         {
          "font": {
           "color": "black",
           "size": 10
          },
          "showarrow": false,
          "text": "-0.6",
          "x": "LIGT3",
          "xanchor": "center",
          "y": "CAC 40",
          "yanchor": "middle"
         },
         {
          "font": {
           "color": "black",
           "size": 10
          },
          "showarrow": false,
          "text": "0.3",
          "x": "MGLU3",
          "xanchor": "center",
          "y": "CAC 40",
          "yanchor": "middle"
         },
         {
          "font": {
           "color": "black",
           "size": 10
          },
          "showarrow": false,
          "text": "0.4",
          "x": "IEE",
          "xanchor": "center",
          "y": "CAC 40",
          "yanchor": "middle"
         },
         {
          "font": {
           "color": "black",
           "size": 10
          },
          "showarrow": false,
          "text": "0.8",
          "x": "ITUB4",
          "xanchor": "center",
          "y": "Nikkei 225",
          "yanchor": "middle"
         },
         {
          "font": {
           "color": "black",
           "size": 10
          },
          "showarrow": false,
          "text": "0.9",
          "x": "DAX",
          "xanchor": "center",
          "y": "Nikkei 225",
          "yanchor": "middle"
         },
         {
          "font": {
           "color": "black",
           "size": 10
          },
          "showarrow": false,
          "text": "0.9",
          "x": "BPAC11",
          "xanchor": "center",
          "y": "Nikkei 225",
          "yanchor": "middle"
         },
         {
          "font": {
           "color": "black",
           "size": 10
          },
          "showarrow": false,
          "text": "0.8",
          "x": "IBOV",
          "xanchor": "center",
          "y": "Nikkei 225",
          "yanchor": "middle"
         },
         {
          "font": {
           "color": "black",
           "size": 10
          },
          "showarrow": false,
          "text": "0.9",
          "x": "NASDAQ Composite",
          "xanchor": "center",
          "y": "Nikkei 225",
          "yanchor": "middle"
         },
         {
          "font": {
           "color": "black",
           "size": 10
          },
          "showarrow": false,
          "text": "0.8",
          "x": "BOVA11",
          "xanchor": "center",
          "y": "Nikkei 225",
          "yanchor": "middle"
         },
         {
          "font": {
           "color": "black",
           "size": 10
          },
          "showarrow": false,
          "text": "0.9",
          "x": "ENGI11",
          "xanchor": "center",
          "y": "Nikkei 225",
          "yanchor": "middle"
         },
         {
          "font": {
           "color": "black",
           "size": 10
          },
          "showarrow": false,
          "text": "1.0",
          "x": "IOO",
          "xanchor": "center",
          "y": "Nikkei 225",
          "yanchor": "middle"
         },
         {
          "font": {
           "color": "black",
           "size": 10
          },
          "showarrow": false,
          "text": "0.6",
          "x": "SANB11",
          "xanchor": "center",
          "y": "Nikkei 225",
          "yanchor": "middle"
         },
         {
          "font": {
           "color": "black",
           "size": 10
          },
          "showarrow": false,
          "text": "0.5",
          "x": "BBDC4",
          "xanchor": "center",
          "y": "Nikkei 225",
          "yanchor": "middle"
         },
         {
          "font": {
           "color": "black",
           "size": 10
          },
          "showarrow": false,
          "text": "0.6",
          "x": "COCE5",
          "xanchor": "center",
          "y": "Nikkei 225",
          "yanchor": "middle"
         },
         {
          "font": {
           "color": "black",
           "size": 10
          },
          "showarrow": false,
          "text": "0.7",
          "x": "BBAS3",
          "xanchor": "center",
          "y": "Nikkei 225",
          "yanchor": "middle"
         },
         {
          "font": {
           "color": "black",
           "size": 10
          },
          "showarrow": false,
          "text": "0.8",
          "x": "ITSA4",
          "xanchor": "center",
          "y": "Nikkei 225",
          "yanchor": "middle"
         },
         {
          "font": {
           "color": "black",
           "size": 10
          },
          "showarrow": false,
          "text": "0.6",
          "x": "Gold",
          "xanchor": "center",
          "y": "Nikkei 225",
          "yanchor": "middle"
         },
         {
          "font": {
           "color": "black",
           "size": 10
          },
          "showarrow": false,
          "text": "0.9",
          "x": "USD/BRL",
          "xanchor": "center",
          "y": "Nikkei 225",
          "yanchor": "middle"
         },
         {
          "font": {
           "color": "black",
           "size": 10
          },
          "showarrow": false,
          "text": "0.7",
          "x": "SMAL11",
          "xanchor": "center",
          "y": "Nikkei 225",
          "yanchor": "middle"
         },
         {
          "font": {
           "color": "black",
           "size": 10
          },
          "showarrow": false,
          "text": "0.8",
          "x": "SUZB3",
          "xanchor": "center",
          "y": "Nikkei 225",
          "yanchor": "middle"
         },
         {
          "font": {
           "color": "black",
           "size": 10
          },
          "showarrow": false,
          "text": "0.3",
          "x": "B3SA3",
          "xanchor": "center",
          "y": "Nikkei 225",
          "yanchor": "middle"
         },
         {
          "font": {
           "color": "black",
           "size": 10
          },
          "showarrow": false,
          "text": "0.3",
          "x": "Hang Seng Index",
          "xanchor": "center",
          "y": "Nikkei 225",
          "yanchor": "middle"
         },
         {
          "font": {
           "color": "black",
           "size": 10
          },
          "showarrow": false,
          "text": "0.8",
          "x": "FTSE 100",
          "xanchor": "center",
          "y": "Nikkei 225",
          "yanchor": "middle"
         },
         {
          "font": {
           "color": "black",
           "size": 10
          },
          "showarrow": false,
          "text": "0.6",
          "x": "VALE3",
          "xanchor": "center",
          "y": "Nikkei 225",
          "yanchor": "middle"
         },
         {
          "font": {
           "color": "black",
           "size": 10
          },
          "showarrow": false,
          "text": "-0.4",
          "x": "EWZ",
          "xanchor": "center",
          "y": "Nikkei 225",
          "yanchor": "middle"
         },
         {
          "font": {
           "color": "black",
           "size": 10
          },
          "showarrow": false,
          "text": "0.3",
          "x": "GGBR4",
          "xanchor": "center",
          "y": "Nikkei 225",
          "yanchor": "middle"
         },
         {
          "font": {
           "color": "black",
           "size": 10
          },
          "showarrow": false,
          "text": "0.8",
          "x": "CPLE6",
          "xanchor": "center",
          "y": "Nikkei 225",
          "yanchor": "middle"
         },
         {
          "font": {
           "color": "black",
           "size": 10
          },
          "showarrow": false,
          "text": "0.1",
          "x": "CSNA3",
          "xanchor": "center",
          "y": "Nikkei 225",
          "yanchor": "middle"
         },
         {
          "font": {
           "color": "black",
           "size": 10
          },
          "showarrow": false,
          "text": "0.4",
          "x": "EEM",
          "xanchor": "center",
          "y": "Nikkei 225",
          "yanchor": "middle"
         },
         {
          "font": {
           "color": "black",
           "size": 10
          },
          "showarrow": false,
          "text": "-0.4",
          "x": "SRNA3",
          "xanchor": "center",
          "y": "Nikkei 225",
          "yanchor": "middle"
         },
         {
          "font": {
           "color": "black",
           "size": 10
          },
          "showarrow": false,
          "text": "0.8",
          "x": "EGIE3",
          "xanchor": "center",
          "y": "Nikkei 225",
          "yanchor": "middle"
         },
         {
          "font": {
           "color": "black",
           "size": 10
          },
          "showarrow": false,
          "text": "0.7",
          "x": "KLBN11",
          "xanchor": "center",
          "y": "Nikkei 225",
          "yanchor": "middle"
         },
         {
          "font": {
           "color": "black",
           "size": 10
          },
          "showarrow": false,
          "text": "-0.1",
          "x": "Oil",
          "xanchor": "center",
          "y": "Nikkei 225",
          "yanchor": "middle"
         },
         {
          "font": {
           "color": "black",
           "size": 10
          },
          "showarrow": false,
          "text": "-0.5",
          "x": "GOAU4",
          "xanchor": "center",
          "y": "Nikkei 225",
          "yanchor": "middle"
         },
         {
          "font": {
           "color": "black",
           "size": 10
          },
          "showarrow": false,
          "text": "0.3",
          "x": "PETR4",
          "xanchor": "center",
          "y": "Nikkei 225",
          "yanchor": "middle"
         },
         {
          "font": {
           "color": "black",
           "size": 10
          },
          "showarrow": false,
          "text": "-0.2",
          "x": "CMIG4",
          "xanchor": "center",
          "y": "Nikkei 225",
          "yanchor": "middle"
         },
         {
          "font": {
           "color": "black",
           "size": 10
          },
          "showarrow": false,
          "text": "-0.7",
          "x": "LIGT3",
          "xanchor": "center",
          "y": "Nikkei 225",
          "yanchor": "middle"
         },
         {
          "font": {
           "color": "black",
           "size": 10
          },
          "showarrow": false,
          "text": "0.4",
          "x": "MGLU3",
          "xanchor": "center",
          "y": "Nikkei 225",
          "yanchor": "middle"
         },
         {
          "font": {
           "color": "black",
           "size": 10
          },
          "showarrow": false,
          "text": "0.4",
          "x": "IEE",
          "xanchor": "center",
          "y": "Nikkei 225",
          "yanchor": "middle"
         },
         {
          "font": {
           "color": "black",
           "size": 10
          },
          "showarrow": false,
          "text": "0.9",
          "x": "DAX",
          "xanchor": "center",
          "y": "ITUB4",
          "yanchor": "middle"
         },
         {
          "font": {
           "color": "black",
           "size": 10
          },
          "showarrow": false,
          "text": "-0.1",
          "x": "BPAC11",
          "xanchor": "center",
          "y": "ITUB4",
          "yanchor": "middle"
         },
         {
          "font": {
           "color": "black",
           "size": 10
          },
          "showarrow": false,
          "text": "0.9",
          "x": "IBOV",
          "xanchor": "center",
          "y": "ITUB4",
          "yanchor": "middle"
         },
         {
          "font": {
           "color": "black",
           "size": 10
          },
          "showarrow": false,
          "text": "0.8",
          "x": "NASDAQ Composite",
          "xanchor": "center",
          "y": "ITUB4",
          "yanchor": "middle"
         },
         {
          "font": {
           "color": "black",
           "size": 10
          },
          "showarrow": false,
          "text": "0.8",
          "x": "BOVA11",
          "xanchor": "center",
          "y": "ITUB4",
          "yanchor": "middle"
         },
         {
          "font": {
           "color": "black",
           "size": 10
          },
          "showarrow": false,
          "text": "0.8",
          "x": "ENGI11",
          "xanchor": "center",
          "y": "ITUB4",
          "yanchor": "middle"
         },
         {
          "font": {
           "color": "black",
           "size": 10
          },
          "showarrow": false,
          "text": "0.7",
          "x": "IOO",
          "xanchor": "center",
          "y": "ITUB4",
          "yanchor": "middle"
         },
         {
          "font": {
           "color": "black",
           "size": 10
          },
          "showarrow": false,
          "text": "0.9",
          "x": "SANB11",
          "xanchor": "center",
          "y": "ITUB4",
          "yanchor": "middle"
         },
         {
          "font": {
           "color": "black",
           "size": 10
          },
          "showarrow": false,
          "text": "0.7",
          "x": "BBDC4",
          "xanchor": "center",
          "y": "ITUB4",
          "yanchor": "middle"
         },
         {
          "font": {
           "color": "black",
           "size": 10
          },
          "showarrow": false,
          "text": "0.9",
          "x": "COCE5",
          "xanchor": "center",
          "y": "ITUB4",
          "yanchor": "middle"
         },
         {
          "font": {
           "color": "black",
           "size": 10
          },
          "showarrow": false,
          "text": "0.9",
          "x": "BBAS3",
          "xanchor": "center",
          "y": "ITUB4",
          "yanchor": "middle"
         },
         {
          "font": {
           "color": "black",
           "size": 10
          },
          "showarrow": false,
          "text": "1.0",
          "x": "ITSA4",
          "xanchor": "center",
          "y": "ITUB4",
          "yanchor": "middle"
         },
         {
          "font": {
           "color": "black",
           "size": 10
          },
          "showarrow": false,
          "text": "0.7",
          "x": "Gold",
          "xanchor": "center",
          "y": "ITUB4",
          "yanchor": "middle"
         },
         {
          "font": {
           "color": "black",
           "size": 10
          },
          "showarrow": false,
          "text": "0.7",
          "x": "USD/BRL",
          "xanchor": "center",
          "y": "ITUB4",
          "yanchor": "middle"
         },
         {
          "font": {
           "color": "black",
           "size": 10
          },
          "showarrow": false,
          "text": "0.7",
          "x": "SMAL11",
          "xanchor": "center",
          "y": "ITUB4",
          "yanchor": "middle"
         },
         {
          "font": {
           "color": "black",
           "size": 10
          },
          "showarrow": false,
          "text": "0.8",
          "x": "SUZB3",
          "xanchor": "center",
          "y": "ITUB4",
          "yanchor": "middle"
         },
         {
          "font": {
           "color": "black",
           "size": 10
          },
          "showarrow": false,
          "text": "0.3",
          "x": "B3SA3",
          "xanchor": "center",
          "y": "ITUB4",
          "yanchor": "middle"
         },
         {
          "font": {
           "color": "black",
           "size": 10
          },
          "showarrow": false,
          "text": "0.7",
          "x": "Hang Seng Index",
          "xanchor": "center",
          "y": "ITUB4",
          "yanchor": "middle"
         },
         {
          "font": {
           "color": "black",
           "size": 10
          },
          "showarrow": false,
          "text": "0.8",
          "x": "FTSE 100",
          "xanchor": "center",
          "y": "ITUB4",
          "yanchor": "middle"
         },
         {
          "font": {
           "color": "black",
           "size": 10
          },
          "showarrow": false,
          "text": "0.6",
          "x": "VALE3",
          "xanchor": "center",
          "y": "ITUB4",
          "yanchor": "middle"
         },
         {
          "font": {
           "color": "black",
           "size": 10
          },
          "showarrow": false,
          "text": "-0.1",
          "x": "EWZ",
          "xanchor": "center",
          "y": "ITUB4",
          "yanchor": "middle"
         },
         {
          "font": {
           "color": "black",
           "size": 10
          },
          "showarrow": false,
          "text": "0.3",
          "x": "GGBR4",
          "xanchor": "center",
          "y": "ITUB4",
          "yanchor": "middle"
         },
         {
          "font": {
           "color": "black",
           "size": 10
          },
          "showarrow": false,
          "text": "0.7",
          "x": "CPLE6",
          "xanchor": "center",
          "y": "ITUB4",
          "yanchor": "middle"
         },
         {
          "font": {
           "color": "black",
           "size": 10
          },
          "showarrow": false,
          "text": "0.1",
          "x": "CSNA3",
          "xanchor": "center",
          "y": "ITUB4",
          "yanchor": "middle"
         },
         {
          "font": {
           "color": "black",
           "size": 10
          },
          "showarrow": false,
          "text": "0.6",
          "x": "EEM",
          "xanchor": "center",
          "y": "ITUB4",
          "yanchor": "middle"
         },
         {
          "font": {
           "color": "black",
           "size": 10
          },
          "showarrow": false,
          "text": "-0.3",
          "x": "SRNA3",
          "xanchor": "center",
          "y": "ITUB4",
          "yanchor": "middle"
         },
         {
          "font": {
           "color": "black",
           "size": 10
          },
          "showarrow": false,
          "text": "0.9",
          "x": "EGIE3",
          "xanchor": "center",
          "y": "ITUB4",
          "yanchor": "middle"
         },
         {
          "font": {
           "color": "black",
           "size": 10
          },
          "showarrow": false,
          "text": "0.2",
          "x": "KLBN11",
          "xanchor": "center",
          "y": "ITUB4",
          "yanchor": "middle"
         },
         {
          "font": {
           "color": "black",
           "size": 10
          },
          "showarrow": false,
          "text": "-0.0",
          "x": "Oil",
          "xanchor": "center",
          "y": "ITUB4",
          "yanchor": "middle"
         },
         {
          "font": {
           "color": "black",
           "size": 10
          },
          "showarrow": false,
          "text": "-0.4",
          "x": "GOAU4",
          "xanchor": "center",
          "y": "ITUB4",
          "yanchor": "middle"
         },
         {
          "font": {
           "color": "black",
           "size": 10
          },
          "showarrow": false,
          "text": "0.3",
          "x": "PETR4",
          "xanchor": "center",
          "y": "ITUB4",
          "yanchor": "middle"
         },
         {
          "font": {
           "color": "black",
           "size": 10
          },
          "showarrow": false,
          "text": "-0.5",
          "x": "CMIG4",
          "xanchor": "center",
          "y": "ITUB4",
          "yanchor": "middle"
         },
         {
          "font": {
           "color": "black",
           "size": 10
          },
          "showarrow": false,
          "text": "-0.5",
          "x": "LIGT3",
          "xanchor": "center",
          "y": "ITUB4",
          "yanchor": "middle"
         },
         {
          "font": {
           "color": "black",
           "size": 10
          },
          "showarrow": false,
          "text": "0.5",
          "x": "MGLU3",
          "xanchor": "center",
          "y": "ITUB4",
          "yanchor": "middle"
         },
         {
          "font": {
           "color": "black",
           "size": 10
          },
          "showarrow": false,
          "text": "0.0",
          "x": "IEE",
          "xanchor": "center",
          "y": "ITUB4",
          "yanchor": "middle"
         },
         {
          "font": {
           "color": "black",
           "size": 10
          },
          "showarrow": false,
          "text": "0.8",
          "x": "BPAC11",
          "xanchor": "center",
          "y": "DAX",
          "yanchor": "middle"
         },
         {
          "font": {
           "color": "black",
           "size": 10
          },
          "showarrow": false,
          "text": "0.9",
          "x": "IBOV",
          "xanchor": "center",
          "y": "DAX",
          "yanchor": "middle"
         },
         {
          "font": {
           "color": "black",
           "size": 10
          },
          "showarrow": false,
          "text": "0.9",
          "x": "NASDAQ Composite",
          "xanchor": "center",
          "y": "DAX",
          "yanchor": "middle"
         },
         {
          "font": {
           "color": "black",
           "size": 10
          },
          "showarrow": false,
          "text": "0.8",
          "x": "BOVA11",
          "xanchor": "center",
          "y": "DAX",
          "yanchor": "middle"
         },
         {
          "font": {
           "color": "black",
           "size": 10
          },
          "showarrow": false,
          "text": "0.9",
          "x": "ENGI11",
          "xanchor": "center",
          "y": "DAX",
          "yanchor": "middle"
         },
         {
          "font": {
           "color": "black",
           "size": 10
          },
          "showarrow": false,
          "text": "0.9",
          "x": "IOO",
          "xanchor": "center",
          "y": "DAX",
          "yanchor": "middle"
         },
         {
          "font": {
           "color": "black",
           "size": 10
          },
          "showarrow": false,
          "text": "0.6",
          "x": "SANB11",
          "xanchor": "center",
          "y": "DAX",
          "yanchor": "middle"
         },
         {
          "font": {
           "color": "black",
           "size": 10
          },
          "showarrow": false,
          "text": "0.5",
          "x": "BBDC4",
          "xanchor": "center",
          "y": "DAX",
          "yanchor": "middle"
         },
         {
          "font": {
           "color": "black",
           "size": 10
          },
          "showarrow": false,
          "text": "0.8",
          "x": "COCE5",
          "xanchor": "center",
          "y": "DAX",
          "yanchor": "middle"
         },
         {
          "font": {
           "color": "black",
           "size": 10
          },
          "showarrow": false,
          "text": "0.8",
          "x": "BBAS3",
          "xanchor": "center",
          "y": "DAX",
          "yanchor": "middle"
         },
         {
          "font": {
           "color": "black",
           "size": 10
          },
          "showarrow": false,
          "text": "0.9",
          "x": "ITSA4",
          "xanchor": "center",
          "y": "DAX",
          "yanchor": "middle"
         },
         {
          "font": {
           "color": "black",
           "size": 10
          },
          "showarrow": false,
          "text": "0.8",
          "x": "Gold",
          "xanchor": "center",
          "y": "DAX",
          "yanchor": "middle"
         },
         {
          "font": {
           "color": "black",
           "size": 10
          },
          "showarrow": false,
          "text": "0.9",
          "x": "USD/BRL",
          "xanchor": "center",
          "y": "DAX",
          "yanchor": "middle"
         },
         {
          "font": {
           "color": "black",
           "size": 10
          },
          "showarrow": false,
          "text": "0.7",
          "x": "SMAL11",
          "xanchor": "center",
          "y": "DAX",
          "yanchor": "middle"
         },
         {
          "font": {
           "color": "black",
           "size": 10
          },
          "showarrow": false,
          "text": "0.9",
          "x": "SUZB3",
          "xanchor": "center",
          "y": "DAX",
          "yanchor": "middle"
         },
         {
          "font": {
           "color": "black",
           "size": 10
          },
          "showarrow": false,
          "text": "0.2",
          "x": "B3SA3",
          "xanchor": "center",
          "y": "DAX",
          "yanchor": "middle"
         },
         {
          "font": {
           "color": "black",
           "size": 10
          },
          "showarrow": false,
          "text": "0.5",
          "x": "Hang Seng Index",
          "xanchor": "center",
          "y": "DAX",
          "yanchor": "middle"
         },
         {
          "font": {
           "color": "black",
           "size": 10
          },
          "showarrow": false,
          "text": "0.9",
          "x": "FTSE 100",
          "xanchor": "center",
          "y": "DAX",
          "yanchor": "middle"
         },
         {
          "font": {
           "color": "black",
           "size": 10
          },
          "showarrow": false,
          "text": "0.6",
          "x": "VALE3",
          "xanchor": "center",
          "y": "DAX",
          "yanchor": "middle"
         },
         {
          "font": {
           "color": "black",
           "size": 10
          },
          "showarrow": false,
          "text": "-0.3",
          "x": "EWZ",
          "xanchor": "center",
          "y": "DAX",
          "yanchor": "middle"
         },
         {
          "font": {
           "color": "black",
           "size": 10
          },
          "showarrow": false,
          "text": "0.3",
          "x": "GGBR4",
          "xanchor": "center",
          "y": "DAX",
          "yanchor": "middle"
         },
         {
          "font": {
           "color": "black",
           "size": 10
          },
          "showarrow": false,
          "text": "0.8",
          "x": "CPLE6",
          "xanchor": "center",
          "y": "DAX",
          "yanchor": "middle"
         },
         {
          "font": {
           "color": "black",
           "size": 10
          },
          "showarrow": false,
          "text": "0.1",
          "x": "CSNA3",
          "xanchor": "center",
          "y": "DAX",
          "yanchor": "middle"
         },
         {
          "font": {
           "color": "black",
           "size": 10
          },
          "showarrow": false,
          "text": "0.6",
          "x": "EEM",
          "xanchor": "center",
          "y": "DAX",
          "yanchor": "middle"
         },
         {
          "font": {
           "color": "black",
           "size": 10
          },
          "showarrow": false,
          "text": "-0.5",
          "x": "SRNA3",
          "xanchor": "center",
          "y": "DAX",
          "yanchor": "middle"
         },
         {
          "font": {
           "color": "black",
           "size": 10
          },
          "showarrow": false,
          "text": "0.9",
          "x": "EGIE3",
          "xanchor": "center",
          "y": "DAX",
          "yanchor": "middle"
         },
         {
          "font": {
           "color": "black",
           "size": 10
          },
          "showarrow": false,
          "text": "0.7",
          "x": "KLBN11",
          "xanchor": "center",
          "y": "DAX",
          "yanchor": "middle"
         },
         {
          "font": {
           "color": "black",
           "size": 10
          },
          "showarrow": false,
          "text": "-0.0",
          "x": "Oil",
          "xanchor": "center",
          "y": "DAX",
          "yanchor": "middle"
         },
         {
          "font": {
           "color": "black",
           "size": 10
          },
          "showarrow": false,
          "text": "-0.5",
          "x": "GOAU4",
          "xanchor": "center",
          "y": "DAX",
          "yanchor": "middle"
         },
         {
          "font": {
           "color": "black",
           "size": 10
          },
          "showarrow": false,
          "text": "0.2",
          "x": "PETR4",
          "xanchor": "center",
          "y": "DAX",
          "yanchor": "middle"
         },
         {
          "font": {
           "color": "black",
           "size": 10
          },
          "showarrow": false,
          "text": "-0.4",
          "x": "CMIG4",
          "xanchor": "center",
          "y": "DAX",
          "yanchor": "middle"
         },
         {
          "font": {
           "color": "black",
           "size": 10
          },
          "showarrow": false,
          "text": "-0.7",
          "x": "LIGT3",
          "xanchor": "center",
          "y": "DAX",
          "yanchor": "middle"
         },
         {
          "font": {
           "color": "black",
           "size": 10
          },
          "showarrow": false,
          "text": "0.4",
          "x": "MGLU3",
          "xanchor": "center",
          "y": "DAX",
          "yanchor": "middle"
         },
         {
          "font": {
           "color": "black",
           "size": 10
          },
          "showarrow": false,
          "text": "0.5",
          "x": "IEE",
          "xanchor": "center",
          "y": "DAX",
          "yanchor": "middle"
         },
         {
          "font": {
           "color": "black",
           "size": 10
          },
          "showarrow": false,
          "text": "0.9",
          "x": "IBOV",
          "xanchor": "center",
          "y": "BPAC11",
          "yanchor": "middle"
         },
         {
          "font": {
           "color": "black",
           "size": 10
          },
          "showarrow": false,
          "text": "0.9",
          "x": "NASDAQ Composite",
          "xanchor": "center",
          "y": "BPAC11",
          "yanchor": "middle"
         },
         {
          "font": {
           "color": "black",
           "size": 10
          },
          "showarrow": false,
          "text": "0.9",
          "x": "BOVA11",
          "xanchor": "center",
          "y": "BPAC11",
          "yanchor": "middle"
         },
         {
          "font": {
           "color": "black",
           "size": 10
          },
          "showarrow": false,
          "text": "0.8",
          "x": "ENGI11",
          "xanchor": "center",
          "y": "BPAC11",
          "yanchor": "middle"
         },
         {
          "font": {
           "color": "black",
           "size": 10
          },
          "showarrow": false,
          "text": "0.9",
          "x": "IOO",
          "xanchor": "center",
          "y": "BPAC11",
          "yanchor": "middle"
         },
         {
          "font": {
           "color": "black",
           "size": 10
          },
          "showarrow": false,
          "text": "-0.1",
          "x": "SANB11",
          "xanchor": "center",
          "y": "BPAC11",
          "yanchor": "middle"
         },
         {
          "font": {
           "color": "black",
           "size": 10
          },
          "showarrow": false,
          "text": "-0.3",
          "x": "BBDC4",
          "xanchor": "center",
          "y": "BPAC11",
          "yanchor": "middle"
         },
         {
          "font": {
           "color": "black",
           "size": 10
          },
          "showarrow": false,
          "text": "-0.1",
          "x": "COCE5",
          "xanchor": "center",
          "y": "BPAC11",
          "yanchor": "middle"
         },
         {
          "font": {
           "color": "black",
           "size": 10
          },
          "showarrow": false,
          "text": "0.4",
          "x": "BBAS3",
          "xanchor": "center",
          "y": "BPAC11",
          "yanchor": "middle"
         },
         {
          "font": {
           "color": "black",
           "size": 10
          },
          "showarrow": false,
          "text": "0.2",
          "x": "ITSA4",
          "xanchor": "center",
          "y": "BPAC11",
          "yanchor": "middle"
         },
         {
          "font": {
           "color": "black",
           "size": 10
          },
          "showarrow": false,
          "text": "0.9",
          "x": "Gold",
          "xanchor": "center",
          "y": "BPAC11",
          "yanchor": "middle"
         },
         {
          "font": {
           "color": "black",
           "size": 10
          },
          "showarrow": false,
          "text": "0.8",
          "x": "USD/BRL",
          "xanchor": "center",
          "y": "BPAC11",
          "yanchor": "middle"
         },
         {
          "font": {
           "color": "black",
           "size": 10
          },
          "showarrow": false,
          "text": "0.7",
          "x": "SMAL11",
          "xanchor": "center",
          "y": "BPAC11",
          "yanchor": "middle"
         },
         {
          "font": {
           "color": "black",
           "size": 10
          },
          "showarrow": false,
          "text": "0.7",
          "x": "SUZB3",
          "xanchor": "center",
          "y": "BPAC11",
          "yanchor": "middle"
         },
         {
          "font": {
           "color": "black",
           "size": 10
          },
          "showarrow": false,
          "text": "0.6",
          "x": "B3SA3",
          "xanchor": "center",
          "y": "BPAC11",
          "yanchor": "middle"
         },
         {
          "font": {
           "color": "black",
           "size": 10
          },
          "showarrow": false,
          "text": "-0.7",
          "x": "Hang Seng Index",
          "xanchor": "center",
          "y": "BPAC11",
          "yanchor": "middle"
         },
         {
          "font": {
           "color": "black",
           "size": 10
          },
          "showarrow": false,
          "text": "0.1",
          "x": "FTSE 100",
          "xanchor": "center",
          "y": "BPAC11",
          "yanchor": "middle"
         },
         {
          "font": {
           "color": "black",
           "size": 10
          },
          "showarrow": false,
          "text": "0.7",
          "x": "VALE3",
          "xanchor": "center",
          "y": "BPAC11",
          "yanchor": "middle"
         },
         {
          "font": {
           "color": "black",
           "size": 10
          },
          "showarrow": false,
          "text": "-0.4",
          "x": "EWZ",
          "xanchor": "center",
          "y": "BPAC11",
          "yanchor": "middle"
         },
         {
          "font": {
           "color": "black",
           "size": 10
          },
          "showarrow": false,
          "text": "0.8",
          "x": "GGBR4",
          "xanchor": "center",
          "y": "BPAC11",
          "yanchor": "middle"
         },
         {
          "font": {
           "color": "black",
           "size": 10
          },
          "showarrow": false,
          "text": "0.9",
          "x": "CPLE6",
          "xanchor": "center",
          "y": "BPAC11",
          "yanchor": "middle"
         },
         {
          "font": {
           "color": "black",
           "size": 10
          },
          "showarrow": false,
          "text": "0.5",
          "x": "CSNA3",
          "xanchor": "center",
          "y": "BPAC11",
          "yanchor": "middle"
         },
         {
          "font": {
           "color": "black",
           "size": 10
          },
          "showarrow": false,
          "text": "0.0",
          "x": "EEM",
          "xanchor": "center",
          "y": "BPAC11",
          "yanchor": "middle"
         },
         {
          "font": {
           "color": "black",
           "size": 10
          },
          "showarrow": false,
          "text": "-0.2",
          "x": "SRNA3",
          "xanchor": "center",
          "y": "BPAC11",
          "yanchor": "middle"
         },
         {
          "font": {
           "color": "black",
           "size": 10
          },
          "showarrow": false,
          "text": "0.7",
          "x": "EGIE3",
          "xanchor": "center",
          "y": "BPAC11",
          "yanchor": "middle"
         },
         {
          "font": {
           "color": "black",
           "size": 10
          },
          "showarrow": false,
          "text": "0.6",
          "x": "KLBN11",
          "xanchor": "center",
          "y": "BPAC11",
          "yanchor": "middle"
         },
         {
          "font": {
           "color": "black",
           "size": 10
          },
          "showarrow": false,
          "text": "0.5",
          "x": "Oil",
          "xanchor": "center",
          "y": "BPAC11",
          "yanchor": "middle"
         },
         {
          "font": {
           "color": "black",
           "size": 10
          },
          "showarrow": false,
          "text": "0.8",
          "x": "GOAU4",
          "xanchor": "center",
          "y": "BPAC11",
          "yanchor": "middle"
         },
         {
          "font": {
           "color": "black",
           "size": 10
          },
          "showarrow": false,
          "text": "0.8",
          "x": "PETR4",
          "xanchor": "center",
          "y": "BPAC11",
          "yanchor": "middle"
         },
         {
          "font": {
           "color": "black",
           "size": 10
          },
          "showarrow": false,
          "text": "0.9",
          "x": "CMIG4",
          "xanchor": "center",
          "y": "BPAC11",
          "yanchor": "middle"
         },
         {
          "font": {
           "color": "black",
           "size": 10
          },
          "showarrow": false,
          "text": "-0.6",
          "x": "LIGT3",
          "xanchor": "center",
          "y": "BPAC11",
          "yanchor": "middle"
         },
         {
          "font": {
           "color": "black",
           "size": 10
          },
          "showarrow": false,
          "text": "0.2",
          "x": "MGLU3",
          "xanchor": "center",
          "y": "BPAC11",
          "yanchor": "middle"
         },
         {
          "font": {
           "color": "black",
           "size": 10
          },
          "showarrow": false,
          "text": "1.0",
          "x": "IEE",
          "xanchor": "center",
          "y": "BPAC11",
          "yanchor": "middle"
         },
         {
          "font": {
           "color": "black",
           "size": 10
          },
          "showarrow": false,
          "text": "0.9",
          "x": "NASDAQ Composite",
          "xanchor": "center",
          "y": "IBOV",
          "yanchor": "middle"
         },
         {
          "font": {
           "color": "black",
           "size": 10
          },
          "showarrow": false,
          "text": "1.0",
          "x": "BOVA11",
          "xanchor": "center",
          "y": "IBOV",
          "yanchor": "middle"
         },
         {
          "font": {
           "color": "black",
           "size": 10
          },
          "showarrow": false,
          "text": "0.9",
          "x": "ENGI11",
          "xanchor": "center",
          "y": "IBOV",
          "yanchor": "middle"
         },
         {
          "font": {
           "color": "black",
           "size": 10
          },
          "showarrow": false,
          "text": "0.9",
          "x": "IOO",
          "xanchor": "center",
          "y": "IBOV",
          "yanchor": "middle"
         },
         {
          "font": {
           "color": "black",
           "size": 10
          },
          "showarrow": false,
          "text": "0.8",
          "x": "SANB11",
          "xanchor": "center",
          "y": "IBOV",
          "yanchor": "middle"
         },
         {
          "font": {
           "color": "black",
           "size": 10
          },
          "showarrow": false,
          "text": "0.6",
          "x": "BBDC4",
          "xanchor": "center",
          "y": "IBOV",
          "yanchor": "middle"
         },
         {
          "font": {
           "color": "black",
           "size": 10
          },
          "showarrow": false,
          "text": "0.8",
          "x": "COCE5",
          "xanchor": "center",
          "y": "IBOV",
          "yanchor": "middle"
         },
         {
          "font": {
           "color": "black",
           "size": 10
          },
          "showarrow": false,
          "text": "0.9",
          "x": "BBAS3",
          "xanchor": "center",
          "y": "IBOV",
          "yanchor": "middle"
         },
         {
          "font": {
           "color": "black",
           "size": 10
          },
          "showarrow": false,
          "text": "0.9",
          "x": "ITSA4",
          "xanchor": "center",
          "y": "IBOV",
          "yanchor": "middle"
         },
         {
          "font": {
           "color": "black",
           "size": 10
          },
          "showarrow": false,
          "text": "0.8",
          "x": "Gold",
          "xanchor": "center",
          "y": "IBOV",
          "yanchor": "middle"
         },
         {
          "font": {
           "color": "black",
           "size": 10
          },
          "showarrow": false,
          "text": "0.8",
          "x": "USD/BRL",
          "xanchor": "center",
          "y": "IBOV",
          "yanchor": "middle"
         },
         {
          "font": {
           "color": "black",
           "size": 10
          },
          "showarrow": false,
          "text": "0.9",
          "x": "SMAL11",
          "xanchor": "center",
          "y": "IBOV",
          "yanchor": "middle"
         },
         {
          "font": {
           "color": "black",
           "size": 10
          },
          "showarrow": false,
          "text": "0.9",
          "x": "SUZB3",
          "xanchor": "center",
          "y": "IBOV",
          "yanchor": "middle"
         },
         {
          "font": {
           "color": "black",
           "size": 10
          },
          "showarrow": false,
          "text": "0.6",
          "x": "B3SA3",
          "xanchor": "center",
          "y": "IBOV",
          "yanchor": "middle"
         },
         {
          "font": {
           "color": "black",
           "size": 10
          },
          "showarrow": false,
          "text": "0.5",
          "x": "Hang Seng Index",
          "xanchor": "center",
          "y": "IBOV",
          "yanchor": "middle"
         },
         {
          "font": {
           "color": "black",
           "size": 10
          },
          "showarrow": false,
          "text": "0.7",
          "x": "FTSE 100",
          "xanchor": "center",
          "y": "IBOV",
          "yanchor": "middle"
         },
         {
          "font": {
           "color": "black",
           "size": 10
          },
          "showarrow": false,
          "text": "0.9",
          "x": "VALE3",
          "xanchor": "center",
          "y": "IBOV",
          "yanchor": "middle"
         },
         {
          "font": {
           "color": "black",
           "size": 10
          },
          "showarrow": false,
          "text": "-0.0",
          "x": "EWZ",
          "xanchor": "center",
          "y": "IBOV",
          "yanchor": "middle"
         },
         {
          "font": {
           "color": "black",
           "size": 10
          },
          "showarrow": false,
          "text": "0.6",
          "x": "GGBR4",
          "xanchor": "center",
          "y": "IBOV",
          "yanchor": "middle"
         },
         {
          "font": {
           "color": "black",
           "size": 10
          },
          "showarrow": false,
          "text": "0.9",
          "x": "CPLE6",
          "xanchor": "center",
          "y": "IBOV",
          "yanchor": "middle"
         },
         {
          "font": {
           "color": "black",
           "size": 10
          },
          "showarrow": false,
          "text": "0.4",
          "x": "CSNA3",
          "xanchor": "center",
          "y": "IBOV",
          "yanchor": "middle"
         },
         {
          "font": {
           "color": "black",
           "size": 10
          },
          "showarrow": false,
          "text": "0.7",
          "x": "EEM",
          "xanchor": "center",
          "y": "IBOV",
          "yanchor": "middle"
         },
         {
          "font": {
           "color": "black",
           "size": 10
          },
          "showarrow": false,
          "text": "-0.2",
          "x": "SRNA3",
          "xanchor": "center",
          "y": "IBOV",
          "yanchor": "middle"
         },
         {
          "font": {
           "color": "black",
           "size": 10
          },
          "showarrow": false,
          "text": "0.9",
          "x": "EGIE3",
          "xanchor": "center",
          "y": "IBOV",
          "yanchor": "middle"
         },
         {
          "font": {
           "color": "black",
           "size": 10
          },
          "showarrow": false,
          "text": "0.6",
          "x": "KLBN11",
          "xanchor": "center",
          "y": "IBOV",
          "yanchor": "middle"
         },
         {
          "font": {
           "color": "black",
           "size": 10
          },
          "showarrow": false,
          "text": "0.2",
          "x": "Oil",
          "xanchor": "center",
          "y": "IBOV",
          "yanchor": "middle"
         },
         {
          "font": {
           "color": "black",
           "size": 10
          },
          "showarrow": false,
          "text": "-0.2",
          "x": "GOAU4",
          "xanchor": "center",
          "y": "IBOV",
          "yanchor": "middle"
         },
         {
          "font": {
           "color": "black",
           "size": 10
          },
          "showarrow": false,
          "text": "0.6",
          "x": "PETR4",
          "xanchor": "center",
          "y": "IBOV",
          "yanchor": "middle"
         },
         {
          "font": {
           "color": "black",
           "size": 10
          },
          "showarrow": false,
          "text": "-0.5",
          "x": "CMIG4",
          "xanchor": "center",
          "y": "IBOV",
          "yanchor": "middle"
         },
         {
          "font": {
           "color": "black",
           "size": 10
          },
          "showarrow": false,
          "text": "-0.5",
          "x": "LIGT3",
          "xanchor": "center",
          "y": "IBOV",
          "yanchor": "middle"
         },
         {
          "font": {
           "color": "black",
           "size": 10
          },
          "showarrow": false,
          "text": "0.6",
          "x": "MGLU3",
          "xanchor": "center",
          "y": "IBOV",
          "yanchor": "middle"
         },
         {
          "font": {
           "color": "black",
           "size": 10
          },
          "showarrow": false,
          "text": "-0.2",
          "x": "IEE",
          "xanchor": "center",
          "y": "IBOV",
          "yanchor": "middle"
         },
         {
          "font": {
           "color": "black",
           "size": 10
          },
          "showarrow": false,
          "text": "0.9",
          "x": "BOVA11",
          "xanchor": "center",
          "y": "NASDAQ Composite",
          "yanchor": "middle"
         },
         {
          "font": {
           "color": "black",
           "size": 10
          },
          "showarrow": false,
          "text": "0.9",
          "x": "ENGI11",
          "xanchor": "center",
          "y": "NASDAQ Composite",
          "yanchor": "middle"
         },
         {
          "font": {
           "color": "black",
           "size": 10
          },
          "showarrow": false,
          "text": "1.0",
          "x": "IOO",
          "xanchor": "center",
          "y": "NASDAQ Composite",
          "yanchor": "middle"
         },
         {
          "font": {
           "color": "black",
           "size": 10
          },
          "showarrow": false,
          "text": "0.7",
          "x": "SANB11",
          "xanchor": "center",
          "y": "NASDAQ Composite",
          "yanchor": "middle"
         },
         {
          "font": {
           "color": "black",
           "size": 10
          },
          "showarrow": false,
          "text": "0.4",
          "x": "BBDC4",
          "xanchor": "center",
          "y": "NASDAQ Composite",
          "yanchor": "middle"
         },
         {
          "font": {
           "color": "black",
           "size": 10
          },
          "showarrow": false,
          "text": "0.7",
          "x": "COCE5",
          "xanchor": "center",
          "y": "NASDAQ Composite",
          "yanchor": "middle"
         },
         {
          "font": {
           "color": "black",
           "size": 10
          },
          "showarrow": false,
          "text": "0.7",
          "x": "BBAS3",
          "xanchor": "center",
          "y": "NASDAQ Composite",
          "yanchor": "middle"
         },
         {
          "font": {
           "color": "black",
           "size": 10
          },
          "showarrow": false,
          "text": "0.8",
          "x": "ITSA4",
          "xanchor": "center",
          "y": "NASDAQ Composite",
          "yanchor": "middle"
         },
         {
          "font": {
           "color": "black",
           "size": 10
          },
          "showarrow": false,
          "text": "0.8",
          "x": "Gold",
          "xanchor": "center",
          "y": "NASDAQ Composite",
          "yanchor": "middle"
         },
         {
          "font": {
           "color": "black",
           "size": 10
          },
          "showarrow": false,
          "text": "0.9",
          "x": "USD/BRL",
          "xanchor": "center",
          "y": "NASDAQ Composite",
          "yanchor": "middle"
         },
         {
          "font": {
           "color": "black",
           "size": 10
          },
          "showarrow": false,
          "text": "0.8",
          "x": "SMAL11",
          "xanchor": "center",
          "y": "NASDAQ Composite",
          "yanchor": "middle"
         },
         {
          "font": {
           "color": "black",
           "size": 10
          },
          "showarrow": false,
          "text": "0.9",
          "x": "SUZB3",
          "xanchor": "center",
          "y": "NASDAQ Composite",
          "yanchor": "middle"
         },
         {
          "font": {
           "color": "black",
           "size": 10
          },
          "showarrow": false,
          "text": "0.4",
          "x": "B3SA3",
          "xanchor": "center",
          "y": "NASDAQ Composite",
          "yanchor": "middle"
         },
         {
          "font": {
           "color": "black",
           "size": 10
          },
          "showarrow": false,
          "text": "0.3",
          "x": "Hang Seng Index",
          "xanchor": "center",
          "y": "NASDAQ Composite",
          "yanchor": "middle"
         },
         {
          "font": {
           "color": "black",
           "size": 10
          },
          "showarrow": false,
          "text": "0.7",
          "x": "FTSE 100",
          "xanchor": "center",
          "y": "NASDAQ Composite",
          "yanchor": "middle"
         },
         {
          "font": {
           "color": "black",
           "size": 10
          },
          "showarrow": false,
          "text": "0.7",
          "x": "VALE3",
          "xanchor": "center",
          "y": "NASDAQ Composite",
          "yanchor": "middle"
         },
         {
          "font": {
           "color": "black",
           "size": 10
          },
          "showarrow": false,
          "text": "-0.4",
          "x": "EWZ",
          "xanchor": "center",
          "y": "NASDAQ Composite",
          "yanchor": "middle"
         },
         {
          "font": {
           "color": "black",
           "size": 10
          },
          "showarrow": false,
          "text": "0.4",
          "x": "GGBR4",
          "xanchor": "center",
          "y": "NASDAQ Composite",
          "yanchor": "middle"
         },
         {
          "font": {
           "color": "black",
           "size": 10
          },
          "showarrow": false,
          "text": "0.9",
          "x": "CPLE6",
          "xanchor": "center",
          "y": "NASDAQ Composite",
          "yanchor": "middle"
         },
         {
          "font": {
           "color": "black",
           "size": 10
          },
          "showarrow": false,
          "text": "0.2",
          "x": "CSNA3",
          "xanchor": "center",
          "y": "NASDAQ Composite",
          "yanchor": "middle"
         },
         {
          "font": {
           "color": "black",
           "size": 10
          },
          "showarrow": false,
          "text": "0.4",
          "x": "EEM",
          "xanchor": "center",
          "y": "NASDAQ Composite",
          "yanchor": "middle"
         },
         {
          "font": {
           "color": "black",
           "size": 10
          },
          "showarrow": false,
          "text": "-0.1",
          "x": "SRNA3",
          "xanchor": "center",
          "y": "NASDAQ Composite",
          "yanchor": "middle"
         },
         {
          "font": {
           "color": "black",
           "size": 10
          },
          "showarrow": false,
          "text": "0.9",
          "x": "EGIE3",
          "xanchor": "center",
          "y": "NASDAQ Composite",
          "yanchor": "middle"
         },
         {
          "font": {
           "color": "black",
           "size": 10
          },
          "showarrow": false,
          "text": "0.7",
          "x": "KLBN11",
          "xanchor": "center",
          "y": "NASDAQ Composite",
          "yanchor": "middle"
         },
         {
          "font": {
           "color": "black",
           "size": 10
          },
          "showarrow": false,
          "text": "-0.0",
          "x": "Oil",
          "xanchor": "center",
          "y": "NASDAQ Composite",
          "yanchor": "middle"
         },
         {
          "font": {
           "color": "black",
           "size": 10
          },
          "showarrow": false,
          "text": "-0.5",
          "x": "GOAU4",
          "xanchor": "center",
          "y": "NASDAQ Composite",
          "yanchor": "middle"
         },
         {
          "font": {
           "color": "black",
           "size": 10
          },
          "showarrow": false,
          "text": "0.3",
          "x": "PETR4",
          "xanchor": "center",
          "y": "NASDAQ Composite",
          "yanchor": "middle"
         },
         {
          "font": {
           "color": "black",
           "size": 10
          },
          "showarrow": false,
          "text": "-0.3",
          "x": "CMIG4",
          "xanchor": "center",
          "y": "NASDAQ Composite",
          "yanchor": "middle"
         },
         {
          "font": {
           "color": "black",
           "size": 10
          },
          "showarrow": false,
          "text": "-0.7",
          "x": "LIGT3",
          "xanchor": "center",
          "y": "NASDAQ Composite",
          "yanchor": "middle"
         },
         {
          "font": {
           "color": "black",
           "size": 10
          },
          "showarrow": false,
          "text": "0.6",
          "x": "MGLU3",
          "xanchor": "center",
          "y": "NASDAQ Composite",
          "yanchor": "middle"
         },
         {
          "font": {
           "color": "black",
           "size": 10
          },
          "showarrow": false,
          "text": "0.5",
          "x": "IEE",
          "xanchor": "center",
          "y": "NASDAQ Composite",
          "yanchor": "middle"
         },
         {
          "font": {
           "color": "black",
           "size": 10
          },
          "showarrow": false,
          "text": "0.9",
          "x": "ENGI11",
          "xanchor": "center",
          "y": "BOVA11",
          "yanchor": "middle"
         },
         {
          "font": {
           "color": "black",
           "size": 10
          },
          "showarrow": false,
          "text": "0.9",
          "x": "IOO",
          "xanchor": "center",
          "y": "BOVA11",
          "yanchor": "middle"
         },
         {
          "font": {
           "color": "black",
           "size": 10
          },
          "showarrow": false,
          "text": "0.8",
          "x": "SANB11",
          "xanchor": "center",
          "y": "BOVA11",
          "yanchor": "middle"
         },
         {
          "font": {
           "color": "black",
           "size": 10
          },
          "showarrow": false,
          "text": "0.6",
          "x": "BBDC4",
          "xanchor": "center",
          "y": "BOVA11",
          "yanchor": "middle"
         },
         {
          "font": {
           "color": "black",
           "size": 10
          },
          "showarrow": false,
          "text": "0.6",
          "x": "COCE5",
          "xanchor": "center",
          "y": "BOVA11",
          "yanchor": "middle"
         },
         {
          "font": {
           "color": "black",
           "size": 10
          },
          "showarrow": false,
          "text": "0.8",
          "x": "BBAS3",
          "xanchor": "center",
          "y": "BOVA11",
          "yanchor": "middle"
         },
         {
          "font": {
           "color": "black",
           "size": 10
          },
          "showarrow": false,
          "text": "0.9",
          "x": "ITSA4",
          "xanchor": "center",
          "y": "BOVA11",
          "yanchor": "middle"
         },
         {
          "font": {
           "color": "black",
           "size": 10
          },
          "showarrow": false,
          "text": "0.7",
          "x": "Gold",
          "xanchor": "center",
          "y": "BOVA11",
          "yanchor": "middle"
         },
         {
          "font": {
           "color": "black",
           "size": 10
          },
          "showarrow": false,
          "text": "0.8",
          "x": "USD/BRL",
          "xanchor": "center",
          "y": "BOVA11",
          "yanchor": "middle"
         },
         {
          "font": {
           "color": "black",
           "size": 10
          },
          "showarrow": false,
          "text": "0.9",
          "x": "SMAL11",
          "xanchor": "center",
          "y": "BOVA11",
          "yanchor": "middle"
         },
         {
          "font": {
           "color": "black",
           "size": 10
          },
          "showarrow": false,
          "text": "0.9",
          "x": "SUZB3",
          "xanchor": "center",
          "y": "BOVA11",
          "yanchor": "middle"
         },
         {
          "font": {
           "color": "black",
           "size": 10
          },
          "showarrow": false,
          "text": "0.8",
          "x": "B3SA3",
          "xanchor": "center",
          "y": "BOVA11",
          "yanchor": "middle"
         },
         {
          "font": {
           "color": "black",
           "size": 10
          },
          "showarrow": false,
          "text": "0.1",
          "x": "Hang Seng Index",
          "xanchor": "center",
          "y": "BOVA11",
          "yanchor": "middle"
         },
         {
          "font": {
           "color": "black",
           "size": 10
          },
          "showarrow": false,
          "text": "0.6",
          "x": "FTSE 100",
          "xanchor": "center",
          "y": "BOVA11",
          "yanchor": "middle"
         },
         {
          "font": {
           "color": "black",
           "size": 10
          },
          "showarrow": false,
          "text": "0.9",
          "x": "VALE3",
          "xanchor": "center",
          "y": "BOVA11",
          "yanchor": "middle"
         },
         {
          "font": {
           "color": "black",
           "size": 10
          },
          "showarrow": false,
          "text": "-0.3",
          "x": "EWZ",
          "xanchor": "center",
          "y": "BOVA11",
          "yanchor": "middle"
         },
         {
          "font": {
           "color": "black",
           "size": 10
          },
          "showarrow": false,
          "text": "0.7",
          "x": "GGBR4",
          "xanchor": "center",
          "y": "BOVA11",
          "yanchor": "middle"
         },
         {
          "font": {
           "color": "black",
           "size": 10
          },
          "showarrow": false,
          "text": "0.9",
          "x": "CPLE6",
          "xanchor": "center",
          "y": "BOVA11",
          "yanchor": "middle"
         },
         {
          "font": {
           "color": "black",
           "size": 10
          },
          "showarrow": false,
          "text": "0.4",
          "x": "CSNA3",
          "xanchor": "center",
          "y": "BOVA11",
          "yanchor": "middle"
         },
         {
          "font": {
           "color": "black",
           "size": 10
          },
          "showarrow": false,
          "text": "0.4",
          "x": "EEM",
          "xanchor": "center",
          "y": "BOVA11",
          "yanchor": "middle"
         },
         {
          "font": {
           "color": "black",
           "size": 10
          },
          "showarrow": false,
          "text": "-0.2",
          "x": "SRNA3",
          "xanchor": "center",
          "y": "BOVA11",
          "yanchor": "middle"
         },
         {
          "font": {
           "color": "black",
           "size": 10
          },
          "showarrow": false,
          "text": "0.8",
          "x": "EGIE3",
          "xanchor": "center",
          "y": "BOVA11",
          "yanchor": "middle"
         },
         {
          "font": {
           "color": "black",
           "size": 10
          },
          "showarrow": false,
          "text": "0.6",
          "x": "KLBN11",
          "xanchor": "center",
          "y": "BOVA11",
          "yanchor": "middle"
         },
         {
          "font": {
           "color": "black",
           "size": 10
          },
          "showarrow": false,
          "text": "-0.0",
          "x": "Oil",
          "xanchor": "center",
          "y": "BOVA11",
          "yanchor": "middle"
         },
         {
          "font": {
           "color": "black",
           "size": 10
          },
          "showarrow": false,
          "text": "-0.2",
          "x": "GOAU4",
          "xanchor": "center",
          "y": "BOVA11",
          "yanchor": "middle"
         },
         {
          "font": {
           "color": "black",
           "size": 10
          },
          "showarrow": false,
          "text": "0.7",
          "x": "PETR4",
          "xanchor": "center",
          "y": "BOVA11",
          "yanchor": "middle"
         },
         {
          "font": {
           "color": "black",
           "size": 10
          },
          "showarrow": false,
          "text": "0.3",
          "x": "CMIG4",
          "xanchor": "center",
          "y": "BOVA11",
          "yanchor": "middle"
         },
         {
          "font": {
           "color": "black",
           "size": 10
          },
          "showarrow": false,
          "text": "-0.5",
          "x": "LIGT3",
          "xanchor": "center",
          "y": "BOVA11",
          "yanchor": "middle"
         },
         {
          "font": {
           "color": "black",
           "size": 10
          },
          "showarrow": false,
          "text": "0.6",
          "x": "MGLU3",
          "xanchor": "center",
          "y": "BOVA11",
          "yanchor": "middle"
         },
         {
          "font": {
           "color": "black",
           "size": 10
          },
          "showarrow": false,
          "text": "-0.2",
          "x": "IEE",
          "xanchor": "center",
          "y": "BOVA11",
          "yanchor": "middle"
         },
         {
          "font": {
           "color": "black",
           "size": 10
          },
          "showarrow": false,
          "text": "0.9",
          "x": "IOO",
          "xanchor": "center",
          "y": "ENGI11",
          "yanchor": "middle"
         },
         {
          "font": {
           "color": "black",
           "size": 10
          },
          "showarrow": false,
          "text": "0.8",
          "x": "SANB11",
          "xanchor": "center",
          "y": "ENGI11",
          "yanchor": "middle"
         },
         {
          "font": {
           "color": "black",
           "size": 10
          },
          "showarrow": false,
          "text": "0.7",
          "x": "BBDC4",
          "xanchor": "center",
          "y": "ENGI11",
          "yanchor": "middle"
         },
         {
          "font": {
           "color": "black",
           "size": 10
          },
          "showarrow": false,
          "text": "0.8",
          "x": "COCE5",
          "xanchor": "center",
          "y": "ENGI11",
          "yanchor": "middle"
         },
         {
          "font": {
           "color": "black",
           "size": 10
          },
          "showarrow": false,
          "text": "0.8",
          "x": "BBAS3",
          "xanchor": "center",
          "y": "ENGI11",
          "yanchor": "middle"
         },
         {
          "font": {
           "color": "black",
           "size": 10
          },
          "showarrow": false,
          "text": "0.9",
          "x": "ITSA4",
          "xanchor": "center",
          "y": "ENGI11",
          "yanchor": "middle"
         },
         {
          "font": {
           "color": "black",
           "size": 10
          },
          "showarrow": false,
          "text": "0.6",
          "x": "Gold",
          "xanchor": "center",
          "y": "ENGI11",
          "yanchor": "middle"
         },
         {
          "font": {
           "color": "black",
           "size": 10
          },
          "showarrow": false,
          "text": "0.9",
          "x": "USD/BRL",
          "xanchor": "center",
          "y": "ENGI11",
          "yanchor": "middle"
         },
         {
          "font": {
           "color": "black",
           "size": 10
          },
          "showarrow": false,
          "text": "0.9",
          "x": "SMAL11",
          "xanchor": "center",
          "y": "ENGI11",
          "yanchor": "middle"
         },
         {
          "font": {
           "color": "black",
           "size": 10
          },
          "showarrow": false,
          "text": "0.9",
          "x": "SUZB3",
          "xanchor": "center",
          "y": "ENGI11",
          "yanchor": "middle"
         },
         {
          "font": {
           "color": "black",
           "size": 10
          },
          "showarrow": false,
          "text": "0.8",
          "x": "B3SA3",
          "xanchor": "center",
          "y": "ENGI11",
          "yanchor": "middle"
         },
         {
          "font": {
           "color": "black",
           "size": 10
          },
          "showarrow": false,
          "text": "0.2",
          "x": "Hang Seng Index",
          "xanchor": "center",
          "y": "ENGI11",
          "yanchor": "middle"
         },
         {
          "font": {
           "color": "black",
           "size": 10
          },
          "showarrow": false,
          "text": "0.7",
          "x": "FTSE 100",
          "xanchor": "center",
          "y": "ENGI11",
          "yanchor": "middle"
         },
         {
          "font": {
           "color": "black",
           "size": 10
          },
          "showarrow": false,
          "text": "0.7",
          "x": "VALE3",
          "xanchor": "center",
          "y": "ENGI11",
          "yanchor": "middle"
         },
         {
          "font": {
           "color": "black",
           "size": 10
          },
          "showarrow": false,
          "text": "-0.6",
          "x": "EWZ",
          "xanchor": "center",
          "y": "ENGI11",
          "yanchor": "middle"
         },
         {
          "font": {
           "color": "black",
           "size": 10
          },
          "showarrow": false,
          "text": "0.4",
          "x": "GGBR4",
          "xanchor": "center",
          "y": "ENGI11",
          "yanchor": "middle"
         },
         {
          "font": {
           "color": "black",
           "size": 10
          },
          "showarrow": false,
          "text": "0.8",
          "x": "CPLE6",
          "xanchor": "center",
          "y": "ENGI11",
          "yanchor": "middle"
         },
         {
          "font": {
           "color": "black",
           "size": 10
          },
          "showarrow": false,
          "text": "0.2",
          "x": "CSNA3",
          "xanchor": "center",
          "y": "ENGI11",
          "yanchor": "middle"
         },
         {
          "font": {
           "color": "black",
           "size": 10
          },
          "showarrow": false,
          "text": "0.3",
          "x": "EEM",
          "xanchor": "center",
          "y": "ENGI11",
          "yanchor": "middle"
         },
         {
          "font": {
           "color": "black",
           "size": 10
          },
          "showarrow": false,
          "text": "0.0",
          "x": "SRNA3",
          "xanchor": "center",
          "y": "ENGI11",
          "yanchor": "middle"
         },
         {
          "font": {
           "color": "black",
           "size": 10
          },
          "showarrow": false,
          "text": "0.9",
          "x": "EGIE3",
          "xanchor": "center",
          "y": "ENGI11",
          "yanchor": "middle"
         },
         {
          "font": {
           "color": "black",
           "size": 10
          },
          "showarrow": false,
          "text": "0.6",
          "x": "KLBN11",
          "xanchor": "center",
          "y": "ENGI11",
          "yanchor": "middle"
         },
         {
          "font": {
           "color": "black",
           "size": 10
          },
          "showarrow": false,
          "text": "-0.3",
          "x": "Oil",
          "xanchor": "center",
          "y": "ENGI11",
          "yanchor": "middle"
         },
         {
          "font": {
           "color": "black",
           "size": 10
          },
          "showarrow": false,
          "text": "-0.5",
          "x": "GOAU4",
          "xanchor": "center",
          "y": "ENGI11",
          "yanchor": "middle"
         },
         {
          "font": {
           "color": "black",
           "size": 10
          },
          "showarrow": false,
          "text": "0.5",
          "x": "PETR4",
          "xanchor": "center",
          "y": "ENGI11",
          "yanchor": "middle"
         },
         {
          "font": {
           "color": "black",
           "size": 10
          },
          "showarrow": false,
          "text": "0.1",
          "x": "CMIG4",
          "xanchor": "center",
          "y": "ENGI11",
          "yanchor": "middle"
         },
         {
          "font": {
           "color": "black",
           "size": 10
          },
          "showarrow": false,
          "text": "-0.5",
          "x": "LIGT3",
          "xanchor": "center",
          "y": "ENGI11",
          "yanchor": "middle"
         },
         {
          "font": {
           "color": "black",
           "size": 10
          },
          "showarrow": false,
          "text": "0.6",
          "x": "MGLU3",
          "xanchor": "center",
          "y": "ENGI11",
          "yanchor": "middle"
         },
         {
          "font": {
           "color": "black",
           "size": 10
          },
          "showarrow": false,
          "text": "0.3",
          "x": "IEE",
          "xanchor": "center",
          "y": "ENGI11",
          "yanchor": "middle"
         },
         {
          "font": {
           "color": "black",
           "size": 10
          },
          "showarrow": false,
          "text": "0.6",
          "x": "SANB11",
          "xanchor": "center",
          "y": "IOO",
          "yanchor": "middle"
         },
         {
          "font": {
           "color": "black",
           "size": 10
          },
          "showarrow": false,
          "text": "0.4",
          "x": "BBDC4",
          "xanchor": "center",
          "y": "IOO",
          "yanchor": "middle"
         },
         {
          "font": {
           "color": "black",
           "size": 10
          },
          "showarrow": false,
          "text": "0.6",
          "x": "COCE5",
          "xanchor": "center",
          "y": "IOO",
          "yanchor": "middle"
         },
         {
          "font": {
           "color": "black",
           "size": 10
          },
          "showarrow": false,
          "text": "0.7",
          "x": "BBAS3",
          "xanchor": "center",
          "y": "IOO",
          "yanchor": "middle"
         },
         {
          "font": {
           "color": "black",
           "size": 10
          },
          "showarrow": false,
          "text": "0.8",
          "x": "ITSA4",
          "xanchor": "center",
          "y": "IOO",
          "yanchor": "middle"
         },
         {
          "font": {
           "color": "black",
           "size": 10
          },
          "showarrow": false,
          "text": "0.7",
          "x": "Gold",
          "xanchor": "center",
          "y": "IOO",
          "yanchor": "middle"
         },
         {
          "font": {
           "color": "black",
           "size": 10
          },
          "showarrow": false,
          "text": "0.9",
          "x": "USD/BRL",
          "xanchor": "center",
          "y": "IOO",
          "yanchor": "middle"
         },
         {
          "font": {
           "color": "black",
           "size": 10
          },
          "showarrow": false,
          "text": "0.8",
          "x": "SMAL11",
          "xanchor": "center",
          "y": "IOO",
          "yanchor": "middle"
         },
         {
          "font": {
           "color": "black",
           "size": 10
          },
          "showarrow": false,
          "text": "0.9",
          "x": "SUZB3",
          "xanchor": "center",
          "y": "IOO",
          "yanchor": "middle"
         },
         {
          "font": {
           "color": "black",
           "size": 10
          },
          "showarrow": false,
          "text": "0.4",
          "x": "B3SA3",
          "xanchor": "center",
          "y": "IOO",
          "yanchor": "middle"
         },
         {
          "font": {
           "color": "black",
           "size": 10
          },
          "showarrow": false,
          "text": "0.3",
          "x": "Hang Seng Index",
          "xanchor": "center",
          "y": "IOO",
          "yanchor": "middle"
         },
         {
          "font": {
           "color": "black",
           "size": 10
          },
          "showarrow": false,
          "text": "0.8",
          "x": "FTSE 100",
          "xanchor": "center",
          "y": "IOO",
          "yanchor": "middle"
         },
         {
          "font": {
           "color": "black",
           "size": 10
          },
          "showarrow": false,
          "text": "0.7",
          "x": "VALE3",
          "xanchor": "center",
          "y": "IOO",
          "yanchor": "middle"
         },
         {
          "font": {
           "color": "black",
           "size": 10
          },
          "showarrow": false,
          "text": "-0.3",
          "x": "EWZ",
          "xanchor": "center",
          "y": "IOO",
          "yanchor": "middle"
         },
         {
          "font": {
           "color": "black",
           "size": 10
          },
          "showarrow": false,
          "text": "0.5",
          "x": "GGBR4",
          "xanchor": "center",
          "y": "IOO",
          "yanchor": "middle"
         },
         {
          "font": {
           "color": "black",
           "size": 10
          },
          "showarrow": false,
          "text": "0.9",
          "x": "CPLE6",
          "xanchor": "center",
          "y": "IOO",
          "yanchor": "middle"
         },
         {
          "font": {
           "color": "black",
           "size": 10
          },
          "showarrow": false,
          "text": "0.2",
          "x": "CSNA3",
          "xanchor": "center",
          "y": "IOO",
          "yanchor": "middle"
         },
         {
          "font": {
           "color": "black",
           "size": 10
          },
          "showarrow": false,
          "text": "0.5",
          "x": "EEM",
          "xanchor": "center",
          "y": "IOO",
          "yanchor": "middle"
         },
         {
          "font": {
           "color": "black",
           "size": 10
          },
          "showarrow": false,
          "text": "-0.3",
          "x": "SRNA3",
          "xanchor": "center",
          "y": "IOO",
          "yanchor": "middle"
         },
         {
          "font": {
           "color": "black",
           "size": 10
          },
          "showarrow": false,
          "text": "0.8",
          "x": "EGIE3",
          "xanchor": "center",
          "y": "IOO",
          "yanchor": "middle"
         },
         {
          "font": {
           "color": "black",
           "size": 10
          },
          "showarrow": false,
          "text": "0.7",
          "x": "KLBN11",
          "xanchor": "center",
          "y": "IOO",
          "yanchor": "middle"
         },
         {
          "font": {
           "color": "black",
           "size": 10
          },
          "showarrow": false,
          "text": "0.1",
          "x": "Oil",
          "xanchor": "center",
          "y": "IOO",
          "yanchor": "middle"
         },
         {
          "font": {
           "color": "black",
           "size": 10
          },
          "showarrow": false,
          "text": "-0.3",
          "x": "GOAU4",
          "xanchor": "center",
          "y": "IOO",
          "yanchor": "middle"
         },
         {
          "font": {
           "color": "black",
           "size": 10
          },
          "showarrow": false,
          "text": "0.4",
          "x": "PETR4",
          "xanchor": "center",
          "y": "IOO",
          "yanchor": "middle"
         },
         {
          "font": {
           "color": "black",
           "size": 10
          },
          "showarrow": false,
          "text": "-0.3",
          "x": "CMIG4",
          "xanchor": "center",
          "y": "IOO",
          "yanchor": "middle"
         },
         {
          "font": {
           "color": "black",
           "size": 10
          },
          "showarrow": false,
          "text": "-0.7",
          "x": "LIGT3",
          "xanchor": "center",
          "y": "IOO",
          "yanchor": "middle"
         },
         {
          "font": {
           "color": "black",
           "size": 10
          },
          "showarrow": false,
          "text": "0.5",
          "x": "MGLU3",
          "xanchor": "center",
          "y": "IOO",
          "yanchor": "middle"
         },
         {
          "font": {
           "color": "black",
           "size": 10
          },
          "showarrow": false,
          "text": "-0.1",
          "x": "IEE",
          "xanchor": "center",
          "y": "IOO",
          "yanchor": "middle"
         },
         {
          "font": {
           "color": "black",
           "size": 10
          },
          "showarrow": false,
          "text": "0.9",
          "x": "BBDC4",
          "xanchor": "center",
          "y": "SANB11",
          "yanchor": "middle"
         },
         {
          "font": {
           "color": "black",
           "size": 10
          },
          "showarrow": false,
          "text": "0.7",
          "x": "COCE5",
          "xanchor": "center",
          "y": "SANB11",
          "yanchor": "middle"
         },
         {
          "font": {
           "color": "black",
           "size": 10
          },
          "showarrow": false,
          "text": "0.7",
          "x": "BBAS3",
          "xanchor": "center",
          "y": "SANB11",
          "yanchor": "middle"
         },
         {
          "font": {
           "color": "black",
           "size": 10
          },
          "showarrow": false,
          "text": "0.9",
          "x": "ITSA4",
          "xanchor": "center",
          "y": "SANB11",
          "yanchor": "middle"
         },
         {
          "font": {
           "color": "black",
           "size": 10
          },
          "showarrow": false,
          "text": "0.3",
          "x": "Gold",
          "xanchor": "center",
          "y": "SANB11",
          "yanchor": "middle"
         },
         {
          "font": {
           "color": "black",
           "size": 10
          },
          "showarrow": false,
          "text": "0.7",
          "x": "USD/BRL",
          "xanchor": "center",
          "y": "SANB11",
          "yanchor": "middle"
         },
         {
          "font": {
           "color": "black",
           "size": 10
          },
          "showarrow": false,
          "text": "0.8",
          "x": "SMAL11",
          "xanchor": "center",
          "y": "SANB11",
          "yanchor": "middle"
         },
         {
          "font": {
           "color": "black",
           "size": 10
          },
          "showarrow": false,
          "text": "0.7",
          "x": "SUZB3",
          "xanchor": "center",
          "y": "SANB11",
          "yanchor": "middle"
         },
         {
          "font": {
           "color": "black",
           "size": 10
          },
          "showarrow": false,
          "text": "0.7",
          "x": "B3SA3",
          "xanchor": "center",
          "y": "SANB11",
          "yanchor": "middle"
         },
         {
          "font": {
           "color": "black",
           "size": 10
          },
          "showarrow": false,
          "text": "0.5",
          "x": "Hang Seng Index",
          "xanchor": "center",
          "y": "SANB11",
          "yanchor": "middle"
         },
         {
          "font": {
           "color": "black",
           "size": 10
          },
          "showarrow": false,
          "text": "0.6",
          "x": "FTSE 100",
          "xanchor": "center",
          "y": "SANB11",
          "yanchor": "middle"
         },
         {
          "font": {
           "color": "black",
           "size": 10
          },
          "showarrow": false,
          "text": "0.6",
          "x": "VALE3",
          "xanchor": "center",
          "y": "SANB11",
          "yanchor": "middle"
         },
         {
          "font": {
           "color": "black",
           "size": 10
          },
          "showarrow": false,
          "text": "-0.3",
          "x": "EWZ",
          "xanchor": "center",
          "y": "SANB11",
          "yanchor": "middle"
         },
         {
          "font": {
           "color": "black",
           "size": 10
          },
          "showarrow": false,
          "text": "0.4",
          "x": "GGBR4",
          "xanchor": "center",
          "y": "SANB11",
          "yanchor": "middle"
         },
         {
          "font": {
           "color": "black",
           "size": 10
          },
          "showarrow": false,
          "text": "0.4",
          "x": "CPLE6",
          "xanchor": "center",
          "y": "SANB11",
          "yanchor": "middle"
         },
         {
          "font": {
           "color": "black",
           "size": 10
          },
          "showarrow": false,
          "text": "0.3",
          "x": "CSNA3",
          "xanchor": "center",
          "y": "SANB11",
          "yanchor": "middle"
         },
         {
          "font": {
           "color": "black",
           "size": 10
          },
          "showarrow": false,
          "text": "0.4",
          "x": "EEM",
          "xanchor": "center",
          "y": "SANB11",
          "yanchor": "middle"
         },
         {
          "font": {
           "color": "black",
           "size": 10
          },
          "showarrow": false,
          "text": "0.5",
          "x": "SRNA3",
          "xanchor": "center",
          "y": "SANB11",
          "yanchor": "middle"
         },
         {
          "font": {
           "color": "black",
           "size": 10
          },
          "showarrow": false,
          "text": "0.7",
          "x": "EGIE3",
          "xanchor": "center",
          "y": "SANB11",
          "yanchor": "middle"
         },
         {
          "font": {
           "color": "black",
           "size": 10
          },
          "showarrow": false,
          "text": "0.4",
          "x": "KLBN11",
          "xanchor": "center",
          "y": "SANB11",
          "yanchor": "middle"
         },
         {
          "font": {
           "color": "black",
           "size": 10
          },
          "showarrow": false,
          "text": "-0.3",
          "x": "Oil",
          "xanchor": "center",
          "y": "SANB11",
          "yanchor": "middle"
         },
         {
          "font": {
           "color": "black",
           "size": 10
          },
          "showarrow": false,
          "text": "-0.4",
          "x": "GOAU4",
          "xanchor": "center",
          "y": "SANB11",
          "yanchor": "middle"
         },
         {
          "font": {
           "color": "black",
           "size": 10
          },
          "showarrow": false,
          "text": "0.5",
          "x": "PETR4",
          "xanchor": "center",
          "y": "SANB11",
          "yanchor": "middle"
         },
         {
          "font": {
           "color": "black",
           "size": 10
          },
          "showarrow": false,
          "text": "-0.1",
          "x": "CMIG4",
          "xanchor": "center",
          "y": "SANB11",
          "yanchor": "middle"
         },
         {
          "font": {
           "color": "black",
           "size": 10
          },
          "showarrow": false,
          "text": "-0.2",
          "x": "LIGT3",
          "xanchor": "center",
          "y": "SANB11",
          "yanchor": "middle"
         },
         {
          "font": {
           "color": "black",
           "size": 10
          },
          "showarrow": false,
          "text": "0.6",
          "x": "MGLU3",
          "xanchor": "center",
          "y": "SANB11",
          "yanchor": "middle"
         },
         {
          "font": {
           "color": "black",
           "size": 10
          },
          "showarrow": false,
          "text": "0.1",
          "x": "IEE",
          "xanchor": "center",
          "y": "SANB11",
          "yanchor": "middle"
         },
         {
          "font": {
           "color": "black",
           "size": 10
          },
          "showarrow": false,
          "text": "0.6",
          "x": "COCE5",
          "xanchor": "center",
          "y": "BBDC4",
          "yanchor": "middle"
         },
         {
          "font": {
           "color": "black",
           "size": 10
          },
          "showarrow": false,
          "text": "0.6",
          "x": "BBAS3",
          "xanchor": "center",
          "y": "BBDC4",
          "yanchor": "middle"
         },
         {
          "font": {
           "color": "black",
           "size": 10
          },
          "showarrow": false,
          "text": "0.7",
          "x": "ITSA4",
          "xanchor": "center",
          "y": "BBDC4",
          "yanchor": "middle"
         },
         {
          "font": {
           "color": "black",
           "size": 10
          },
          "showarrow": false,
          "text": "0.1",
          "x": "Gold",
          "xanchor": "center",
          "y": "BBDC4",
          "yanchor": "middle"
         },
         {
          "font": {
           "color": "black",
           "size": 10
          },
          "showarrow": false,
          "text": "0.5",
          "x": "USD/BRL",
          "xanchor": "center",
          "y": "BBDC4",
          "yanchor": "middle"
         },
         {
          "font": {
           "color": "black",
           "size": 10
          },
          "showarrow": false,
          "text": "0.7",
          "x": "SMAL11",
          "xanchor": "center",
          "y": "BBDC4",
          "yanchor": "middle"
         },
         {
          "font": {
           "color": "black",
           "size": 10
          },
          "showarrow": false,
          "text": "0.5",
          "x": "SUZB3",
          "xanchor": "center",
          "y": "BBDC4",
          "yanchor": "middle"
         },
         {
          "font": {
           "color": "black",
           "size": 10
          },
          "showarrow": false,
          "text": "0.6",
          "x": "B3SA3",
          "xanchor": "center",
          "y": "BBDC4",
          "yanchor": "middle"
         },
         {
          "font": {
           "color": "black",
           "size": 10
          },
          "showarrow": false,
          "text": "0.6",
          "x": "Hang Seng Index",
          "xanchor": "center",
          "y": "BBDC4",
          "yanchor": "middle"
         },
         {
          "font": {
           "color": "black",
           "size": 10
          },
          "showarrow": false,
          "text": "0.5",
          "x": "FTSE 100",
          "xanchor": "center",
          "y": "BBDC4",
          "yanchor": "middle"
         },
         {
          "font": {
           "color": "black",
           "size": 10
          },
          "showarrow": false,
          "text": "0.4",
          "x": "VALE3",
          "xanchor": "center",
          "y": "BBDC4",
          "yanchor": "middle"
         },
         {
          "font": {
           "color": "black",
           "size": 10
          },
          "showarrow": false,
          "text": "-0.1",
          "x": "EWZ",
          "xanchor": "center",
          "y": "BBDC4",
          "yanchor": "middle"
         },
         {
          "font": {
           "color": "black",
           "size": 10
          },
          "showarrow": false,
          "text": "0.2",
          "x": "GGBR4",
          "xanchor": "center",
          "y": "BBDC4",
          "yanchor": "middle"
         },
         {
          "font": {
           "color": "black",
           "size": 10
          },
          "showarrow": false,
          "text": "0.2",
          "x": "CPLE6",
          "xanchor": "center",
          "y": "BBDC4",
          "yanchor": "middle"
         },
         {
          "font": {
           "color": "black",
           "size": 10
          },
          "showarrow": false,
          "text": "0.2",
          "x": "CSNA3",
          "xanchor": "center",
          "y": "BBDC4",
          "yanchor": "middle"
         },
         {
          "font": {
           "color": "black",
           "size": 10
          },
          "showarrow": false,
          "text": "0.4",
          "x": "EEM",
          "xanchor": "center",
          "y": "BBDC4",
          "yanchor": "middle"
         },
         {
          "font": {
           "color": "black",
           "size": 10
          },
          "showarrow": false,
          "text": "0.7",
          "x": "SRNA3",
          "xanchor": "center",
          "y": "BBDC4",
          "yanchor": "middle"
         },
         {
          "font": {
           "color": "black",
           "size": 10
          },
          "showarrow": false,
          "text": "0.5",
          "x": "EGIE3",
          "xanchor": "center",
          "y": "BBDC4",
          "yanchor": "middle"
         },
         {
          "font": {
           "color": "black",
           "size": 10
          },
          "showarrow": false,
          "text": "0.1",
          "x": "KLBN11",
          "xanchor": "center",
          "y": "BBDC4",
          "yanchor": "middle"
         },
         {
          "font": {
           "color": "black",
           "size": 10
          },
          "showarrow": false,
          "text": "-0.2",
          "x": "Oil",
          "xanchor": "center",
          "y": "BBDC4",
          "yanchor": "middle"
         },
         {
          "font": {
           "color": "black",
           "size": 10
          },
          "showarrow": false,
          "text": "-0.2",
          "x": "GOAU4",
          "xanchor": "center",
          "y": "BBDC4",
          "yanchor": "middle"
         },
         {
          "font": {
           "color": "black",
           "size": 10
          },
          "showarrow": false,
          "text": "0.3",
          "x": "PETR4",
          "xanchor": "center",
          "y": "BBDC4",
          "yanchor": "middle"
         },
         {
          "font": {
           "color": "black",
           "size": 10
          },
          "showarrow": false,
          "text": "-0.1",
          "x": "CMIG4",
          "xanchor": "center",
          "y": "BBDC4",
          "yanchor": "middle"
         },
         {
          "font": {
           "color": "black",
           "size": 10
          },
          "showarrow": false,
          "text": "-0.1",
          "x": "LIGT3",
          "xanchor": "center",
          "y": "BBDC4",
          "yanchor": "middle"
         },
         {
          "font": {
           "color": "black",
           "size": 10
          },
          "showarrow": false,
          "text": "0.6",
          "x": "MGLU3",
          "xanchor": "center",
          "y": "BBDC4",
          "yanchor": "middle"
         },
         {
          "font": {
           "color": "black",
           "size": 10
          },
          "showarrow": false,
          "text": "0.0",
          "x": "IEE",
          "xanchor": "center",
          "y": "BBDC4",
          "yanchor": "middle"
         },
         {
          "font": {
           "color": "black",
           "size": 10
          },
          "showarrow": false,
          "text": "0.7",
          "x": "BBAS3",
          "xanchor": "center",
          "y": "COCE5",
          "yanchor": "middle"
         },
         {
          "font": {
           "color": "black",
           "size": 10
          },
          "showarrow": false,
          "text": "0.9",
          "x": "ITSA4",
          "xanchor": "center",
          "y": "COCE5",
          "yanchor": "middle"
         },
         {
          "font": {
           "color": "black",
           "size": 10
          },
          "showarrow": false,
          "text": "0.8",
          "x": "Gold",
          "xanchor": "center",
          "y": "COCE5",
          "yanchor": "middle"
         },
         {
          "font": {
           "color": "black",
           "size": 10
          },
          "showarrow": false,
          "text": "0.7",
          "x": "USD/BRL",
          "xanchor": "center",
          "y": "COCE5",
          "yanchor": "middle"
         },
         {
          "font": {
           "color": "black",
           "size": 10
          },
          "showarrow": false,
          "text": "0.7",
          "x": "SMAL11",
          "xanchor": "center",
          "y": "COCE5",
          "yanchor": "middle"
         },
         {
          "font": {
           "color": "black",
           "size": 10
          },
          "showarrow": false,
          "text": "0.7",
          "x": "SUZB3",
          "xanchor": "center",
          "y": "COCE5",
          "yanchor": "middle"
         },
         {
          "font": {
           "color": "black",
           "size": 10
          },
          "showarrow": false,
          "text": "0.1",
          "x": "B3SA3",
          "xanchor": "center",
          "y": "COCE5",
          "yanchor": "middle"
         },
         {
          "font": {
           "color": "black",
           "size": 10
          },
          "showarrow": false,
          "text": "0.7",
          "x": "Hang Seng Index",
          "xanchor": "center",
          "y": "COCE5",
          "yanchor": "middle"
         },
         {
          "font": {
           "color": "black",
           "size": 10
          },
          "showarrow": false,
          "text": "0.8",
          "x": "FTSE 100",
          "xanchor": "center",
          "y": "COCE5",
          "yanchor": "middle"
         },
         {
          "font": {
           "color": "black",
           "size": 10
          },
          "showarrow": false,
          "text": "0.5",
          "x": "VALE3",
          "xanchor": "center",
          "y": "COCE5",
          "yanchor": "middle"
         },
         {
          "font": {
           "color": "black",
           "size": 10
          },
          "showarrow": false,
          "text": "-0.1",
          "x": "EWZ",
          "xanchor": "center",
          "y": "COCE5",
          "yanchor": "middle"
         },
         {
          "font": {
           "color": "black",
           "size": 10
          },
          "showarrow": false,
          "text": "0.2",
          "x": "GGBR4",
          "xanchor": "center",
          "y": "COCE5",
          "yanchor": "middle"
         },
         {
          "font": {
           "color": "black",
           "size": 10
          },
          "showarrow": false,
          "text": "0.6",
          "x": "CPLE6",
          "xanchor": "center",
          "y": "COCE5",
          "yanchor": "middle"
         },
         {
          "font": {
           "color": "black",
           "size": 10
          },
          "showarrow": false,
          "text": "0.1",
          "x": "CSNA3",
          "xanchor": "center",
          "y": "COCE5",
          "yanchor": "middle"
         },
         {
          "font": {
           "color": "black",
           "size": 10
          },
          "showarrow": false,
          "text": "0.7",
          "x": "EEM",
          "xanchor": "center",
          "y": "COCE5",
          "yanchor": "middle"
         },
         {
          "font": {
           "color": "black",
           "size": 10
          },
          "showarrow": false,
          "text": "0.6",
          "x": "SRNA3",
          "xanchor": "center",
          "y": "COCE5",
          "yanchor": "middle"
         },
         {
          "font": {
           "color": "black",
           "size": 10
          },
          "showarrow": false,
          "text": "0.9",
          "x": "EGIE3",
          "xanchor": "center",
          "y": "COCE5",
          "yanchor": "middle"
         },
         {
          "font": {
           "color": "black",
           "size": 10
          },
          "showarrow": false,
          "text": "0.4",
          "x": "KLBN11",
          "xanchor": "center",
          "y": "COCE5",
          "yanchor": "middle"
         },
         {
          "font": {
           "color": "black",
           "size": 10
          },
          "showarrow": false,
          "text": "-0.0",
          "x": "Oil",
          "xanchor": "center",
          "y": "COCE5",
          "yanchor": "middle"
         },
         {
          "font": {
           "color": "black",
           "size": 10
          },
          "showarrow": false,
          "text": "-0.4",
          "x": "GOAU4",
          "xanchor": "center",
          "y": "COCE5",
          "yanchor": "middle"
         },
         {
          "font": {
           "color": "black",
           "size": 10
          },
          "showarrow": false,
          "text": "0.1",
          "x": "PETR4",
          "xanchor": "center",
          "y": "COCE5",
          "yanchor": "middle"
         },
         {
          "font": {
           "color": "black",
           "size": 10
          },
          "showarrow": false,
          "text": "-0.6",
          "x": "CMIG4",
          "xanchor": "center",
          "y": "COCE5",
          "yanchor": "middle"
         },
         {
          "font": {
           "color": "black",
           "size": 10
          },
          "showarrow": false,
          "text": "-0.5",
          "x": "LIGT3",
          "xanchor": "center",
          "y": "COCE5",
          "yanchor": "middle"
         },
         {
          "font": {
           "color": "black",
           "size": 10
          },
          "showarrow": false,
          "text": "0.7",
          "x": "MGLU3",
          "xanchor": "center",
          "y": "COCE5",
          "yanchor": "middle"
         },
         {
          "font": {
           "color": "black",
           "size": 10
          },
          "showarrow": false,
          "text": "0.4",
          "x": "IEE",
          "xanchor": "center",
          "y": "COCE5",
          "yanchor": "middle"
         },
         {
          "font": {
           "color": "black",
           "size": 10
          },
          "showarrow": false,
          "text": "0.9",
          "x": "ITSA4",
          "xanchor": "center",
          "y": "BBAS3",
          "yanchor": "middle"
         },
         {
          "font": {
           "color": "black",
           "size": 10
          },
          "showarrow": false,
          "text": "0.7",
          "x": "Gold",
          "xanchor": "center",
          "y": "BBAS3",
          "yanchor": "middle"
         },
         {
          "font": {
           "color": "black",
           "size": 10
          },
          "showarrow": false,
          "text": "0.5",
          "x": "USD/BRL",
          "xanchor": "center",
          "y": "BBAS3",
          "yanchor": "middle"
         },
         {
          "font": {
           "color": "black",
           "size": 10
          },
          "showarrow": false,
          "text": "0.7",
          "x": "SMAL11",
          "xanchor": "center",
          "y": "BBAS3",
          "yanchor": "middle"
         },
         {
          "font": {
           "color": "black",
           "size": 10
          },
          "showarrow": false,
          "text": "0.7",
          "x": "SUZB3",
          "xanchor": "center",
          "y": "BBAS3",
          "yanchor": "middle"
         },
         {
          "font": {
           "color": "black",
           "size": 10
          },
          "showarrow": false,
          "text": "0.4",
          "x": "B3SA3",
          "xanchor": "center",
          "y": "BBAS3",
          "yanchor": "middle"
         },
         {
          "font": {
           "color": "black",
           "size": 10
          },
          "showarrow": false,
          "text": "0.5",
          "x": "Hang Seng Index",
          "xanchor": "center",
          "y": "BBAS3",
          "yanchor": "middle"
         },
         {
          "font": {
           "color": "black",
           "size": 10
          },
          "showarrow": false,
          "text": "0.7",
          "x": "FTSE 100",
          "xanchor": "center",
          "y": "BBAS3",
          "yanchor": "middle"
         },
         {
          "font": {
           "color": "black",
           "size": 10
          },
          "showarrow": false,
          "text": "0.6",
          "x": "VALE3",
          "xanchor": "center",
          "y": "BBAS3",
          "yanchor": "middle"
         },
         {
          "font": {
           "color": "black",
           "size": 10
          },
          "showarrow": false,
          "text": "0.1",
          "x": "EWZ",
          "xanchor": "center",
          "y": "BBAS3",
          "yanchor": "middle"
         },
         {
          "font": {
           "color": "black",
           "size": 10
          },
          "showarrow": false,
          "text": "0.5",
          "x": "GGBR4",
          "xanchor": "center",
          "y": "BBAS3",
          "yanchor": "middle"
         },
         {
          "font": {
           "color": "black",
           "size": 10
          },
          "showarrow": false,
          "text": "0.8",
          "x": "CPLE6",
          "xanchor": "center",
          "y": "BBAS3",
          "yanchor": "middle"
         },
         {
          "font": {
           "color": "black",
           "size": 10
          },
          "showarrow": false,
          "text": "0.2",
          "x": "CSNA3",
          "xanchor": "center",
          "y": "BBAS3",
          "yanchor": "middle"
         },
         {
          "font": {
           "color": "black",
           "size": 10
          },
          "showarrow": false,
          "text": "0.6",
          "x": "EEM",
          "xanchor": "center",
          "y": "BBAS3",
          "yanchor": "middle"
         },
         {
          "font": {
           "color": "black",
           "size": 10
          },
          "showarrow": false,
          "text": "-0.5",
          "x": "SRNA3",
          "xanchor": "center",
          "y": "BBAS3",
          "yanchor": "middle"
         },
         {
          "font": {
           "color": "black",
           "size": 10
          },
          "showarrow": false,
          "text": "0.8",
          "x": "EGIE3",
          "xanchor": "center",
          "y": "BBAS3",
          "yanchor": "middle"
         },
         {
          "font": {
           "color": "black",
           "size": 10
          },
          "showarrow": false,
          "text": "0.2",
          "x": "KLBN11",
          "xanchor": "center",
          "y": "BBAS3",
          "yanchor": "middle"
         },
         {
          "font": {
           "color": "black",
           "size": 10
          },
          "showarrow": false,
          "text": "0.2",
          "x": "Oil",
          "xanchor": "center",
          "y": "BBAS3",
          "yanchor": "middle"
         },
         {
          "font": {
           "color": "black",
           "size": 10
          },
          "showarrow": false,
          "text": "-0.1",
          "x": "GOAU4",
          "xanchor": "center",
          "y": "BBAS3",
          "yanchor": "middle"
         },
         {
          "font": {
           "color": "black",
           "size": 10
          },
          "showarrow": false,
          "text": "0.6",
          "x": "PETR4",
          "xanchor": "center",
          "y": "BBAS3",
          "yanchor": "middle"
         },
         {
          "font": {
           "color": "black",
           "size": 10
          },
          "showarrow": false,
          "text": "-0.5",
          "x": "CMIG4",
          "xanchor": "center",
          "y": "BBAS3",
          "yanchor": "middle"
         },
         {
          "font": {
           "color": "black",
           "size": 10
          },
          "showarrow": false,
          "text": "-0.4",
          "x": "LIGT3",
          "xanchor": "center",
          "y": "BBAS3",
          "yanchor": "middle"
         },
         {
          "font": {
           "color": "black",
           "size": 10
          },
          "showarrow": false,
          "text": "0.3",
          "x": "MGLU3",
          "xanchor": "center",
          "y": "BBAS3",
          "yanchor": "middle"
         },
         {
          "font": {
           "color": "black",
           "size": 10
          },
          "showarrow": false,
          "text": "-0.4",
          "x": "IEE",
          "xanchor": "center",
          "y": "BBAS3",
          "yanchor": "middle"
         },
         {
          "font": {
           "color": "black",
           "size": 10
          },
          "showarrow": false,
          "text": "0.7",
          "x": "Gold",
          "xanchor": "center",
          "y": "ITSA4",
          "yanchor": "middle"
         },
         {
          "font": {
           "color": "black",
           "size": 10
          },
          "showarrow": false,
          "text": "0.7",
          "x": "USD/BRL",
          "xanchor": "center",
          "y": "ITSA4",
          "yanchor": "middle"
         },
         {
          "font": {
           "color": "black",
           "size": 10
          },
          "showarrow": false,
          "text": "0.8",
          "x": "SMAL11",
          "xanchor": "center",
          "y": "ITSA4",
          "yanchor": "middle"
         },
         {
          "font": {
           "color": "black",
           "size": 10
          },
          "showarrow": false,
          "text": "0.8",
          "x": "SUZB3",
          "xanchor": "center",
          "y": "ITSA4",
          "yanchor": "middle"
         },
         {
          "font": {
           "color": "black",
           "size": 10
          },
          "showarrow": false,
          "text": "0.3",
          "x": "B3SA3",
          "xanchor": "center",
          "y": "ITSA4",
          "yanchor": "middle"
         },
         {
          "font": {
           "color": "black",
           "size": 10
          },
          "showarrow": false,
          "text": "0.7",
          "x": "Hang Seng Index",
          "xanchor": "center",
          "y": "ITSA4",
          "yanchor": "middle"
         },
         {
          "font": {
           "color": "black",
           "size": 10
          },
          "showarrow": false,
          "text": "0.8",
          "x": "FTSE 100",
          "xanchor": "center",
          "y": "ITSA4",
          "yanchor": "middle"
         },
         {
          "font": {
           "color": "black",
           "size": 10
          },
          "showarrow": false,
          "text": "0.6",
          "x": "VALE3",
          "xanchor": "center",
          "y": "ITSA4",
          "yanchor": "middle"
         },
         {
          "font": {
           "color": "black",
           "size": 10
          },
          "showarrow": false,
          "text": "-0.1",
          "x": "EWZ",
          "xanchor": "center",
          "y": "ITSA4",
          "yanchor": "middle"
         },
         {
          "font": {
           "color": "black",
           "size": 10
          },
          "showarrow": false,
          "text": "0.3",
          "x": "GGBR4",
          "xanchor": "center",
          "y": "ITSA4",
          "yanchor": "middle"
         },
         {
          "font": {
           "color": "black",
           "size": 10
          },
          "showarrow": false,
          "text": "0.7",
          "x": "CPLE6",
          "xanchor": "center",
          "y": "ITSA4",
          "yanchor": "middle"
         },
         {
          "font": {
           "color": "black",
           "size": 10
          },
          "showarrow": false,
          "text": "0.2",
          "x": "CSNA3",
          "xanchor": "center",
          "y": "ITSA4",
          "yanchor": "middle"
         },
         {
          "font": {
           "color": "black",
           "size": 10
          },
          "showarrow": false,
          "text": "0.7",
          "x": "EEM",
          "xanchor": "center",
          "y": "ITSA4",
          "yanchor": "middle"
         },
         {
          "font": {
           "color": "black",
           "size": 10
          },
          "showarrow": false,
          "text": "-0.2",
          "x": "SRNA3",
          "xanchor": "center",
          "y": "ITSA4",
          "yanchor": "middle"
         },
         {
          "font": {
           "color": "black",
           "size": 10
          },
          "showarrow": false,
          "text": "0.9",
          "x": "EGIE3",
          "xanchor": "center",
          "y": "ITSA4",
          "yanchor": "middle"
         },
         {
          "font": {
           "color": "black",
           "size": 10
          },
          "showarrow": false,
          "text": "0.4",
          "x": "KLBN11",
          "xanchor": "center",
          "y": "ITSA4",
          "yanchor": "middle"
         },
         {
          "font": {
           "color": "black",
           "size": 10
          },
          "showarrow": false,
          "text": "-0.0",
          "x": "Oil",
          "xanchor": "center",
          "y": "ITSA4",
          "yanchor": "middle"
         },
         {
          "font": {
           "color": "black",
           "size": 10
          },
          "showarrow": false,
          "text": "-0.4",
          "x": "GOAU4",
          "xanchor": "center",
          "y": "ITSA4",
          "yanchor": "middle"
         },
         {
          "font": {
           "color": "black",
           "size": 10
          },
          "showarrow": false,
          "text": "0.4",
          "x": "PETR4",
          "xanchor": "center",
          "y": "ITSA4",
          "yanchor": "middle"
         },
         {
          "font": {
           "color": "black",
           "size": 10
          },
          "showarrow": false,
          "text": "-0.5",
          "x": "CMIG4",
          "xanchor": "center",
          "y": "ITSA4",
          "yanchor": "middle"
         },
         {
          "font": {
           "color": "black",
           "size": 10
          },
          "showarrow": false,
          "text": "-0.5",
          "x": "LIGT3",
          "xanchor": "center",
          "y": "ITSA4",
          "yanchor": "middle"
         },
         {
          "font": {
           "color": "black",
           "size": 10
          },
          "showarrow": false,
          "text": "0.5",
          "x": "MGLU3",
          "xanchor": "center",
          "y": "ITSA4",
          "yanchor": "middle"
         },
         {
          "font": {
           "color": "black",
           "size": 10
          },
          "showarrow": false,
          "text": "0.1",
          "x": "IEE",
          "xanchor": "center",
          "y": "ITSA4",
          "yanchor": "middle"
         },
         {
          "font": {
           "color": "black",
           "size": 10
          },
          "showarrow": false,
          "text": "0.6",
          "x": "USD/BRL",
          "xanchor": "center",
          "y": "Gold",
          "yanchor": "middle"
         },
         {
          "font": {
           "color": "black",
           "size": 10
          },
          "showarrow": false,
          "text": "0.7",
          "x": "SMAL11",
          "xanchor": "center",
          "y": "Gold",
          "yanchor": "middle"
         },
         {
          "font": {
           "color": "black",
           "size": 10
          },
          "showarrow": false,
          "text": "0.8",
          "x": "SUZB3",
          "xanchor": "center",
          "y": "Gold",
          "yanchor": "middle"
         },
         {
          "font": {
           "color": "black",
           "size": 10
          },
          "showarrow": false,
          "text": "0.1",
          "x": "B3SA3",
          "xanchor": "center",
          "y": "Gold",
          "yanchor": "middle"
         },
         {
          "font": {
           "color": "black",
           "size": 10
          },
          "showarrow": false,
          "text": "0.4",
          "x": "Hang Seng Index",
          "xanchor": "center",
          "y": "Gold",
          "yanchor": "middle"
         },
         {
          "font": {
           "color": "black",
           "size": 10
          },
          "showarrow": false,
          "text": "0.6",
          "x": "FTSE 100",
          "xanchor": "center",
          "y": "Gold",
          "yanchor": "middle"
         },
         {
          "font": {
           "color": "black",
           "size": 10
          },
          "showarrow": false,
          "text": "0.7",
          "x": "VALE3",
          "xanchor": "center",
          "y": "Gold",
          "yanchor": "middle"
         },
         {
          "font": {
           "color": "black",
           "size": 10
          },
          "showarrow": false,
          "text": "0.0",
          "x": "EWZ",
          "xanchor": "center",
          "y": "Gold",
          "yanchor": "middle"
         },
         {
          "font": {
           "color": "black",
           "size": 10
          },
          "showarrow": false,
          "text": "0.4",
          "x": "GGBR4",
          "xanchor": "center",
          "y": "Gold",
          "yanchor": "middle"
         },
         {
          "font": {
           "color": "black",
           "size": 10
          },
          "showarrow": false,
          "text": "0.8",
          "x": "CPLE6",
          "xanchor": "center",
          "y": "Gold",
          "yanchor": "middle"
         },
         {
          "font": {
           "color": "black",
           "size": 10
          },
          "showarrow": false,
          "text": "0.2",
          "x": "CSNA3",
          "xanchor": "center",
          "y": "Gold",
          "yanchor": "middle"
         },
         {
          "font": {
           "color": "black",
           "size": 10
          },
          "showarrow": false,
          "text": "0.6",
          "x": "EEM",
          "xanchor": "center",
          "y": "Gold",
          "yanchor": "middle"
         },
         {
          "font": {
           "color": "black",
           "size": 10
          },
          "showarrow": false,
          "text": "-0.5",
          "x": "SRNA3",
          "xanchor": "center",
          "y": "Gold",
          "yanchor": "middle"
         },
         {
          "font": {
           "color": "black",
           "size": 10
          },
          "showarrow": false,
          "text": "0.9",
          "x": "EGIE3",
          "xanchor": "center",
          "y": "Gold",
          "yanchor": "middle"
         },
         {
          "font": {
           "color": "black",
           "size": 10
          },
          "showarrow": false,
          "text": "0.6",
          "x": "KLBN11",
          "xanchor": "center",
          "y": "Gold",
          "yanchor": "middle"
         },
         {
          "font": {
           "color": "black",
           "size": 10
          },
          "showarrow": false,
          "text": "0.3",
          "x": "Oil",
          "xanchor": "center",
          "y": "Gold",
          "yanchor": "middle"
         },
         {
          "font": {
           "color": "black",
           "size": 10
          },
          "showarrow": false,
          "text": "-0.2",
          "x": "GOAU4",
          "xanchor": "center",
          "y": "Gold",
          "yanchor": "middle"
         },
         {
          "font": {
           "color": "black",
           "size": 10
          },
          "showarrow": false,
          "text": "0.3",
          "x": "PETR4",
          "xanchor": "center",
          "y": "Gold",
          "yanchor": "middle"
         },
         {
          "font": {
           "color": "black",
           "size": 10
          },
          "showarrow": false,
          "text": "-0.6",
          "x": "CMIG4",
          "xanchor": "center",
          "y": "Gold",
          "yanchor": "middle"
         },
         {
          "font": {
           "color": "black",
           "size": 10
          },
          "showarrow": false,
          "text": "-0.5",
          "x": "LIGT3",
          "xanchor": "center",
          "y": "Gold",
          "yanchor": "middle"
         },
         {
          "font": {
           "color": "black",
           "size": 10
          },
          "showarrow": false,
          "text": "0.4",
          "x": "MGLU3",
          "xanchor": "center",
          "y": "Gold",
          "yanchor": "middle"
         },
         {
          "font": {
           "color": "black",
           "size": 10
          },
          "showarrow": false,
          "text": "-0.0",
          "x": "IEE",
          "xanchor": "center",
          "y": "Gold",
          "yanchor": "middle"
         },
         {
          "font": {
           "color": "black",
           "size": 10
          },
          "showarrow": false,
          "text": "0.7",
          "x": "SMAL11",
          "xanchor": "center",
          "y": "USD/BRL",
          "yanchor": "middle"
         },
         {
          "font": {
           "color": "black",
           "size": 10
          },
          "showarrow": false,
          "text": "0.9",
          "x": "SUZB3",
          "xanchor": "center",
          "y": "USD/BRL",
          "yanchor": "middle"
         },
         {
          "font": {
           "color": "black",
           "size": 10
          },
          "showarrow": false,
          "text": "0.3",
          "x": "B3SA3",
          "xanchor": "center",
          "y": "USD/BRL",
          "yanchor": "middle"
         },
         {
          "font": {
           "color": "black",
           "size": 10
          },
          "showarrow": false,
          "text": "0.2",
          "x": "Hang Seng Index",
          "xanchor": "center",
          "y": "USD/BRL",
          "yanchor": "middle"
         },
         {
          "font": {
           "color": "black",
           "size": 10
          },
          "showarrow": false,
          "text": "0.6",
          "x": "FTSE 100",
          "xanchor": "center",
          "y": "USD/BRL",
          "yanchor": "middle"
         },
         {
          "font": {
           "color": "black",
           "size": 10
          },
          "showarrow": false,
          "text": "0.6",
          "x": "VALE3",
          "xanchor": "center",
          "y": "USD/BRL",
          "yanchor": "middle"
         },
         {
          "font": {
           "color": "black",
           "size": 10
          },
          "showarrow": false,
          "text": "-0.7",
          "x": "EWZ",
          "xanchor": "center",
          "y": "USD/BRL",
          "yanchor": "middle"
         },
         {
          "font": {
           "color": "black",
           "size": 10
          },
          "showarrow": false,
          "text": "0.2",
          "x": "GGBR4",
          "xanchor": "center",
          "y": "USD/BRL",
          "yanchor": "middle"
         },
         {
          "font": {
           "color": "black",
           "size": 10
          },
          "showarrow": false,
          "text": "0.7",
          "x": "CPLE6",
          "xanchor": "center",
          "y": "USD/BRL",
          "yanchor": "middle"
         },
         {
          "font": {
           "color": "black",
           "size": 10
          },
          "showarrow": false,
          "text": "-0.0",
          "x": "CSNA3",
          "xanchor": "center",
          "y": "USD/BRL",
          "yanchor": "middle"
         },
         {
          "font": {
           "color": "black",
           "size": 10
          },
          "showarrow": false,
          "text": "0.2",
          "x": "EEM",
          "xanchor": "center",
          "y": "USD/BRL",
          "yanchor": "middle"
         },
         {
          "font": {
           "color": "black",
           "size": 10
          },
          "showarrow": false,
          "text": "-0.0",
          "x": "SRNA3",
          "xanchor": "center",
          "y": "USD/BRL",
          "yanchor": "middle"
         },
         {
          "font": {
           "color": "black",
           "size": 10
          },
          "showarrow": false,
          "text": "0.8",
          "x": "EGIE3",
          "xanchor": "center",
          "y": "USD/BRL",
          "yanchor": "middle"
         },
         {
          "font": {
           "color": "black",
           "size": 10
          },
          "showarrow": false,
          "text": "0.8",
          "x": "KLBN11",
          "xanchor": "center",
          "y": "USD/BRL",
          "yanchor": "middle"
         },
         {
          "font": {
           "color": "black",
           "size": 10
          },
          "showarrow": false,
          "text": "-0.3",
          "x": "Oil",
          "xanchor": "center",
          "y": "USD/BRL",
          "yanchor": "middle"
         },
         {
          "font": {
           "color": "black",
           "size": 10
          },
          "showarrow": false,
          "text": "-0.7",
          "x": "GOAU4",
          "xanchor": "center",
          "y": "USD/BRL",
          "yanchor": "middle"
         },
         {
          "font": {
           "color": "black",
           "size": 10
          },
          "showarrow": false,
          "text": "0.1",
          "x": "PETR4",
          "xanchor": "center",
          "y": "USD/BRL",
          "yanchor": "middle"
         },
         {
          "font": {
           "color": "black",
           "size": 10
          },
          "showarrow": false,
          "text": "-0.1",
          "x": "CMIG4",
          "xanchor": "center",
          "y": "USD/BRL",
          "yanchor": "middle"
         },
         {
          "font": {
           "color": "black",
           "size": 10
          },
          "showarrow": false,
          "text": "-0.7",
          "x": "LIGT3",
          "xanchor": "center",
          "y": "USD/BRL",
          "yanchor": "middle"
         },
         {
          "font": {
           "color": "black",
           "size": 10
          },
          "showarrow": false,
          "text": "0.6",
          "x": "MGLU3",
          "xanchor": "center",
          "y": "USD/BRL",
          "yanchor": "middle"
         },
         {
          "font": {
           "color": "black",
           "size": 10
          },
          "showarrow": false,
          "text": "0.4",
          "x": "IEE",
          "xanchor": "center",
          "y": "USD/BRL",
          "yanchor": "middle"
         },
         {
          "font": {
           "color": "black",
           "size": 10
          },
          "showarrow": false,
          "text": "0.9",
          "x": "SUZB3",
          "xanchor": "center",
          "y": "SMAL11",
          "yanchor": "middle"
         },
         {
          "font": {
           "color": "black",
           "size": 10
          },
          "showarrow": false,
          "text": "0.8",
          "x": "B3SA3",
          "xanchor": "center",
          "y": "SMAL11",
          "yanchor": "middle"
         },
         {
          "font": {
           "color": "black",
           "size": 10
          },
          "showarrow": false,
          "text": "0.3",
          "x": "Hang Seng Index",
          "xanchor": "center",
          "y": "SMAL11",
          "yanchor": "middle"
         },
         {
          "font": {
           "color": "black",
           "size": 10
          },
          "showarrow": false,
          "text": "0.5",
          "x": "FTSE 100",
          "xanchor": "center",
          "y": "SMAL11",
          "yanchor": "middle"
         },
         {
          "font": {
           "color": "black",
           "size": 10
          },
          "showarrow": false,
          "text": "0.8",
          "x": "VALE3",
          "xanchor": "center",
          "y": "SMAL11",
          "yanchor": "middle"
         },
         {
          "font": {
           "color": "black",
           "size": 10
          },
          "showarrow": false,
          "text": "-0.3",
          "x": "EWZ",
          "xanchor": "center",
          "y": "SMAL11",
          "yanchor": "middle"
         },
         {
          "font": {
           "color": "black",
           "size": 10
          },
          "showarrow": false,
          "text": "0.6",
          "x": "GGBR4",
          "xanchor": "center",
          "y": "SMAL11",
          "yanchor": "middle"
         },
         {
          "font": {
           "color": "black",
           "size": 10
          },
          "showarrow": false,
          "text": "0.7",
          "x": "CPLE6",
          "xanchor": "center",
          "y": "SMAL11",
          "yanchor": "middle"
         },
         {
          "font": {
           "color": "black",
           "size": 10
          },
          "showarrow": false,
          "text": "0.4",
          "x": "CSNA3",
          "xanchor": "center",
          "y": "SMAL11",
          "yanchor": "middle"
         },
         {
          "font": {
           "color": "black",
           "size": 10
          },
          "showarrow": false,
          "text": "0.6",
          "x": "EEM",
          "xanchor": "center",
          "y": "SMAL11",
          "yanchor": "middle"
         },
         {
          "font": {
           "color": "black",
           "size": 10
          },
          "showarrow": false,
          "text": "0.6",
          "x": "SRNA3",
          "xanchor": "center",
          "y": "SMAL11",
          "yanchor": "middle"
         },
         {
          "font": {
           "color": "black",
           "size": 10
          },
          "showarrow": false,
          "text": "0.8",
          "x": "EGIE3",
          "xanchor": "center",
          "y": "SMAL11",
          "yanchor": "middle"
         },
         {
          "font": {
           "color": "black",
           "size": 10
          },
          "showarrow": false,
          "text": "0.6",
          "x": "KLBN11",
          "xanchor": "center",
          "y": "SMAL11",
          "yanchor": "middle"
         },
         {
          "font": {
           "color": "black",
           "size": 10
          },
          "showarrow": false,
          "text": "-0.0",
          "x": "Oil",
          "xanchor": "center",
          "y": "SMAL11",
          "yanchor": "middle"
         },
         {
          "font": {
           "color": "black",
           "size": 10
          },
          "showarrow": false,
          "text": "-0.2",
          "x": "GOAU4",
          "xanchor": "center",
          "y": "SMAL11",
          "yanchor": "middle"
         },
         {
          "font": {
           "color": "black",
           "size": 10
          },
          "showarrow": false,
          "text": "0.5",
          "x": "PETR4",
          "xanchor": "center",
          "y": "SMAL11",
          "yanchor": "middle"
         },
         {
          "font": {
           "color": "black",
           "size": 10
          },
          "showarrow": false,
          "text": "0.3",
          "x": "CMIG4",
          "xanchor": "center",
          "y": "SMAL11",
          "yanchor": "middle"
         },
         {
          "font": {
           "color": "black",
           "size": 10
          },
          "showarrow": false,
          "text": "-0.3",
          "x": "LIGT3",
          "xanchor": "center",
          "y": "SMAL11",
          "yanchor": "middle"
         },
         {
          "font": {
           "color": "black",
           "size": 10
          },
          "showarrow": false,
          "text": "0.8",
          "x": "MGLU3",
          "xanchor": "center",
          "y": "SMAL11",
          "yanchor": "middle"
         },
         {
          "font": {
           "color": "black",
           "size": 10
          },
          "showarrow": false,
          "text": "-0.4",
          "x": "IEE",
          "xanchor": "center",
          "y": "SMAL11",
          "yanchor": "middle"
         },
         {
          "font": {
           "color": "black",
           "size": 10
          },
          "showarrow": false,
          "text": "0.4",
          "x": "B3SA3",
          "xanchor": "center",
          "y": "SUZB3",
          "yanchor": "middle"
         },
         {
          "font": {
           "color": "black",
           "size": 10
          },
          "showarrow": false,
          "text": "0.4",
          "x": "Hang Seng Index",
          "xanchor": "center",
          "y": "SUZB3",
          "yanchor": "middle"
         },
         {
          "font": {
           "color": "black",
           "size": 10
          },
          "showarrow": false,
          "text": "0.6",
          "x": "FTSE 100",
          "xanchor": "center",
          "y": "SUZB3",
          "yanchor": "middle"
         },
         {
          "font": {
           "color": "black",
           "size": 10
          },
          "showarrow": false,
          "text": "0.8",
          "x": "VALE3",
          "xanchor": "center",
          "y": "SUZB3",
          "yanchor": "middle"
         },
         {
          "font": {
           "color": "black",
           "size": 10
          },
          "showarrow": false,
          "text": "-0.3",
          "x": "EWZ",
          "xanchor": "center",
          "y": "SUZB3",
          "yanchor": "middle"
         },
         {
          "font": {
           "color": "black",
           "size": 10
          },
          "showarrow": false,
          "text": "0.5",
          "x": "GGBR4",
          "xanchor": "center",
          "y": "SUZB3",
          "yanchor": "middle"
         },
         {
          "font": {
           "color": "black",
           "size": 10
          },
          "showarrow": false,
          "text": "0.8",
          "x": "CPLE6",
          "xanchor": "center",
          "y": "SUZB3",
          "yanchor": "middle"
         },
         {
          "font": {
           "color": "black",
           "size": 10
          },
          "showarrow": false,
          "text": "0.3",
          "x": "CSNA3",
          "xanchor": "center",
          "y": "SUZB3",
          "yanchor": "middle"
         },
         {
          "font": {
           "color": "black",
           "size": 10
          },
          "showarrow": false,
          "text": "0.5",
          "x": "EEM",
          "xanchor": "center",
          "y": "SUZB3",
          "yanchor": "middle"
         },
         {
          "font": {
           "color": "black",
           "size": 10
          },
          "showarrow": false,
          "text": "0.1",
          "x": "SRNA3",
          "xanchor": "center",
          "y": "SUZB3",
          "yanchor": "middle"
         },
         {
          "font": {
           "color": "black",
           "size": 10
          },
          "showarrow": false,
          "text": "0.9",
          "x": "EGIE3",
          "xanchor": "center",
          "y": "SUZB3",
          "yanchor": "middle"
         },
         {
          "font": {
           "color": "black",
           "size": 10
          },
          "showarrow": false,
          "text": "0.8",
          "x": "KLBN11",
          "xanchor": "center",
          "y": "SUZB3",
          "yanchor": "middle"
         },
         {
          "font": {
           "color": "black",
           "size": 10
          },
          "showarrow": false,
          "text": "0.0",
          "x": "Oil",
          "xanchor": "center",
          "y": "SUZB3",
          "yanchor": "middle"
         },
         {
          "font": {
           "color": "black",
           "size": 10
          },
          "showarrow": false,
          "text": "-0.4",
          "x": "GOAU4",
          "xanchor": "center",
          "y": "SUZB3",
          "yanchor": "middle"
         },
         {
          "font": {
           "color": "black",
           "size": 10
          },
          "showarrow": false,
          "text": "0.4",
          "x": "PETR4",
          "xanchor": "center",
          "y": "SUZB3",
          "yanchor": "middle"
         },
         {
          "font": {
           "color": "black",
           "size": 10
          },
          "showarrow": false,
          "text": "-0.4",
          "x": "CMIG4",
          "xanchor": "center",
          "y": "SUZB3",
          "yanchor": "middle"
         },
         {
          "font": {
           "color": "black",
           "size": 10
          },
          "showarrow": false,
          "text": "-0.6",
          "x": "LIGT3",
          "xanchor": "center",
          "y": "SUZB3",
          "yanchor": "middle"
         },
         {
          "font": {
           "color": "black",
           "size": 10
          },
          "showarrow": false,
          "text": "0.7",
          "x": "MGLU3",
          "xanchor": "center",
          "y": "SUZB3",
          "yanchor": "middle"
         },
         {
          "font": {
           "color": "black",
           "size": 10
          },
          "showarrow": false,
          "text": "nan",
          "x": "IEE",
          "xanchor": "center",
          "y": "SUZB3",
          "yanchor": "middle"
         },
         {
          "font": {
           "color": "black",
           "size": 10
          },
          "showarrow": false,
          "text": "0.2",
          "x": "Hang Seng Index",
          "xanchor": "center",
          "y": "B3SA3",
          "yanchor": "middle"
         },
         {
          "font": {
           "color": "black",
           "size": 10
          },
          "showarrow": false,
          "text": "0.1",
          "x": "FTSE 100",
          "xanchor": "center",
          "y": "B3SA3",
          "yanchor": "middle"
         },
         {
          "font": {
           "color": "black",
           "size": 10
          },
          "showarrow": false,
          "text": "0.6",
          "x": "VALE3",
          "xanchor": "center",
          "y": "B3SA3",
          "yanchor": "middle"
         },
         {
          "font": {
           "color": "black",
           "size": 10
          },
          "showarrow": false,
          "text": "0.2",
          "x": "EWZ",
          "xanchor": "center",
          "y": "B3SA3",
          "yanchor": "middle"
         },
         {
          "font": {
           "color": "black",
           "size": 10
          },
          "showarrow": false,
          "text": "0.6",
          "x": "GGBR4",
          "xanchor": "center",
          "y": "B3SA3",
          "yanchor": "middle"
         },
         {
          "font": {
           "color": "black",
           "size": 10
          },
          "showarrow": false,
          "text": "0.4",
          "x": "CPLE6",
          "xanchor": "center",
          "y": "B3SA3",
          "yanchor": "middle"
         },
         {
          "font": {
           "color": "black",
           "size": 10
          },
          "showarrow": false,
          "text": "0.6",
          "x": "CSNA3",
          "xanchor": "center",
          "y": "B3SA3",
          "yanchor": "middle"
         },
         {
          "font": {
           "color": "black",
           "size": 10
          },
          "showarrow": false,
          "text": "0.4",
          "x": "EEM",
          "xanchor": "center",
          "y": "B3SA3",
          "yanchor": "middle"
         },
         {
          "font": {
           "color": "black",
           "size": 10
          },
          "showarrow": false,
          "text": "0.4",
          "x": "SRNA3",
          "xanchor": "center",
          "y": "B3SA3",
          "yanchor": "middle"
         },
         {
          "font": {
           "color": "black",
           "size": 10
          },
          "showarrow": false,
          "text": "0.2",
          "x": "EGIE3",
          "xanchor": "center",
          "y": "B3SA3",
          "yanchor": "middle"
         },
         {
          "font": {
           "color": "black",
           "size": 10
          },
          "showarrow": false,
          "text": "0.6",
          "x": "KLBN11",
          "xanchor": "center",
          "y": "B3SA3",
          "yanchor": "middle"
         },
         {
          "font": {
           "color": "black",
           "size": 10
          },
          "showarrow": false,
          "text": "0.1",
          "x": "Oil",
          "xanchor": "center",
          "y": "B3SA3",
          "yanchor": "middle"
         },
         {
          "font": {
           "color": "black",
           "size": 10
          },
          "showarrow": false,
          "text": "0.3",
          "x": "GOAU4",
          "xanchor": "center",
          "y": "B3SA3",
          "yanchor": "middle"
         },
         {
          "font": {
           "color": "black",
           "size": 10
          },
          "showarrow": false,
          "text": "0.7",
          "x": "PETR4",
          "xanchor": "center",
          "y": "B3SA3",
          "yanchor": "middle"
         },
         {
          "font": {
           "color": "black",
           "size": 10
          },
          "showarrow": false,
          "text": "0.1",
          "x": "CMIG4",
          "xanchor": "center",
          "y": "B3SA3",
          "yanchor": "middle"
         },
         {
          "font": {
           "color": "black",
           "size": 10
          },
          "showarrow": false,
          "text": "0.0",
          "x": "LIGT3",
          "xanchor": "center",
          "y": "B3SA3",
          "yanchor": "middle"
         },
         {
          "font": {
           "color": "black",
           "size": 10
          },
          "showarrow": false,
          "text": "0.8",
          "x": "MGLU3",
          "xanchor": "center",
          "y": "B3SA3",
          "yanchor": "middle"
         },
         {
          "font": {
           "color": "black",
           "size": 10
          },
          "showarrow": false,
          "text": "0.1",
          "x": "IEE",
          "xanchor": "center",
          "y": "B3SA3",
          "yanchor": "middle"
         },
         {
          "font": {
           "color": "black",
           "size": 10
          },
          "showarrow": false,
          "text": "0.6",
          "x": "FTSE 100",
          "xanchor": "center",
          "y": "Hang Seng Index",
          "yanchor": "middle"
         },
         {
          "font": {
           "color": "black",
           "size": 10
          },
          "showarrow": false,
          "text": "0.4",
          "x": "VALE3",
          "xanchor": "center",
          "y": "Hang Seng Index",
          "yanchor": "middle"
         },
         {
          "font": {
           "color": "black",
           "size": 10
          },
          "showarrow": false,
          "text": "0.3",
          "x": "EWZ",
          "xanchor": "center",
          "y": "Hang Seng Index",
          "yanchor": "middle"
         },
         {
          "font": {
           "color": "black",
           "size": 10
          },
          "showarrow": false,
          "text": "0.1",
          "x": "GGBR4",
          "xanchor": "center",
          "y": "Hang Seng Index",
          "yanchor": "middle"
         },
         {
          "font": {
           "color": "black",
           "size": 10
          },
          "showarrow": false,
          "text": "0.2",
          "x": "CPLE6",
          "xanchor": "center",
          "y": "Hang Seng Index",
          "yanchor": "middle"
         },
         {
          "font": {
           "color": "black",
           "size": 10
          },
          "showarrow": false,
          "text": "0.2",
          "x": "CSNA3",
          "xanchor": "center",
          "y": "Hang Seng Index",
          "yanchor": "middle"
         },
         {
          "font": {
           "color": "black",
           "size": 10
          },
          "showarrow": false,
          "text": "0.8",
          "x": "EEM",
          "xanchor": "center",
          "y": "Hang Seng Index",
          "yanchor": "middle"
         },
         {
          "font": {
           "color": "black",
           "size": 10
          },
          "showarrow": false,
          "text": "0.4",
          "x": "SRNA3",
          "xanchor": "center",
          "y": "Hang Seng Index",
          "yanchor": "middle"
         },
         {
          "font": {
           "color": "black",
           "size": 10
          },
          "showarrow": false,
          "text": "0.6",
          "x": "EGIE3",
          "xanchor": "center",
          "y": "Hang Seng Index",
          "yanchor": "middle"
         },
         {
          "font": {
           "color": "black",
           "size": 10
          },
          "showarrow": false,
          "text": "-0.0",
          "x": "KLBN11",
          "xanchor": "center",
          "y": "Hang Seng Index",
          "yanchor": "middle"
         },
         {
          "font": {
           "color": "black",
           "size": 10
          },
          "showarrow": false,
          "text": "0.1",
          "x": "Oil",
          "xanchor": "center",
          "y": "Hang Seng Index",
          "yanchor": "middle"
         },
         {
          "font": {
           "color": "black",
           "size": 10
          },
          "showarrow": false,
          "text": "-0.1",
          "x": "GOAU4",
          "xanchor": "center",
          "y": "Hang Seng Index",
          "yanchor": "middle"
         },
         {
          "font": {
           "color": "black",
           "size": 10
          },
          "showarrow": false,
          "text": "0.1",
          "x": "PETR4",
          "xanchor": "center",
          "y": "Hang Seng Index",
          "yanchor": "middle"
         },
         {
          "font": {
           "color": "black",
           "size": 10
          },
          "showarrow": false,
          "text": "-0.6",
          "x": "CMIG4",
          "xanchor": "center",
          "y": "Hang Seng Index",
          "yanchor": "middle"
         },
         {
          "font": {
           "color": "black",
           "size": 10
          },
          "showarrow": false,
          "text": "-0.0",
          "x": "LIGT3",
          "xanchor": "center",
          "y": "Hang Seng Index",
          "yanchor": "middle"
         },
         {
          "font": {
           "color": "black",
           "size": 10
          },
          "showarrow": false,
          "text": "0.4",
          "x": "MGLU3",
          "xanchor": "center",
          "y": "Hang Seng Index",
          "yanchor": "middle"
         },
         {
          "font": {
           "color": "black",
           "size": 10
          },
          "showarrow": false,
          "text": "0.0",
          "x": "IEE",
          "xanchor": "center",
          "y": "Hang Seng Index",
          "yanchor": "middle"
         },
         {
          "font": {
           "color": "black",
           "size": 10
          },
          "showarrow": false,
          "text": "0.5",
          "x": "VALE3",
          "xanchor": "center",
          "y": "FTSE 100",
          "yanchor": "middle"
         },
         {
          "font": {
           "color": "black",
           "size": 10
          },
          "showarrow": false,
          "text": "-0.1",
          "x": "EWZ",
          "xanchor": "center",
          "y": "FTSE 100",
          "yanchor": "middle"
         },
         {
          "font": {
           "color": "black",
           "size": 10
          },
          "showarrow": false,
          "text": "0.2",
          "x": "GGBR4",
          "xanchor": "center",
          "y": "FTSE 100",
          "yanchor": "middle"
         },
         {
          "font": {
           "color": "black",
           "size": 10
          },
          "showarrow": false,
          "text": "0.6",
          "x": "CPLE6",
          "xanchor": "center",
          "y": "FTSE 100",
          "yanchor": "middle"
         },
         {
          "font": {
           "color": "black",
           "size": 10
          },
          "showarrow": false,
          "text": "-0.0",
          "x": "CSNA3",
          "xanchor": "center",
          "y": "FTSE 100",
          "yanchor": "middle"
         },
         {
          "font": {
           "color": "black",
           "size": 10
          },
          "showarrow": false,
          "text": "0.6",
          "x": "EEM",
          "xanchor": "center",
          "y": "FTSE 100",
          "yanchor": "middle"
         },
         {
          "font": {
           "color": "black",
           "size": 10
          },
          "showarrow": false,
          "text": "-0.5",
          "x": "SRNA3",
          "xanchor": "center",
          "y": "FTSE 100",
          "yanchor": "middle"
         },
         {
          "font": {
           "color": "black",
           "size": 10
          },
          "showarrow": false,
          "text": "0.8",
          "x": "EGIE3",
          "xanchor": "center",
          "y": "FTSE 100",
          "yanchor": "middle"
         },
         {
          "font": {
           "color": "black",
           "size": 10
          },
          "showarrow": false,
          "text": "0.1",
          "x": "KLBN11",
          "xanchor": "center",
          "y": "FTSE 100",
          "yanchor": "middle"
         },
         {
          "font": {
           "color": "black",
           "size": 10
          },
          "showarrow": false,
          "text": "0.1",
          "x": "Oil",
          "xanchor": "center",
          "y": "FTSE 100",
          "yanchor": "middle"
         },
         {
          "font": {
           "color": "black",
           "size": 10
          },
          "showarrow": false,
          "text": "-0.4",
          "x": "GOAU4",
          "xanchor": "center",
          "y": "FTSE 100",
          "yanchor": "middle"
         },
         {
          "font": {
           "color": "black",
           "size": 10
          },
          "showarrow": false,
          "text": "0.2",
          "x": "PETR4",
          "xanchor": "center",
          "y": "FTSE 100",
          "yanchor": "middle"
         },
         {
          "font": {
           "color": "black",
           "size": 10
          },
          "showarrow": false,
          "text": "-0.4",
          "x": "CMIG4",
          "xanchor": "center",
          "y": "FTSE 100",
          "yanchor": "middle"
         },
         {
          "font": {
           "color": "black",
           "size": 10
          },
          "showarrow": false,
          "text": "-0.6",
          "x": "LIGT3",
          "xanchor": "center",
          "y": "FTSE 100",
          "yanchor": "middle"
         },
         {
          "font": {
           "color": "black",
           "size": 10
          },
          "showarrow": false,
          "text": "0.1",
          "x": "MGLU3",
          "xanchor": "center",
          "y": "FTSE 100",
          "yanchor": "middle"
         },
         {
          "font": {
           "color": "black",
           "size": 10
          },
          "showarrow": false,
          "text": "0.1",
          "x": "IEE",
          "xanchor": "center",
          "y": "FTSE 100",
          "yanchor": "middle"
         },
         {
          "font": {
           "color": "black",
           "size": 10
          },
          "showarrow": false,
          "text": "0.2",
          "x": "EWZ",
          "xanchor": "center",
          "y": "VALE3",
          "yanchor": "middle"
         },
         {
          "font": {
           "color": "black",
           "size": 10
          },
          "showarrow": false,
          "text": "0.8",
          "x": "GGBR4",
          "xanchor": "center",
          "y": "VALE3",
          "yanchor": "middle"
         },
         {
          "font": {
           "color": "black",
           "size": 10
          },
          "showarrow": false,
          "text": "0.8",
          "x": "CPLE6",
          "xanchor": "center",
          "y": "VALE3",
          "yanchor": "middle"
         },
         {
          "font": {
           "color": "black",
           "size": 10
          },
          "showarrow": false,
          "text": "0.7",
          "x": "CSNA3",
          "xanchor": "center",
          "y": "VALE3",
          "yanchor": "middle"
         },
         {
          "font": {
           "color": "black",
           "size": 10
          },
          "showarrow": false,
          "text": "0.7",
          "x": "EEM",
          "xanchor": "center",
          "y": "VALE3",
          "yanchor": "middle"
         },
         {
          "font": {
           "color": "black",
           "size": 10
          },
          "showarrow": false,
          "text": "0.2",
          "x": "SRNA3",
          "xanchor": "center",
          "y": "VALE3",
          "yanchor": "middle"
         },
         {
          "font": {
           "color": "black",
           "size": 10
          },
          "showarrow": false,
          "text": "0.6",
          "x": "EGIE3",
          "xanchor": "center",
          "y": "VALE3",
          "yanchor": "middle"
         },
         {
          "font": {
           "color": "black",
           "size": 10
          },
          "showarrow": false,
          "text": "0.7",
          "x": "KLBN11",
          "xanchor": "center",
          "y": "VALE3",
          "yanchor": "middle"
         },
         {
          "font": {
           "color": "black",
           "size": 10
          },
          "showarrow": false,
          "text": "0.4",
          "x": "Oil",
          "xanchor": "center",
          "y": "VALE3",
          "yanchor": "middle"
         },
         {
          "font": {
           "color": "black",
           "size": 10
          },
          "showarrow": false,
          "text": "0.1",
          "x": "GOAU4",
          "xanchor": "center",
          "y": "VALE3",
          "yanchor": "middle"
         },
         {
          "font": {
           "color": "black",
           "size": 10
          },
          "showarrow": false,
          "text": "0.7",
          "x": "PETR4",
          "xanchor": "center",
          "y": "VALE3",
          "yanchor": "middle"
         },
         {
          "font": {
           "color": "black",
           "size": 10
          },
          "showarrow": false,
          "text": "-0.4",
          "x": "CMIG4",
          "xanchor": "center",
          "y": "VALE3",
          "yanchor": "middle"
         },
         {
          "font": {
           "color": "black",
           "size": 10
          },
          "showarrow": false,
          "text": "-0.3",
          "x": "LIGT3",
          "xanchor": "center",
          "y": "VALE3",
          "yanchor": "middle"
         },
         {
          "font": {
           "color": "black",
           "size": 10
          },
          "showarrow": false,
          "text": "0.6",
          "x": "MGLU3",
          "xanchor": "center",
          "y": "VALE3",
          "yanchor": "middle"
         },
         {
          "font": {
           "color": "black",
           "size": 10
          },
          "showarrow": false,
          "text": "-0.5",
          "x": "IEE",
          "xanchor": "center",
          "y": "VALE3",
          "yanchor": "middle"
         },
         {
          "font": {
           "color": "black",
           "size": 10
          },
          "showarrow": false,
          "text": "0.4",
          "x": "GGBR4",
          "xanchor": "center",
          "y": "EWZ",
          "yanchor": "middle"
         },
         {
          "font": {
           "color": "black",
           "size": 10
          },
          "showarrow": false,
          "text": "-0.1",
          "x": "CPLE6",
          "xanchor": "center",
          "y": "EWZ",
          "yanchor": "middle"
         },
         {
          "font": {
           "color": "black",
           "size": 10
          },
          "showarrow": false,
          "text": "0.6",
          "x": "CSNA3",
          "xanchor": "center",
          "y": "EWZ",
          "yanchor": "middle"
         },
         {
          "font": {
           "color": "black",
           "size": 10
          },
          "showarrow": false,
          "text": "0.5",
          "x": "EEM",
          "xanchor": "center",
          "y": "EWZ",
          "yanchor": "middle"
         },
         {
          "font": {
           "color": "black",
           "size": 10
          },
          "showarrow": false,
          "text": "0.3",
          "x": "SRNA3",
          "xanchor": "center",
          "y": "EWZ",
          "yanchor": "middle"
         },
         {
          "font": {
           "color": "black",
           "size": 10
          },
          "showarrow": false,
          "text": "-0.2",
          "x": "EGIE3",
          "xanchor": "center",
          "y": "EWZ",
          "yanchor": "middle"
         },
         {
          "font": {
           "color": "black",
           "size": 10
          },
          "showarrow": false,
          "text": "-0.4",
          "x": "KLBN11",
          "xanchor": "center",
          "y": "EWZ",
          "yanchor": "middle"
         },
         {
          "font": {
           "color": "black",
           "size": 10
          },
          "showarrow": false,
          "text": "0.6",
          "x": "Oil",
          "xanchor": "center",
          "y": "EWZ",
          "yanchor": "middle"
         },
         {
          "font": {
           "color": "black",
           "size": 10
          },
          "showarrow": false,
          "text": "0.8",
          "x": "GOAU4",
          "xanchor": "center",
          "y": "EWZ",
          "yanchor": "middle"
         },
         {
          "font": {
           "color": "black",
           "size": 10
          },
          "showarrow": false,
          "text": "0.6",
          "x": "PETR4",
          "xanchor": "center",
          "y": "EWZ",
          "yanchor": "middle"
         },
         {
          "font": {
           "color": "black",
           "size": 10
          },
          "showarrow": false,
          "text": "-0.3",
          "x": "CMIG4",
          "xanchor": "center",
          "y": "EWZ",
          "yanchor": "middle"
         },
         {
          "font": {
           "color": "black",
           "size": 10
          },
          "showarrow": false,
          "text": "0.5",
          "x": "LIGT3",
          "xanchor": "center",
          "y": "EWZ",
          "yanchor": "middle"
         },
         {
          "font": {
           "color": "black",
           "size": 10
          },
          "showarrow": false,
          "text": "-0.2",
          "x": "MGLU3",
          "xanchor": "center",
          "y": "EWZ",
          "yanchor": "middle"
         },
         {
          "font": {
           "color": "black",
           "size": 10
          },
          "showarrow": false,
          "text": "-0.5",
          "x": "IEE",
          "xanchor": "center",
          "y": "EWZ",
          "yanchor": "middle"
         },
         {
          "font": {
           "color": "black",
           "size": 10
          },
          "showarrow": false,
          "text": "0.6",
          "x": "CPLE6",
          "xanchor": "center",
          "y": "GGBR4",
          "yanchor": "middle"
         },
         {
          "font": {
           "color": "black",
           "size": 10
          },
          "showarrow": false,
          "text": "0.8",
          "x": "CSNA3",
          "xanchor": "center",
          "y": "GGBR4",
          "yanchor": "middle"
         },
         {
          "font": {
           "color": "black",
           "size": 10
          },
          "showarrow": false,
          "text": "0.5",
          "x": "EEM",
          "xanchor": "center",
          "y": "GGBR4",
          "yanchor": "middle"
         },
         {
          "font": {
           "color": "black",
           "size": 10
          },
          "showarrow": false,
          "text": "0.2",
          "x": "SRNA3",
          "xanchor": "center",
          "y": "GGBR4",
          "yanchor": "middle"
         },
         {
          "font": {
           "color": "black",
           "size": 10
          },
          "showarrow": false,
          "text": "0.3",
          "x": "EGIE3",
          "xanchor": "center",
          "y": "GGBR4",
          "yanchor": "middle"
         },
         {
          "font": {
           "color": "black",
           "size": 10
          },
          "showarrow": false,
          "text": "0.6",
          "x": "KLBN11",
          "xanchor": "center",
          "y": "GGBR4",
          "yanchor": "middle"
         },
         {
          "font": {
           "color": "black",
           "size": 10
          },
          "showarrow": false,
          "text": "0.5",
          "x": "Oil",
          "xanchor": "center",
          "y": "GGBR4",
          "yanchor": "middle"
         },
         {
          "font": {
           "color": "black",
           "size": 10
          },
          "showarrow": false,
          "text": "0.5",
          "x": "GOAU4",
          "xanchor": "center",
          "y": "GGBR4",
          "yanchor": "middle"
         },
         {
          "font": {
           "color": "black",
           "size": 10
          },
          "showarrow": false,
          "text": "0.8",
          "x": "PETR4",
          "xanchor": "center",
          "y": "GGBR4",
          "yanchor": "middle"
         },
         {
          "font": {
           "color": "black",
           "size": 10
          },
          "showarrow": false,
          "text": "-0.3",
          "x": "CMIG4",
          "xanchor": "center",
          "y": "GGBR4",
          "yanchor": "middle"
         },
         {
          "font": {
           "color": "black",
           "size": 10
          },
          "showarrow": false,
          "text": "-0.1",
          "x": "LIGT3",
          "xanchor": "center",
          "y": "GGBR4",
          "yanchor": "middle"
         },
         {
          "font": {
           "color": "black",
           "size": 10
          },
          "showarrow": false,
          "text": "0.5",
          "x": "MGLU3",
          "xanchor": "center",
          "y": "GGBR4",
          "yanchor": "middle"
         },
         {
          "font": {
           "color": "black",
           "size": 10
          },
          "showarrow": false,
          "text": "-0.4",
          "x": "IEE",
          "xanchor": "center",
          "y": "GGBR4",
          "yanchor": "middle"
         },
         {
          "font": {
           "color": "black",
           "size": 10
          },
          "showarrow": false,
          "text": "0.3",
          "x": "CSNA3",
          "xanchor": "center",
          "y": "CPLE6",
          "yanchor": "middle"
         },
         {
          "font": {
           "color": "black",
           "size": 10
          },
          "showarrow": false,
          "text": "0.5",
          "x": "EEM",
          "xanchor": "center",
          "y": "CPLE6",
          "yanchor": "middle"
         },
         {
          "font": {
           "color": "black",
           "size": 10
          },
          "showarrow": false,
          "text": "-0.4",
          "x": "SRNA3",
          "xanchor": "center",
          "y": "CPLE6",
          "yanchor": "middle"
         },
         {
          "font": {
           "color": "black",
           "size": 10
          },
          "showarrow": false,
          "text": "0.8",
          "x": "EGIE3",
          "xanchor": "center",
          "y": "CPLE6",
          "yanchor": "middle"
         },
         {
          "font": {
           "color": "black",
           "size": 10
          },
          "showarrow": false,
          "text": "0.5",
          "x": "KLBN11",
          "xanchor": "center",
          "y": "CPLE6",
          "yanchor": "middle"
         },
         {
          "font": {
           "color": "black",
           "size": 10
          },
          "showarrow": false,
          "text": "0.2",
          "x": "Oil",
          "xanchor": "center",
          "y": "CPLE6",
          "yanchor": "middle"
         },
         {
          "font": {
           "color": "black",
           "size": 10
          },
          "showarrow": false,
          "text": "-0.2",
          "x": "GOAU4",
          "xanchor": "center",
          "y": "CPLE6",
          "yanchor": "middle"
         },
         {
          "font": {
           "color": "black",
           "size": 10
          },
          "showarrow": false,
          "text": "0.5",
          "x": "PETR4",
          "xanchor": "center",
          "y": "CPLE6",
          "yanchor": "middle"
         },
         {
          "font": {
           "color": "black",
           "size": 10
          },
          "showarrow": false,
          "text": "-0.4",
          "x": "CMIG4",
          "xanchor": "center",
          "y": "CPLE6",
          "yanchor": "middle"
         },
         {
          "font": {
           "color": "black",
           "size": 10
          },
          "showarrow": false,
          "text": "-0.6",
          "x": "LIGT3",
          "xanchor": "center",
          "y": "CPLE6",
          "yanchor": "middle"
         },
         {
          "font": {
           "color": "black",
           "size": 10
          },
          "showarrow": false,
          "text": "0.4",
          "x": "MGLU3",
          "xanchor": "center",
          "y": "CPLE6",
          "yanchor": "middle"
         },
         {
          "font": {
           "color": "black",
           "size": 10
          },
          "showarrow": false,
          "text": "-0.2",
          "x": "IEE",
          "xanchor": "center",
          "y": "CPLE6",
          "yanchor": "middle"
         },
         {
          "font": {
           "color": "black",
           "size": 10
          },
          "showarrow": false,
          "text": "0.5",
          "x": "EEM",
          "xanchor": "center",
          "y": "CSNA3",
          "yanchor": "middle"
         },
         {
          "font": {
           "color": "black",
           "size": 10
          },
          "showarrow": false,
          "text": "0.4",
          "x": "SRNA3",
          "xanchor": "center",
          "y": "CSNA3",
          "yanchor": "middle"
         },
         {
          "font": {
           "color": "black",
           "size": 10
          },
          "showarrow": false,
          "text": "0.1",
          "x": "EGIE3",
          "xanchor": "center",
          "y": "CSNA3",
          "yanchor": "middle"
         },
         {
          "font": {
           "color": "black",
           "size": 10
          },
          "showarrow": false,
          "text": "0.6",
          "x": "KLBN11",
          "xanchor": "center",
          "y": "CSNA3",
          "yanchor": "middle"
         },
         {
          "font": {
           "color": "black",
           "size": 10
          },
          "showarrow": false,
          "text": "0.4",
          "x": "Oil",
          "xanchor": "center",
          "y": "CSNA3",
          "yanchor": "middle"
         },
         {
          "font": {
           "color": "black",
           "size": 10
          },
          "showarrow": false,
          "text": "0.6",
          "x": "GOAU4",
          "xanchor": "center",
          "y": "CSNA3",
          "yanchor": "middle"
         },
         {
          "font": {
           "color": "black",
           "size": 10
          },
          "showarrow": false,
          "text": "0.7",
          "x": "PETR4",
          "xanchor": "center",
          "y": "CSNA3",
          "yanchor": "middle"
         },
         {
          "font": {
           "color": "black",
           "size": 10
          },
          "showarrow": false,
          "text": "-0.3",
          "x": "CMIG4",
          "xanchor": "center",
          "y": "CSNA3",
          "yanchor": "middle"
         },
         {
          "font": {
           "color": "black",
           "size": 10
          },
          "showarrow": false,
          "text": "0.2",
          "x": "LIGT3",
          "xanchor": "center",
          "y": "CSNA3",
          "yanchor": "middle"
         },
         {
          "font": {
           "color": "black",
           "size": 10
          },
          "showarrow": false,
          "text": "0.7",
          "x": "MGLU3",
          "xanchor": "center",
          "y": "CSNA3",
          "yanchor": "middle"
         },
         {
          "font": {
           "color": "black",
           "size": 10
          },
          "showarrow": false,
          "text": "-0.3",
          "x": "IEE",
          "xanchor": "center",
          "y": "CSNA3",
          "yanchor": "middle"
         },
         {
          "font": {
           "color": "black",
           "size": 10
          },
          "showarrow": false,
          "text": "0.3",
          "x": "SRNA3",
          "xanchor": "center",
          "y": "EEM",
          "yanchor": "middle"
         },
         {
          "font": {
           "color": "black",
           "size": 10
          },
          "showarrow": false,
          "text": "0.6",
          "x": "EGIE3",
          "xanchor": "center",
          "y": "EEM",
          "yanchor": "middle"
         },
         {
          "font": {
           "color": "black",
           "size": 10
          },
          "showarrow": false,
          "text": "0.4",
          "x": "KLBN11",
          "xanchor": "center",
          "y": "EEM",
          "yanchor": "middle"
         },
         {
          "font": {
           "color": "black",
           "size": 10
          },
          "showarrow": false,
          "text": "0.4",
          "x": "Oil",
          "xanchor": "center",
          "y": "EEM",
          "yanchor": "middle"
         },
         {
          "font": {
           "color": "black",
           "size": 10
          },
          "showarrow": false,
          "text": "0.2",
          "x": "GOAU4",
          "xanchor": "center",
          "y": "EEM",
          "yanchor": "middle"
         },
         {
          "font": {
           "color": "black",
           "size": 10
          },
          "showarrow": false,
          "text": "0.5",
          "x": "PETR4",
          "xanchor": "center",
          "y": "EEM",
          "yanchor": "middle"
         },
         {
          "font": {
           "color": "black",
           "size": 10
          },
          "showarrow": false,
          "text": "-0.6",
          "x": "CMIG4",
          "xanchor": "center",
          "y": "EEM",
          "yanchor": "middle"
         },
         {
          "font": {
           "color": "black",
           "size": 10
          },
          "showarrow": false,
          "text": "-0.1",
          "x": "LIGT3",
          "xanchor": "center",
          "y": "EEM",
          "yanchor": "middle"
         },
         {
          "font": {
           "color": "black",
           "size": 10
          },
          "showarrow": false,
          "text": "0.6",
          "x": "MGLU3",
          "xanchor": "center",
          "y": "EEM",
          "yanchor": "middle"
         },
         {
          "font": {
           "color": "black",
           "size": 10
          },
          "showarrow": false,
          "text": "-0.3",
          "x": "IEE",
          "xanchor": "center",
          "y": "EEM",
          "yanchor": "middle"
         },
         {
          "font": {
           "color": "black",
           "size": 10
          },
          "showarrow": false,
          "text": "0.2",
          "x": "EGIE3",
          "xanchor": "center",
          "y": "SRNA3",
          "yanchor": "middle"
         },
         {
          "font": {
           "color": "black",
           "size": 10
          },
          "showarrow": false,
          "text": "0.2",
          "x": "KLBN11",
          "xanchor": "center",
          "y": "SRNA3",
          "yanchor": "middle"
         },
         {
          "font": {
           "color": "black",
           "size": 10
          },
          "showarrow": false,
          "text": "0.4",
          "x": "Oil",
          "xanchor": "center",
          "y": "SRNA3",
          "yanchor": "middle"
         },
         {
          "font": {
           "color": "black",
           "size": 10
          },
          "showarrow": false,
          "text": "0.0",
          "x": "GOAU4",
          "xanchor": "center",
          "y": "SRNA3",
          "yanchor": "middle"
         },
         {
          "font": {
           "color": "black",
           "size": 10
          },
          "showarrow": false,
          "text": "-0.1",
          "x": "PETR4",
          "xanchor": "center",
          "y": "SRNA3",
          "yanchor": "middle"
         },
         {
          "font": {
           "color": "black",
           "size": 10
          },
          "showarrow": false,
          "text": "-0.2",
          "x": "CMIG4",
          "xanchor": "center",
          "y": "SRNA3",
          "yanchor": "middle"
         },
         {
          "font": {
           "color": "black",
           "size": 10
          },
          "showarrow": false,
          "text": "0.7",
          "x": "LIGT3",
          "xanchor": "center",
          "y": "SRNA3",
          "yanchor": "middle"
         },
         {
          "font": {
           "color": "black",
           "size": 10
          },
          "showarrow": false,
          "text": "0.6",
          "x": "MGLU3",
          "xanchor": "center",
          "y": "SRNA3",
          "yanchor": "middle"
         },
         {
          "font": {
           "color": "black",
           "size": 10
          },
          "showarrow": false,
          "text": "nan",
          "x": "IEE",
          "xanchor": "center",
          "y": "SRNA3",
          "yanchor": "middle"
         },
         {
          "font": {
           "color": "black",
           "size": 10
          },
          "showarrow": false,
          "text": "0.5",
          "x": "KLBN11",
          "xanchor": "center",
          "y": "EGIE3",
          "yanchor": "middle"
         },
         {
          "font": {
           "color": "black",
           "size": 10
          },
          "showarrow": false,
          "text": "0.0",
          "x": "Oil",
          "xanchor": "center",
          "y": "EGIE3",
          "yanchor": "middle"
         },
         {
          "font": {
           "color": "black",
           "size": 10
          },
          "showarrow": false,
          "text": "-0.4",
          "x": "GOAU4",
          "xanchor": "center",
          "y": "EGIE3",
          "yanchor": "middle"
         },
         {
          "font": {
           "color": "black",
           "size": 10
          },
          "showarrow": false,
          "text": "0.3",
          "x": "PETR4",
          "xanchor": "center",
          "y": "EGIE3",
          "yanchor": "middle"
         },
         {
          "font": {
           "color": "black",
           "size": 10
          },
          "showarrow": false,
          "text": "-0.5",
          "x": "CMIG4",
          "xanchor": "center",
          "y": "EGIE3",
          "yanchor": "middle"
         },
         {
          "font": {
           "color": "black",
           "size": 10
          },
          "showarrow": false,
          "text": "-0.6",
          "x": "LIGT3",
          "xanchor": "center",
          "y": "EGIE3",
          "yanchor": "middle"
         },
         {
          "font": {
           "color": "black",
           "size": 10
          },
          "showarrow": false,
          "text": "0.6",
          "x": "MGLU3",
          "xanchor": "center",
          "y": "EGIE3",
          "yanchor": "middle"
         },
         {
          "font": {
           "color": "black",
           "size": 10
          },
          "showarrow": false,
          "text": "0.1",
          "x": "IEE",
          "xanchor": "center",
          "y": "EGIE3",
          "yanchor": "middle"
         },
         {
          "font": {
           "color": "black",
           "size": 10
          },
          "showarrow": false,
          "text": "-0.0",
          "x": "Oil",
          "xanchor": "center",
          "y": "KLBN11",
          "yanchor": "middle"
         },
         {
          "font": {
           "color": "black",
           "size": 10
          },
          "showarrow": false,
          "text": "0.1",
          "x": "GOAU4",
          "xanchor": "center",
          "y": "KLBN11",
          "yanchor": "middle"
         },
         {
          "font": {
           "color": "black",
           "size": 10
          },
          "showarrow": false,
          "text": "0.4",
          "x": "PETR4",
          "xanchor": "center",
          "y": "KLBN11",
          "yanchor": "middle"
         },
         {
          "font": {
           "color": "black",
           "size": 10
          },
          "showarrow": false,
          "text": "0.2",
          "x": "CMIG4",
          "xanchor": "center",
          "y": "KLBN11",
          "yanchor": "middle"
         },
         {
          "font": {
           "color": "black",
           "size": 10
          },
          "showarrow": false,
          "text": "-0.3",
          "x": "LIGT3",
          "xanchor": "center",
          "y": "KLBN11",
          "yanchor": "middle"
         },
         {
          "font": {
           "color": "black",
           "size": 10
          },
          "showarrow": false,
          "text": "0.6",
          "x": "MGLU3",
          "xanchor": "center",
          "y": "KLBN11",
          "yanchor": "middle"
         },
         {
          "font": {
           "color": "black",
           "size": 10
          },
          "showarrow": false,
          "text": "0.4",
          "x": "IEE",
          "xanchor": "center",
          "y": "KLBN11",
          "yanchor": "middle"
         },
         {
          "font": {
           "color": "black",
           "size": 10
          },
          "showarrow": false,
          "text": "0.6",
          "x": "GOAU4",
          "xanchor": "center",
          "y": "Oil",
          "yanchor": "middle"
         },
         {
          "font": {
           "color": "black",
           "size": 10
          },
          "showarrow": false,
          "text": "0.5",
          "x": "PETR4",
          "xanchor": "center",
          "y": "Oil",
          "yanchor": "middle"
         },
         {
          "font": {
           "color": "black",
           "size": 10
          },
          "showarrow": false,
          "text": "-0.3",
          "x": "CMIG4",
          "xanchor": "center",
          "y": "Oil",
          "yanchor": "middle"
         },
         {
          "font": {
           "color": "black",
           "size": 10
          },
          "showarrow": false,
          "text": "0.1",
          "x": "LIGT3",
          "xanchor": "center",
          "y": "Oil",
          "yanchor": "middle"
         },
         {
          "font": {
           "color": "black",
           "size": 10
          },
          "showarrow": false,
          "text": "-0.3",
          "x": "MGLU3",
          "xanchor": "center",
          "y": "Oil",
          "yanchor": "middle"
         },
         {
          "font": {
           "color": "black",
           "size": 10
          },
          "showarrow": false,
          "text": "-0.6",
          "x": "IEE",
          "xanchor": "center",
          "y": "Oil",
          "yanchor": "middle"
         },
         {
          "font": {
           "color": "black",
           "size": 10
          },
          "showarrow": false,
          "text": "0.6",
          "x": "PETR4",
          "xanchor": "center",
          "y": "GOAU4",
          "yanchor": "middle"
         },
         {
          "font": {
           "color": "black",
           "size": 10
          },
          "showarrow": false,
          "text": "-0.1",
          "x": "CMIG4",
          "xanchor": "center",
          "y": "GOAU4",
          "yanchor": "middle"
         },
         {
          "font": {
           "color": "black",
           "size": 10
          },
          "showarrow": false,
          "text": "0.5",
          "x": "LIGT3",
          "xanchor": "center",
          "y": "GOAU4",
          "yanchor": "middle"
         },
         {
          "font": {
           "color": "black",
           "size": 10
          },
          "showarrow": false,
          "text": "-0.1",
          "x": "MGLU3",
          "xanchor": "center",
          "y": "GOAU4",
          "yanchor": "middle"
         },
         {
          "font": {
           "color": "black",
           "size": 10
          },
          "showarrow": false,
          "text": "-0.4",
          "x": "IEE",
          "xanchor": "center",
          "y": "GOAU4",
          "yanchor": "middle"
         },
         {
          "font": {
           "color": "black",
           "size": 10
          },
          "showarrow": false,
          "text": "-0.3",
          "x": "CMIG4",
          "xanchor": "center",
          "y": "PETR4",
          "yanchor": "middle"
         },
         {
          "font": {
           "color": "black",
           "size": 10
          },
          "showarrow": false,
          "text": "-0.0",
          "x": "LIGT3",
          "xanchor": "center",
          "y": "PETR4",
          "yanchor": "middle"
         },
         {
          "font": {
           "color": "black",
           "size": 10
          },
          "showarrow": false,
          "text": "0.3",
          "x": "MGLU3",
          "xanchor": "center",
          "y": "PETR4",
          "yanchor": "middle"
         },
         {
          "font": {
           "color": "black",
           "size": 10
          },
          "showarrow": false,
          "text": "-0.6",
          "x": "IEE",
          "xanchor": "center",
          "y": "PETR4",
          "yanchor": "middle"
         },
         {
          "font": {
           "color": "black",
           "size": 10
          },
          "showarrow": false,
          "text": "0.2",
          "x": "LIGT3",
          "xanchor": "center",
          "y": "CMIG4",
          "yanchor": "middle"
         },
         {
          "font": {
           "color": "black",
           "size": 10
          },
          "showarrow": false,
          "text": "-0.0",
          "x": "MGLU3",
          "xanchor": "center",
          "y": "CMIG4",
          "yanchor": "middle"
         },
         {
          "font": {
           "color": "black",
           "size": 10
          },
          "showarrow": false,
          "text": "-0.5",
          "x": "IEE",
          "xanchor": "center",
          "y": "CMIG4",
          "yanchor": "middle"
         },
         {
          "font": {
           "color": "black",
           "size": 10
          },
          "showarrow": false,
          "text": "0.0",
          "x": "MGLU3",
          "xanchor": "center",
          "y": "LIGT3",
          "yanchor": "middle"
         },
         {
          "font": {
           "color": "black",
           "size": 10
          },
          "showarrow": false,
          "text": "-0.5",
          "x": "IEE",
          "xanchor": "center",
          "y": "LIGT3",
          "yanchor": "middle"
         },
         {
          "font": {
           "color": "black",
           "size": 10
          },
          "showarrow": false,
          "text": "-0.2",
          "x": "IEE",
          "xanchor": "center",
          "y": "MGLU3",
          "yanchor": "middle"
         }
        ],
        "height": 1000,
        "margin": {
         "b": 100,
         "l": 100,
         "r": 20,
         "t": 80
        },
        "template": {
         "data": {
          "bar": [
           {
            "error_x": {
             "color": "#2a3f5f"
            },
            "error_y": {
             "color": "#2a3f5f"
            },
            "marker": {
             "line": {
              "color": "#E5ECF6",
              "width": 0.5
             },
             "pattern": {
              "fillmode": "overlay",
              "size": 10,
              "solidity": 0.2
             }
            },
            "type": "bar"
           }
          ],
          "barpolar": [
           {
            "marker": {
             "line": {
              "color": "#E5ECF6",
              "width": 0.5
             },
             "pattern": {
              "fillmode": "overlay",
              "size": 10,
              "solidity": 0.2
             }
            },
            "type": "barpolar"
           }
          ],
          "carpet": [
           {
            "aaxis": {
             "endlinecolor": "#2a3f5f",
             "gridcolor": "white",
             "linecolor": "white",
             "minorgridcolor": "white",
             "startlinecolor": "#2a3f5f"
            },
            "baxis": {
             "endlinecolor": "#2a3f5f",
             "gridcolor": "white",
             "linecolor": "white",
             "minorgridcolor": "white",
             "startlinecolor": "#2a3f5f"
            },
            "type": "carpet"
           }
          ],
          "choropleth": [
           {
            "colorbar": {
             "outlinewidth": 0,
             "ticks": ""
            },
            "type": "choropleth"
           }
          ],
          "contour": [
           {
            "colorbar": {
             "outlinewidth": 0,
             "ticks": ""
            },
            "colorscale": [
             [
              0,
              "#0d0887"
             ],
             [
              0.1111111111111111,
              "#46039f"
             ],
             [
              0.2222222222222222,
              "#7201a8"
             ],
             [
              0.3333333333333333,
              "#9c179e"
             ],
             [
              0.4444444444444444,
              "#bd3786"
             ],
             [
              0.5555555555555556,
              "#d8576b"
             ],
             [
              0.6666666666666666,
              "#ed7953"
             ],
             [
              0.7777777777777778,
              "#fb9f3a"
             ],
             [
              0.8888888888888888,
              "#fdca26"
             ],
             [
              1,
              "#f0f921"
             ]
            ],
            "type": "contour"
           }
          ],
          "contourcarpet": [
           {
            "colorbar": {
             "outlinewidth": 0,
             "ticks": ""
            },
            "type": "contourcarpet"
           }
          ],
          "heatmap": [
           {
            "colorbar": {
             "outlinewidth": 0,
             "ticks": ""
            },
            "colorscale": [
             [
              0,
              "#0d0887"
             ],
             [
              0.1111111111111111,
              "#46039f"
             ],
             [
              0.2222222222222222,
              "#7201a8"
             ],
             [
              0.3333333333333333,
              "#9c179e"
             ],
             [
              0.4444444444444444,
              "#bd3786"
             ],
             [
              0.5555555555555556,
              "#d8576b"
             ],
             [
              0.6666666666666666,
              "#ed7953"
             ],
             [
              0.7777777777777778,
              "#fb9f3a"
             ],
             [
              0.8888888888888888,
              "#fdca26"
             ],
             [
              1,
              "#f0f921"
             ]
            ],
            "type": "heatmap"
           }
          ],
          "heatmapgl": [
           {
            "colorbar": {
             "outlinewidth": 0,
             "ticks": ""
            },
            "colorscale": [
             [
              0,
              "#0d0887"
             ],
             [
              0.1111111111111111,
              "#46039f"
             ],
             [
              0.2222222222222222,
              "#7201a8"
             ],
             [
              0.3333333333333333,
              "#9c179e"
             ],
             [
              0.4444444444444444,
              "#bd3786"
             ],
             [
              0.5555555555555556,
              "#d8576b"
             ],
             [
              0.6666666666666666,
              "#ed7953"
             ],
             [
              0.7777777777777778,
              "#fb9f3a"
             ],
             [
              0.8888888888888888,
              "#fdca26"
             ],
             [
              1,
              "#f0f921"
             ]
            ],
            "type": "heatmapgl"
           }
          ],
          "histogram": [
           {
            "marker": {
             "pattern": {
              "fillmode": "overlay",
              "size": 10,
              "solidity": 0.2
             }
            },
            "type": "histogram"
           }
          ],
          "histogram2d": [
           {
            "colorbar": {
             "outlinewidth": 0,
             "ticks": ""
            },
            "colorscale": [
             [
              0,
              "#0d0887"
             ],
             [
              0.1111111111111111,
              "#46039f"
             ],
             [
              0.2222222222222222,
              "#7201a8"
             ],
             [
              0.3333333333333333,
              "#9c179e"
             ],
             [
              0.4444444444444444,
              "#bd3786"
             ],
             [
              0.5555555555555556,
              "#d8576b"
             ],
             [
              0.6666666666666666,
              "#ed7953"
             ],
             [
              0.7777777777777778,
              "#fb9f3a"
             ],
             [
              0.8888888888888888,
              "#fdca26"
             ],
             [
              1,
              "#f0f921"
             ]
            ],
            "type": "histogram2d"
           }
          ],
          "histogram2dcontour": [
           {
            "colorbar": {
             "outlinewidth": 0,
             "ticks": ""
            },
            "colorscale": [
             [
              0,
              "#0d0887"
             ],
             [
              0.1111111111111111,
              "#46039f"
             ],
             [
              0.2222222222222222,
              "#7201a8"
             ],
             [
              0.3333333333333333,
              "#9c179e"
             ],
             [
              0.4444444444444444,
              "#bd3786"
             ],
             [
              0.5555555555555556,
              "#d8576b"
             ],
             [
              0.6666666666666666,
              "#ed7953"
             ],
             [
              0.7777777777777778,
              "#fb9f3a"
             ],
             [
              0.8888888888888888,
              "#fdca26"
             ],
             [
              1,
              "#f0f921"
             ]
            ],
            "type": "histogram2dcontour"
           }
          ],
          "mesh3d": [
           {
            "colorbar": {
             "outlinewidth": 0,
             "ticks": ""
            },
            "type": "mesh3d"
           }
          ],
          "parcoords": [
           {
            "line": {
             "colorbar": {
              "outlinewidth": 0,
              "ticks": ""
             }
            },
            "type": "parcoords"
           }
          ],
          "pie": [
           {
            "automargin": true,
            "type": "pie"
           }
          ],
          "scatter": [
           {
            "fillpattern": {
             "fillmode": "overlay",
             "size": 10,
             "solidity": 0.2
            },
            "type": "scatter"
           }
          ],
          "scatter3d": [
           {
            "line": {
             "colorbar": {
              "outlinewidth": 0,
              "ticks": ""
             }
            },
            "marker": {
             "colorbar": {
              "outlinewidth": 0,
              "ticks": ""
             }
            },
            "type": "scatter3d"
           }
          ],
          "scattercarpet": [
           {
            "marker": {
             "colorbar": {
              "outlinewidth": 0,
              "ticks": ""
             }
            },
            "type": "scattercarpet"
           }
          ],
          "scattergeo": [
           {
            "marker": {
             "colorbar": {
              "outlinewidth": 0,
              "ticks": ""
             }
            },
            "type": "scattergeo"
           }
          ],
          "scattergl": [
           {
            "marker": {
             "colorbar": {
              "outlinewidth": 0,
              "ticks": ""
             }
            },
            "type": "scattergl"
           }
          ],
          "scattermapbox": [
           {
            "marker": {
             "colorbar": {
              "outlinewidth": 0,
              "ticks": ""
             }
            },
            "type": "scattermapbox"
           }
          ],
          "scatterpolar": [
           {
            "marker": {
             "colorbar": {
              "outlinewidth": 0,
              "ticks": ""
             }
            },
            "type": "scatterpolar"
           }
          ],
          "scatterpolargl": [
           {
            "marker": {
             "colorbar": {
              "outlinewidth": 0,
              "ticks": ""
             }
            },
            "type": "scatterpolargl"
           }
          ],
          "scatterternary": [
           {
            "marker": {
             "colorbar": {
              "outlinewidth": 0,
              "ticks": ""
             }
            },
            "type": "scatterternary"
           }
          ],
          "surface": [
           {
            "colorbar": {
             "outlinewidth": 0,
             "ticks": ""
            },
            "colorscale": [
             [
              0,
              "#0d0887"
             ],
             [
              0.1111111111111111,
              "#46039f"
             ],
             [
              0.2222222222222222,
              "#7201a8"
             ],
             [
              0.3333333333333333,
              "#9c179e"
             ],
             [
              0.4444444444444444,
              "#bd3786"
             ],
             [
              0.5555555555555556,
              "#d8576b"
             ],
             [
              0.6666666666666666,
              "#ed7953"
             ],
             [
              0.7777777777777778,
              "#fb9f3a"
             ],
             [
              0.8888888888888888,
              "#fdca26"
             ],
             [
              1,
              "#f0f921"
             ]
            ],
            "type": "surface"
           }
          ],
          "table": [
           {
            "cells": {
             "fill": {
              "color": "#EBF0F8"
             },
             "line": {
              "color": "white"
             }
            },
            "header": {
             "fill": {
              "color": "#C8D4E3"
             },
             "line": {
              "color": "white"
             }
            },
            "type": "table"
           }
          ]
         },
         "layout": {
          "annotationdefaults": {
           "arrowcolor": "#2a3f5f",
           "arrowhead": 0,
           "arrowwidth": 1
          },
          "autotypenumbers": "strict",
          "coloraxis": {
           "colorbar": {
            "outlinewidth": 0,
            "ticks": ""
           }
          },
          "colorscale": {
           "diverging": [
            [
             0,
             "#8e0152"
            ],
            [
             0.1,
             "#c51b7d"
            ],
            [
             0.2,
             "#de77ae"
            ],
            [
             0.3,
             "#f1b6da"
            ],
            [
             0.4,
             "#fde0ef"
            ],
            [
             0.5,
             "#f7f7f7"
            ],
            [
             0.6,
             "#e6f5d0"
            ],
            [
             0.7,
             "#b8e186"
            ],
            [
             0.8,
             "#7fbc41"
            ],
            [
             0.9,
             "#4d9221"
            ],
            [
             1,
             "#276419"
            ]
           ],
           "sequential": [
            [
             0,
             "#0d0887"
            ],
            [
             0.1111111111111111,
             "#46039f"
            ],
            [
             0.2222222222222222,
             "#7201a8"
            ],
            [
             0.3333333333333333,
             "#9c179e"
            ],
            [
             0.4444444444444444,
             "#bd3786"
            ],
            [
             0.5555555555555556,
             "#d8576b"
            ],
            [
             0.6666666666666666,
             "#ed7953"
            ],
            [
             0.7777777777777778,
             "#fb9f3a"
            ],
            [
             0.8888888888888888,
             "#fdca26"
            ],
            [
             1,
             "#f0f921"
            ]
           ],
           "sequentialminus": [
            [
             0,
             "#0d0887"
            ],
            [
             0.1111111111111111,
             "#46039f"
            ],
            [
             0.2222222222222222,
             "#7201a8"
            ],
            [
             0.3333333333333333,
             "#9c179e"
            ],
            [
             0.4444444444444444,
             "#bd3786"
            ],
            [
             0.5555555555555556,
             "#d8576b"
            ],
            [
             0.6666666666666666,
             "#ed7953"
            ],
            [
             0.7777777777777778,
             "#fb9f3a"
            ],
            [
             0.8888888888888888,
             "#fdca26"
            ],
            [
             1,
             "#f0f921"
            ]
           ]
          },
          "colorway": [
           "#636efa",
           "#EF553B",
           "#00cc96",
           "#ab63fa",
           "#FFA15A",
           "#19d3f3",
           "#FF6692",
           "#B6E880",
           "#FF97FF",
           "#FECB52"
          ],
          "font": {
           "color": "#2a3f5f"
          },
          "geo": {
           "bgcolor": "white",
           "lakecolor": "white",
           "landcolor": "#E5ECF6",
           "showlakes": true,
           "showland": true,
           "subunitcolor": "white"
          },
          "hoverlabel": {
           "align": "left"
          },
          "hovermode": "closest",
          "mapbox": {
           "style": "light"
          },
          "paper_bgcolor": "white",
          "plot_bgcolor": "#E5ECF6",
          "polar": {
           "angularaxis": {
            "gridcolor": "white",
            "linecolor": "white",
            "ticks": ""
           },
           "bgcolor": "#E5ECF6",
           "radialaxis": {
            "gridcolor": "white",
            "linecolor": "white",
            "ticks": ""
           }
          },
          "scene": {
           "xaxis": {
            "backgroundcolor": "#E5ECF6",
            "gridcolor": "white",
            "gridwidth": 2,
            "linecolor": "white",
            "showbackground": true,
            "ticks": "",
            "zerolinecolor": "white"
           },
           "yaxis": {
            "backgroundcolor": "#E5ECF6",
            "gridcolor": "white",
            "gridwidth": 2,
            "linecolor": "white",
            "showbackground": true,
            "ticks": "",
            "zerolinecolor": "white"
           },
           "zaxis": {
            "backgroundcolor": "#E5ECF6",
            "gridcolor": "white",
            "gridwidth": 2,
            "linecolor": "white",
            "showbackground": true,
            "ticks": "",
            "zerolinecolor": "white"
           }
          },
          "shapedefaults": {
           "line": {
            "color": "#2a3f5f"
           }
          },
          "ternary": {
           "aaxis": {
            "gridcolor": "white",
            "linecolor": "white",
            "ticks": ""
           },
           "baxis": {
            "gridcolor": "white",
            "linecolor": "white",
            "ticks": ""
           },
           "bgcolor": "#E5ECF6",
           "caxis": {
            "gridcolor": "white",
            "linecolor": "white",
            "ticks": ""
           }
          },
          "title": {
           "x": 0.05
          },
          "xaxis": {
           "automargin": true,
           "gridcolor": "white",
           "linecolor": "white",
           "ticks": "",
           "title": {
            "standoff": 15
           },
           "zerolinecolor": "white",
           "zerolinewidth": 2
          },
          "yaxis": {
           "automargin": true,
           "gridcolor": "white",
           "linecolor": "white",
           "ticks": "",
           "title": {
            "standoff": 15
           },
           "zerolinecolor": "white",
           "zerolinewidth": 2
          }
         }
        },
        "title": {
         "text": "Matriz de Correlação entre Variáveis",
         "x": 0.5,
         "y": 0.95
        },
        "width": 1000,
        "xaxis": {
         "scaleanchor": "y",
         "tickangle": -45,
         "ticktext": [
          "VTI",
          "ACWI",
          "SP500",
          "GLD",
          "CAC 40",
          "Nikkei 225",
          "ITUB4",
          "DAX",
          "BPAC11",
          "IBOV",
          "NASDAQ Composite",
          "BOVA11",
          "ENGI11",
          "IOO",
          "SANB11",
          "BBDC4",
          "COCE5",
          "BBAS3",
          "ITSA4",
          "Gold",
          "USD/BRL",
          "SMAL11",
          "SUZB3",
          "B3SA3",
          "Hang Seng Index",
          "FTSE 100",
          "VALE3",
          "EWZ",
          "GGBR4",
          "CPLE6",
          "CSNA3",
          "EEM",
          "SRNA3",
          "EGIE3",
          "KLBN11",
          "Oil",
          "GOAU4",
          "PETR4",
          "CMIG4",
          "LIGT3",
          "MGLU3",
          "IEE"
         ],
         "tickvals": [
          0,
          1,
          2,
          3,
          4,
          5,
          6,
          7,
          8,
          9,
          10,
          11,
          12,
          13,
          14,
          15,
          16,
          17,
          18,
          19,
          20,
          21,
          22,
          23,
          24,
          25,
          26,
          27,
          28,
          29,
          30,
          31,
          32,
          33,
          34,
          35,
          36,
          37,
          38,
          39,
          40,
          41
         ],
         "title": {
          "text": "Variáveis"
         }
        },
        "yaxis": {
         "constrain": "domain",
         "tickangle": 0,
         "ticktext": [
          "VTI",
          "ACWI",
          "SP500",
          "GLD",
          "CAC 40",
          "Nikkei 225",
          "ITUB4",
          "DAX",
          "BPAC11",
          "IBOV",
          "NASDAQ Composite",
          "BOVA11",
          "ENGI11",
          "IOO",
          "SANB11",
          "BBDC4",
          "COCE5",
          "BBAS3",
          "ITSA4",
          "Gold",
          "USD/BRL",
          "SMAL11",
          "SUZB3",
          "B3SA3",
          "Hang Seng Index",
          "FTSE 100",
          "VALE3",
          "EWZ",
          "GGBR4",
          "CPLE6",
          "CSNA3",
          "EEM",
          "SRNA3",
          "EGIE3",
          "KLBN11",
          "Oil",
          "GOAU4",
          "PETR4",
          "CMIG4",
          "LIGT3",
          "MGLU3",
          "IEE"
         ],
         "tickvals": [
          0,
          1,
          2,
          3,
          4,
          5,
          6,
          7,
          8,
          9,
          10,
          11,
          12,
          13,
          14,
          15,
          16,
          17,
          18,
          19,
          20,
          21,
          22,
          23,
          24,
          25,
          26,
          27,
          28,
          29,
          30,
          31,
          32,
          33,
          34,
          35,
          36,
          37,
          38,
          39,
          40,
          41
         ],
         "title": {
          "text": "Variáveis"
         }
        }
       }
      }
     },
     "metadata": {},
     "output_type": "display_data"
    }
   ],
   "source": [
    "import plotly.graph_objects as go\n",
    "import numpy as np\n",
    "import pandas as pd\n",
    "import yfinance as yf\n",
    "\n",
    "# Baixar dados e combinar em um único DataFrame\n",
    "data = pd.concat([\n",
    "    ibov, sp500, nasdaq, dax, ftse, nikkei, hsi, cac40, bova11,\n",
    "    ewz, eem, vti, acwi, gld, ioo, smal11, usd_brl, oil, gold,\n",
    "    itub4, bbas3, b3sa3, bbdc4, bpac11, sanb11, itsa4,\n",
    "    vale3, suzb3, ggbr4, klbn11, csna3, goau4,\n",
    "    cmig4, coce5, engi11, cple6, srna3, egie3, ligt3, petr4,\n",
    "    mglu3, iee\n",
    "], axis=1)\n",
    "\n",
    "# Calcular a matriz de correlação\n",
    "corr_matrix = data.corr()\n",
    "\n",
    "# Ajustar correlações acima de 0,95 para 1\n",
    "corr_matrix = corr_matrix.applymap(lambda x: 1 if x > 0.95 else x)\n",
    "\n",
    "# Criar DataFrame com pares de variáveis e suas correlações\n",
    "pairs = []\n",
    "for i in range(len(corr_matrix.columns)):\n",
    "    for j in range(i + 1, len(corr_matrix.columns)):\n",
    "        var1 = corr_matrix.columns[i]\n",
    "        var2 = corr_matrix.columns[j]\n",
    "        corr_value = corr_matrix.iloc[i, j]\n",
    "        pairs.append((var1, var2, corr_value))\n",
    "\n",
    "# Converter para DataFrame e ordenar por correlação absoluta\n",
    "pairs_df = pd.DataFrame(pairs, columns=['Variable 1', 'Variable 2', 'Correlation'])\n",
    "pairs_df = pairs_df.sort_values(by='Correlation', ascending=False)\n",
    "\n",
    "# Recriar a matriz de correlação ordenada\n",
    "sorted_columns = pd.unique(pairs_df[['Variable 1', 'Variable 2']].values.ravel('K'))\n",
    "sorted_corr_matrix = corr_matrix.loc[sorted_columns, sorted_columns]\n",
    "\n",
    "# Criar a máscara para evitar duplicações\n",
    "mask = np.zeros_like(sorted_corr_matrix, dtype=bool)\n",
    "mask[np.triu_indices_from(mask, k=1)] = True  # Apenas a metade superior\n",
    "\n",
    "# Criar o gráfico de matriz de correlação usando Plotly Graph Objects\n",
    "fig = go.Figure(data=go.Heatmap(\n",
    "    z=np.where(mask, sorted_corr_matrix.values, np.nan),  # Aplica a máscara\n",
    "    x=sorted_corr_matrix.columns,\n",
    "    y=sorted_corr_matrix.columns,\n",
    "    colorscale='RdBu_r',\n",
    "    zmin=-1,\n",
    "    zmax=1,\n",
    "    colorbar=None  # Remove a barra de legenda\n",
    "))\n",
    "\n",
    "# Adicionar rótulos apenas na metade superior\n",
    "annotations = []\n",
    "for i in range(len(sorted_corr_matrix.columns)):\n",
    "    for j in range(i + 1, len(sorted_corr_matrix.columns)):\n",
    "        annotations.append(dict(\n",
    "            x=sorted_corr_matrix.columns[j],\n",
    "            y=sorted_corr_matrix.columns[i],\n",
    "            text=f\"{sorted_corr_matrix.iloc[i, j]:.1f}\",\n",
    "            showarrow=False,\n",
    "            font=dict(size=10, color='black'),\n",
    "            xanchor='center',\n",
    "            yanchor='middle'\n",
    "        ))\n",
    "\n",
    "# Atualizar layout\n",
    "fig.update_layout(\n",
    "    title='Matriz de Correlação entre Variáveis',\n",
    "    title_x=0.5,\n",
    "    title_y=0.95,\n",
    "    xaxis_title='Variáveis',\n",
    "    yaxis_title='Variáveis',\n",
    "    xaxis=dict(\n",
    "        tickvals=list(range(len(sorted_corr_matrix.columns))),\n",
    "        ticktext=sorted_corr_matrix.columns,\n",
    "        tickangle=-45\n",
    "    ),\n",
    "    yaxis=dict(\n",
    "        tickvals=list(range(len(sorted_corr_matrix.columns))),\n",
    "        ticktext=sorted_corr_matrix.columns,\n",
    "        tickangle=0\n",
    "    ),\n",
    "    margin=dict(l=100, r=20, t=80, b=100),\n",
    "    height=1000,\n",
    "    width=1000\n",
    ")\n",
    "\n",
    "# Ajustar a proporção de aspecto para garantir que os quadrados sejam iguais\n",
    "fig.update_xaxes(scaleanchor='y')\n",
    "fig.update_yaxes(constrain='domain')\n",
    "\n",
    "# Adicionar as anotações\n",
    "fig.update_layout(annotations=annotations)\n",
    "\n",
    "# Exibir o gráfico\n",
    "fig.show()\n"
   ]
  },
  {
   "cell_type": "code",
   "execution_count": 11,
   "metadata": {},
   "outputs": [
    {
     "name": "stdout",
     "output_type": "stream",
     "text": [
      "Correlação entre o Ibovespa e outras variáveis:\n",
      "              Ticker  Correlation          Category\n",
      "0              SP500     0.893188   Índices Globais\n",
      "1   NASDAQ Composite     0.901262   Índices Globais\n",
      "2                DAX     0.868615   Índices Globais\n",
      "3           FTSE 100     0.721132   Índices Globais\n",
      "4         Nikkei 225     0.815365   Índices Globais\n",
      "5    Hang Seng Index     0.486474   Índices Globais\n",
      "6             CAC 40     0.747128   Índices Globais\n",
      "7             BOVA11     0.999700   Índices Globais\n",
      "8                EWZ    -0.019755              ETFs\n",
      "9                EEM     0.652754              ETFs\n",
      "10               VTI     0.893768            Outros\n",
      "11              ACWI     0.892929            Outros\n",
      "12               GLD     0.788383            Outros\n",
      "13               IOO     0.880738            Outros\n",
      "14            SMAL11     0.920442              ETFs\n",
      "15           USD/BRL     0.767502            Moedas\n",
      "16               Oil     0.157408       Commodities\n",
      "17              Gold     0.831574       Commodities\n",
      "18             ITUB4     0.873531            Bancos\n",
      "19             BBAS3     0.882286            Bancos\n",
      "20             B3SA3     0.550996            Bancos\n",
      "21             BBDC4     0.579919            Bancos\n",
      "22            BPAC11     0.927826            Bancos\n",
      "23            SANB11     0.802020            Bancos\n",
      "24             ITSA4     0.912526            Bancos\n",
      "25             VALE3     0.856281         Materiais\n",
      "26             SUZB3     0.914612         Materiais\n",
      "27             GGBR4     0.600470         Materiais\n",
      "28            KLBN11     0.626344         Materiais\n",
      "29             CSNA3     0.411569         Materiais\n",
      "30             GOAU4    -0.201085         Materiais\n",
      "31             CMIG4    -0.475870           Energia\n",
      "32             COCE5     0.776629           Energia\n",
      "33            ENGI11     0.925690           Energia\n",
      "34             CPLE6     0.899367           Energia\n",
      "35             SRNA3    -0.207943           Energia\n",
      "36             EGIE3     0.882767           Energia\n",
      "37             LIGT3    -0.522016           Energia\n",
      "38             PETR4     0.573252           Energia\n",
      "39             MGLU3     0.614363  Consumo e Varejo\n",
      "40               IEE    -0.169744            Outros\n",
      "41             SELIC    -0.596570            Outros\n"
     ]
    }
   ],
   "source": [
    "# Mostrar o DataFrame de correlações\n",
    "print(\"Correlação entre o Ibovespa e outras variáveis:\")\n",
    "print(corr_df)\n"
   ]
  },
  {
   "cell_type": "code",
   "execution_count": 12,
   "metadata": {},
   "outputs": [],
   "source": [
    "# Criar um DataFrame com o índice de datas comuns\n",
    "dates = ibov.index\n",
    "\n",
    "# Reindexar todas as séries para ter as mesmas datas\n",
    "sp500 = sp500.reindex(dates)\n",
    "nasdaq = nasdaq.reindex(dates)\n",
    "dax = dax.reindex(dates)\n",
    "ftse = ftse.reindex(dates)\n",
    "nikkei = nikkei.reindex(dates)\n",
    "cac40 = cac40.reindex(dates)\n",
    "smal11 = smal11.reindex(dates)\n",
    "vti = vti.reindex(dates)\n",
    "acwi = acwi.reindex(dates)\n",
    "gld = gld.reindex(dates)\n",
    "ioo = ioo.reindex(dates)\n",
    "usd_brl = usd_brl.reindex(dates)\n",
    "gold = gold.reindex(dates)\n",
    "\n",
    "itub4 = itub4.reindex(dates)\n",
    "bbas3 = bbas3.reindex(dates)\n",
    "bpac11 = bpac11.reindex(dates)\n",
    "sanb11 = sanb11.reindex(dates)\n",
    "itsa4 = itsa4.reindex(dates)\n",
    "vale3 = vale3.reindex(dates)\n",
    "suzb3 = suzb3.reindex(dates)\n",
    "coce5 = coce5.reindex(dates)\n",
    "engi11 = engi11.reindex(dates)\n",
    "cple6 = cple6.reindex(dates)\n",
    "egie3 = egie3.reindex(dates)"
   ]
  },
  {
   "cell_type": "code",
   "execution_count": 13,
   "metadata": {},
   "outputs": [],
   "source": [
    "# Função para calcular o RSI\n",
    "def calculate_rsi(data, window):\n",
    "    delta = data.diff()\n",
    "    gain = (delta.where(delta > 0, 0)).rolling(window=window).mean()\n",
    "    loss = (-delta.where(delta < 0, 0)).rolling(window=window).mean()\n",
    "    rs = gain / loss\n",
    "    rsi = 100 - (100 / (1 + rs))\n",
    "    return rsi.fillna(0)"
   ]
  },
  {
   "cell_type": "code",
   "execution_count": 14,
   "metadata": {},
   "outputs": [
    {
     "data": {
      "text/plain": [
       "52.670854053139735"
      ]
     },
     "execution_count": 14,
     "metadata": {},
     "output_type": "execute_result"
    }
   ],
   "source": [
    "# Calcular o RSI para o Ibovespa\n",
    "rsi_ibov = calculate_rsi(ibov, 14)\n",
    "rsi_ibov.head(10000)\n",
    "rsi_ibov.mean()"
   ]
  },
  {
   "cell_type": "code",
   "execution_count": 15,
   "metadata": {},
   "outputs": [
    {
     "name": "stderr",
     "output_type": "stream",
     "text": [
      "/tmp/ipykernel_34552/24659029.py:2: FutureWarning:\n",
      "\n",
      "The default fill_method='pad' in Series.pct_change is deprecated and will be removed in a future version. Either fill in any non-leading NA values prior to calling pct_change or specify 'fill_method=None' to not fill NA values.\n",
      "\n",
      "/tmp/ipykernel_34552/24659029.py:3: FutureWarning:\n",
      "\n",
      "The default fill_method='pad' in Series.pct_change is deprecated and will be removed in a future version. Either fill in any non-leading NA values prior to calling pct_change or specify 'fill_method=None' to not fill NA values.\n",
      "\n",
      "/tmp/ipykernel_34552/24659029.py:4: FutureWarning:\n",
      "\n",
      "The default fill_method='pad' in Series.pct_change is deprecated and will be removed in a future version. Either fill in any non-leading NA values prior to calling pct_change or specify 'fill_method=None' to not fill NA values.\n",
      "\n",
      "/tmp/ipykernel_34552/24659029.py:5: FutureWarning:\n",
      "\n",
      "The default fill_method='pad' in Series.pct_change is deprecated and will be removed in a future version. Either fill in any non-leading NA values prior to calling pct_change or specify 'fill_method=None' to not fill NA values.\n",
      "\n",
      "/tmp/ipykernel_34552/24659029.py:6: FutureWarning:\n",
      "\n",
      "The default fill_method='pad' in Series.pct_change is deprecated and will be removed in a future version. Either fill in any non-leading NA values prior to calling pct_change or specify 'fill_method=None' to not fill NA values.\n",
      "\n",
      "/tmp/ipykernel_34552/24659029.py:7: FutureWarning:\n",
      "\n",
      "The default fill_method='pad' in Series.pct_change is deprecated and will be removed in a future version. Either fill in any non-leading NA values prior to calling pct_change or specify 'fill_method=None' to not fill NA values.\n",
      "\n",
      "/tmp/ipykernel_34552/24659029.py:8: FutureWarning:\n",
      "\n",
      "The default fill_method='pad' in Series.pct_change is deprecated and will be removed in a future version. Either fill in any non-leading NA values prior to calling pct_change or specify 'fill_method=None' to not fill NA values.\n",
      "\n",
      "/tmp/ipykernel_34552/24659029.py:9: FutureWarning:\n",
      "\n",
      "The default fill_method='pad' in Series.pct_change is deprecated and will be removed in a future version. Either fill in any non-leading NA values prior to calling pct_change or specify 'fill_method=None' to not fill NA values.\n",
      "\n",
      "/tmp/ipykernel_34552/24659029.py:10: FutureWarning:\n",
      "\n",
      "The default fill_method='pad' in Series.pct_change is deprecated and will be removed in a future version. Either fill in any non-leading NA values prior to calling pct_change or specify 'fill_method=None' to not fill NA values.\n",
      "\n",
      "/tmp/ipykernel_34552/24659029.py:11: FutureWarning:\n",
      "\n",
      "The default fill_method='pad' in Series.pct_change is deprecated and will be removed in a future version. Either fill in any non-leading NA values prior to calling pct_change or specify 'fill_method=None' to not fill NA values.\n",
      "\n",
      "/tmp/ipykernel_34552/24659029.py:12: FutureWarning:\n",
      "\n",
      "The default fill_method='pad' in Series.pct_change is deprecated and will be removed in a future version. Either fill in any non-leading NA values prior to calling pct_change or specify 'fill_method=None' to not fill NA values.\n",
      "\n",
      "/tmp/ipykernel_34552/24659029.py:13: FutureWarning:\n",
      "\n",
      "The default fill_method='pad' in Series.pct_change is deprecated and will be removed in a future version. Either fill in any non-leading NA values prior to calling pct_change or specify 'fill_method=None' to not fill NA values.\n",
      "\n",
      "/tmp/ipykernel_34552/24659029.py:14: FutureWarning:\n",
      "\n",
      "The default fill_method='pad' in Series.pct_change is deprecated and will be removed in a future version. Either fill in any non-leading NA values prior to calling pct_change or specify 'fill_method=None' to not fill NA values.\n",
      "\n"
     ]
    }
   ],
   "source": [
    "# Criar novas features de variação percentual\n",
    "sp500_pct = sp500.pct_change().fillna(0)\n",
    "nasdaq_pct = nasdaq.pct_change().fillna(0)\n",
    "dax_pct = dax.pct_change().fillna(0)\n",
    "ftse_pct = ftse.pct_change().fillna(0)\n",
    "nikkei_pct = nikkei.pct_change().fillna(0)\n",
    "cac40_pct = cac40.pct_change().fillna(0)\n",
    "smal11_pct = smal11.pct_change().fillna(0)\n",
    "vti_pct = vti.pct_change().fillna(0)\n",
    "acwi_pct = acwi.pct_change().fillna(0)\n",
    "gld_pct = gld.pct_change().fillna(0)\n",
    "ioo_pct = ioo.pct_change().fillna(0)\n",
    "usd_brl_pct = usd_brl.pct_change().fillna(0)\n",
    "gold_pct = gold.pct_change().fillna(0)\n",
    "itub4_pct = itub4.pct_change().fillna(0)\n",
    "bbas3_pct = bbas3.pct_change().fillna(0)\n",
    "bpac11_pct = bpac11.pct_change().fillna(0)\n",
    "sanb11_pct = sanb11.pct_change().fillna(0)\n",
    "itsa4_pct = itsa4.pct_change().fillna(0)\n",
    "vale3_pct = vale3.pct_change().fillna(0)\n",
    "suzb3_pct = suzb3.pct_change().fillna(0)\n",
    "coce5_pct = coce5.pct_change().fillna(0)\n",
    "engi11_pct = engi11.pct_change().fillna(0)\n",
    "cple6_pct = cple6.pct_change().fillna(0)\n",
    "egie3_pct = egie3.pct_change().fillna(0)\n",
    "\n",
    "\n",
    "\n"
   ]
  },
  {
   "cell_type": "code",
   "execution_count": 16,
   "metadata": {},
   "outputs": [],
   "source": [
    " #Combinar dados em um único DataFrame\n",
    "data = pd.DataFrame({\n",
    "    'ds': dates,\n",
    "    'y': ibov.values,\n",
    "    'RSI_Ibov': rsi_ibov.values,\n",
    "    'SP500': sp500.values,\n",
    "    'NASDAQ': nasdaq.values,\n",
    "    'DAX': dax.values,\n",
    "    'FTSE': ftse.values,\n",
    "    'NIKKEI': nikkei.values,\n",
    "    'CAC40': cac40.values,\n",
    "    'SMAL11': smal11.values,\n",
    "    'VTI11': vti.values,\n",
    "    'ACWI': acwi.values,\n",
    "    'GLD': gld.values,\n",
    "    'IOO': ioo.values,\n",
    "    'USD/BRL': usd_brl.values,\n",
    "    'Gold': gold.values,\n",
    "    'ITUB4': itub4.values,\n",
    "    'BBAS3': bbas3.values,\n",
    "    'BPAC11': bpac11.values,\n",
    "    'SANB11': sanb11.values,\n",
    "    'ITSA4': itsa4.values,\n",
    "    'VALE3': vale3.values,\n",
    "    'SUZB3': suzb3.values,\n",
    "    'COCE5': coce5.values,\n",
    "    'ENGI11': engi11.values,\n",
    "    'CPLE6': cple6.values,\n",
    "    'EGIE3': egie3.values,\n",
    "    'SP500_pct': sp500_pct.values,\n",
    "    'NASDAQ_pct': nasdaq_pct.values,\n",
    "    'DAX_pct': dax_pct.values,\n",
    "    'FTSE_pct': ftse_pct.values,\n",
    "    'NIKKEI_pct': nikkei_pct.values,\n",
    "    'CAC40_pct': cac40_pct.values,\n",
    "    'SMAL11_pct': smal11_pct.values,\n",
    "    'VTI_pct': vti_pct.values,\n",
    "    'ACWI_pct': acwi_pct.values,\n",
    "    'GLD_pct': gld_pct.values,\n",
    "    'IOO_pct': ioo_pct.values,\n",
    "    'USD/BRL_pct': usd_brl_pct.values,\n",
    "    'Gold_pct': gold_pct.values,\n",
    "    'ITUB4_pct': itub4_pct.values,\n",
    "    'BBAS3_pct': bbas3_pct.values,\n",
    "    'BPAC11_pct': bpac11_pct.values,\n",
    "    'SANB11_pct': sanb11_pct.values,\n",
    "    'ITSA4_pct': itsa4_pct.values,\n",
    "    'ITUB4_pct': itub4_pct.values,\n",
    "    'VALE3_pct': vale3_pct.values,\n",
    "    'SUZB3_pct': suzb3_pct.values,\n",
    "    'COCE5_pct': coce5_pct.values,\n",
    "    'ENGI11_pct': engi11_pct.values,\n",
    "    'CPLE6_pct': cple6_pct.values,\n",
    "    'EGIE3_pct':egie3_pct.values\n",
    "\n",
    "\n",
    "\n",
    "})\n",
    "# Se 'selic' não tiver a coluna 'ds', adicionar\n",
    "if 'ds' not in selic.columns:\n",
    "    selic = selic.reset_index().rename(columns={'index': 'ds'})\n",
    "\n",
    "# Garantir que 'selic' tenha uma coluna 'ds' para a junção\n",
    "selic = selic.rename(columns={selic.columns[0]: 'ds'})\n",
    "\n",
    "# Adicionar selic\n",
    "data = pd.merge(data, selic, how = 'left', on = 'ds')\n",
    "\n",
    "# Preencher valores nulos\n",
    "data = data.fillna(0)\n"
   ]
  },
  {
   "cell_type": "code",
   "execution_count": 17,
   "metadata": {},
   "outputs": [
    {
     "name": "stdout",
     "output_type": "stream",
     "text": [
      "<class 'pandas.core.frame.DataFrame'>\n",
      "RangeIndex: 5072 entries, 0 to 5071\n",
      "Data columns (total 52 columns):\n",
      " #   Column       Non-Null Count  Dtype         \n",
      "---  ------       --------------  -----         \n",
      " 0   ds           5072 non-null   datetime64[ns]\n",
      " 1   y            5072 non-null   float64       \n",
      " 2   RSI_Ibov     5072 non-null   float64       \n",
      " 3   SP500        5072 non-null   float64       \n",
      " 4   NASDAQ       5072 non-null   float64       \n",
      " 5   DAX          5072 non-null   float64       \n",
      " 6   FTSE         5072 non-null   float64       \n",
      " 7   NIKKEI       5072 non-null   float64       \n",
      " 8   CAC40        5072 non-null   float64       \n",
      " 9   SMAL11       5072 non-null   float64       \n",
      " 10  VTI11        5072 non-null   float64       \n",
      " 11  ACWI         5072 non-null   float64       \n",
      " 12  GLD          5072 non-null   float64       \n",
      " 13  IOO          5072 non-null   float64       \n",
      " 14  USD/BRL      5072 non-null   float64       \n",
      " 15  Gold         5072 non-null   float64       \n",
      " 16  ITUB4        5072 non-null   float64       \n",
      " 17  BBAS3        5072 non-null   float64       \n",
      " 18  BPAC11       5072 non-null   float64       \n",
      " 19  SANB11       5072 non-null   float64       \n",
      " 20  ITSA4        5072 non-null   float64       \n",
      " 21  VALE3        5072 non-null   float64       \n",
      " 22  SUZB3        5072 non-null   float64       \n",
      " 23  COCE5        5072 non-null   float64       \n",
      " 24  ENGI11       5072 non-null   float64       \n",
      " 25  CPLE6        5072 non-null   float64       \n",
      " 26  EGIE3        5072 non-null   float64       \n",
      " 27  SP500_pct    5072 non-null   float64       \n",
      " 28  NASDAQ_pct   5072 non-null   float64       \n",
      " 29  DAX_pct      5072 non-null   float64       \n",
      " 30  FTSE_pct     5072 non-null   float64       \n",
      " 31  NIKKEI_pct   5072 non-null   float64       \n",
      " 32  CAC40_pct    5072 non-null   float64       \n",
      " 33  SMAL11_pct   5072 non-null   float64       \n",
      " 34  VTI_pct      5072 non-null   float64       \n",
      " 35  ACWI_pct     5072 non-null   float64       \n",
      " 36  GLD_pct      5072 non-null   float64       \n",
      " 37  IOO_pct      5072 non-null   float64       \n",
      " 38  USD/BRL_pct  5072 non-null   float64       \n",
      " 39  Gold_pct     5072 non-null   float64       \n",
      " 40  ITUB4_pct    5072 non-null   float64       \n",
      " 41  BBAS3_pct    5072 non-null   float64       \n",
      " 42  BPAC11_pct   5072 non-null   float64       \n",
      " 43  SANB11_pct   5072 non-null   float64       \n",
      " 44  ITSA4_pct    5072 non-null   float64       \n",
      " 45  VALE3_pct    5072 non-null   float64       \n",
      " 46  SUZB3_pct    5072 non-null   float64       \n",
      " 47  COCE5_pct    5072 non-null   float64       \n",
      " 48  ENGI11_pct   5072 non-null   float64       \n",
      " 49  CPLE6_pct    5072 non-null   float64       \n",
      " 50  EGIE3_pct    5072 non-null   float64       \n",
      " 51  selic        5072 non-null   float64       \n",
      "dtypes: datetime64[ns](1), float64(51)\n",
      "memory usage: 2.0 MB\n"
     ]
    }
   ],
   "source": [
    "data.head()\n",
    "data.info()"
   ]
  },
  {
   "cell_type": "code",
   "execution_count": 18,
   "metadata": {},
   "outputs": [],
   "source": [
    "# Função para criação de DataFrame com feriados\n",
    "\n",
    "from prophet.make_holidays import make_holidays_df"
   ]
  },
  {
   "cell_type": "code",
   "execution_count": 19,
   "metadata": {},
   "outputs": [],
   "source": [
    "# Criação dos DataFrames com feriados munícipais de São Paulo e nacionais\n",
    "anos = data['ds'].dt.year.unique()\n",
    "\n",
    "feriados_sp = make_holidays_df(country='BR', state='SP', year_list=anos)\n",
    "feriados_br = make_holidays_df(country='BR', year_list=anos)\n",
    "\n",
    "# Concatenação dos DataFrames\n",
    "feriados = pd.concat([feriados_sp, feriados_br])"
   ]
  },
  {
   "cell_type": "code",
   "execution_count": 20,
   "metadata": {},
   "outputs": [],
   "source": [
    "# Criação dos DataFrames com os principais períodos relevantes\n",
    "\n",
    "pre_sal = pd.DataFrame({\n",
    "    'holiday': 'pre_sal',\n",
    "    'ds': pd.to_datetime(['2006-07-01']),\n",
    "    'df_upper': pd.to_datetime(['2008-01-01']),\n",
    "    'lower_window': 0,\n",
    "    'upper_window': 0\n",
    "})\n",
    "\n",
    "crise_subprime = pd.DataFrame({\n",
    "    'holiday': 'crise_subprime',\n",
    "    'ds': pd.to_datetime(['2008-09-15']),\n",
    "    'df_upper': pd.to_datetime(['2009-09-15']),\n",
    "    'lower_window': 0,\n",
    "    'upper_window': 0\n",
    "})\n",
    "\n",
    "impeachment = pd.DataFrame({\n",
    "    'holiday': 'impeachment',\n",
    "    'ds': pd.to_datetime(['2015-12-15']),\n",
    "    'df_upper': pd.to_datetime(['2016-08-31']),\n",
    "    'lower_window': 0,\n",
    "    'upper_window': 0\n",
    "})\n",
    "\n",
    "pandemia = pd.DataFrame({\n",
    "    'holiday': 'pandemia',\n",
    "    'ds': pd.to_datetime(['2020-03-11']),\n",
    "    'df_upper': pd.to_datetime(['2022-04-22']),\n",
    "    'lower_window': 0,\n",
    "    'upper_window': 0\n",
    "})"
   ]
  },
  {
   "cell_type": "code",
   "execution_count": 21,
   "metadata": {},
   "outputs": [],
   "source": [
    "# Eleições para presidente\n",
    "\n",
    "datas_eleicao = ['2002-10-27', '2006-10-29', '2010-10-31', '2014-10-26', '2018-10-28', '2022-10-30']\n",
    "\n",
    "eleicao = pd.DataFrame({\n",
    "    'holiday': 'eleicao',\n",
    "    'ds': pd.to_datetime(datas_eleicao),\n",
    "    'lower_window': -1,\n",
    "    'upper_window': 0\n",
    "})"
   ]
  },
  {
   "cell_type": "code",
   "execution_count": 22,
   "metadata": {},
   "outputs": [],
   "source": [
    "# Concatenar os DataFrames de feriados e períodos relevantes\n",
    "\n",
    "feriados_df = pd.concat([pre_sal, crise_subprime, eleicao, impeachment, pandemia, feriados])\n",
    "\n",
    "feriados_df.drop_duplicates(inplace=True)\n",
    "\n",
    "feriados_df['lower_window'] = feriados_df['lower_window'].fillna(-1)\n",
    "feriados_df['upper_window'] = feriados_df['upper_window'].fillna(1)"
   ]
  },
  {
   "cell_type": "code",
   "execution_count": 35,
   "metadata": {},
   "outputs": [
    {
     "data": {
      "text/plain": [
       "<matplotlib.legend.Legend at 0x77279c206610>"
      ]
     },
     "execution_count": 35,
     "metadata": {},
     "output_type": "execute_result"
    },
    {
     "data": {
      "image/png": "[encoded data removed]",
      "text/plain": [
       "<Figure size 2000x600 with 1 Axes>"
      ]
     },
     "metadata": {},
     "output_type": "display_data"
    }
   ],
   "source": [
    "# Dividir dados em treino e teste\n",
    "train = data[data['ds'] <= '2024-04-30']\n",
    "test = data[data['ds'] >= '2024-05-01']\n",
    "\n",
    "# Ajustar o modelo Prophet com variáveis exógenas\n",
    "model = Prophet(\n",
    "    seasonality_mode='multiplicative',\n",
    "    changepoint_prior_scale=0.05,\n",
    "    seasonality_prior_scale=10.0,\n",
    "    holidays=feriados_df\n",
    ")\n",
    "\n",
    "plt.figure(figsize=(20, 6))\n",
    "plt.plot(train['ds'], train['y'], label='Treino')\n",
    "plt.plot(test['ds'], test['y'], label='Teste')\n",
    "plt.legend()"
   ]
  },
  {
   "cell_type": "code",
   "execution_count": 36,
   "metadata": {},
   "outputs": [
    {
     "data": {
      "text/plain": [
       "<prophet.forecaster.Prophet at 0x7727aeee3b10>"
      ]
     },
     "execution_count": 36,
     "metadata": {},
     "output_type": "execute_result"
    }
   ],
   "source": [
    "#Adicionar os regressores\n",
    "\n",
    "model.add_regressor('RSI_Ibov')\n",
    "model.add_regressor('SP500')\n",
    "model.add_regressor('NASDAQ') #\n",
    "model.add_regressor('DAX') #\n",
    "model.add_regressor('FTSE')\n",
    "model.add_regressor('NIKKEI')\n",
    "model.add_regressor('CAC40')\n",
    "model.add_regressor('SMAL11')\n",
    "model.add_regressor('VTI11')\n",
    "model.add_regressor('ACWI')\n",
    "model.add_regressor('GLD')\n",
    "model.add_regressor('IOO')\n",
    "model.add_regressor('USD/BRL')\n",
    "model.add_regressor('Gold')\n",
    "model.add_regressor('ITUB4')\n",
    "model.add_regressor('BBAS3')\n",
    "model.add_regressor('BPAC11')\n",
    "model.add_regressor('SANB11')\n",
    "model.add_regressor('ITSA4')\n",
    "model.add_regressor('VALE3')\n",
    "model.add_regressor('SUZB3')\n",
    "model.add_regressor('COCE5')\n",
    "model.add_regressor('ENGI11')\n",
    "model.add_regressor('CPLE6')\n",
    "model.add_regressor('SP500_pct')\n",
    "model.add_regressor('NASDAQ_pct')\n",
    "model.add_regressor('DAX_pct')\n",
    "model.add_regressor('FTSE_pct')\n",
    "model.add_regressor('NIKKEI_pct')\n",
    "model.add_regressor('CAC40_pct')\n",
    "model.add_regressor('SMAL11_pct')\n",
    "model.add_regressor('VTI_pct')\n",
    "model.add_regressor('ACWI_pct')\n",
    "model.add_regressor('GLD_pct')\n",
    "model.add_regressor('IOO_pct')\n",
    "model.add_regressor('USD/BRL_pct')\n",
    "model.add_regressor('Gold_pct')\n",
    "model.add_regressor('ITUB4_pct')\n",
    "model.add_regressor('BBAS3_pct')\n",
    "model.add_regressor('BPAC11_pct')\n",
    "model.add_regressor('SANB11_pct')\n",
    "model.add_regressor('ITSA4_pct')\n",
    "model.add_regressor('ITUB4_pct')\n",
    "model.add_regressor('VALE3_pct')\n",
    "model.add_regressor('SUZB3_pct')\n",
    "model.add_regressor('COCE5_pct')\n",
    "model.add_regressor('ENGI11_pct')\n",
    "model.add_regressor('CPLE6_pct')\n",
    "model.add_regressor('EGIE3_pct')\n",
    "model.add_regressor('selic')\n",
    "\n",
    "\n",
    "\n",
    "\n"
   ]
  },
  {
   "cell_type": "code",
   "execution_count": 37,
   "metadata": {},
   "outputs": [
    {
     "name": "stderr",
     "output_type": "stream",
     "text": [
      "00:00:33 - cmdstanpy - INFO - Chain [1] start processing\n",
      "00:00:49 - cmdstanpy - INFO - Chain [1] done processing\n"
     ]
    }
   ],
   "source": [
    "# Treinar o modelo\n",
    "model.fit(train)\n",
    "\n",
    "# Fazer previsões\n",
    "future = model.make_future_dataframe(periods=len(test))\n",
    "future['RSI_Ibov'] = data['RSI_Ibov'].reset_index(drop=True)\n",
    "future['SP500'] = data['SP500'].reset_index(drop=True)\n",
    "future['NASDAQ'] = data['NASDAQ'].reset_index(drop=True)\n",
    "future['DAX'] = data['DAX'].reset_index(drop=True)\n",
    "future['FTSE'] = data['FTSE'].reset_index(drop=True)\n",
    "future['NIKKEI'] = data['NIKKEI'].reset_index(drop=True)\n",
    "future['CAC40'] = data['CAC40'].reset_index(drop=True)\n",
    "future['SMAL11'] = data['SMAL11'].reset_index(drop=True)\n",
    "future['VTI11'] = data['VTI11'].reset_index(drop=True)\n",
    "future['ACWI'] = data['ACWI'].reset_index(drop=True)\n",
    "future['GLD'] = data['GLD'].reset_index(drop=True)\n",
    "future['IOO'] = data['IOO'].reset_index(drop=True)\n",
    "future['USD/BRL'] = data['USD/BRL'].reset_index(drop=True)\n",
    "future['Gold'] = data['Gold'].reset_index(drop=True)\n",
    "future['ITUB4'] = data['ITUB4'].reset_index(drop=True)\n",
    "future['BBAS3'] = data['BBAS3'].reset_index(drop=True)\n",
    "future['BPAC11'] = data['BPAC11'].reset_index(drop=True)\n",
    "future['SANB11'] = data['SANB11'].reset_index(drop=True)\n",
    "future['ITSA4'] = data['ITSA4'].reset_index(drop=True)\n",
    "future['VALE3'] = data['VALE3'].reset_index(drop=True)\n",
    "future['SUZB3'] = data['SUZB3'].reset_index(drop=True)\n",
    "future['COCE5'] = data['COCE5'].reset_index(drop=True)\n",
    "future['ENGI11'] = data['ENGI11'].reset_index(drop=True)\n",
    "future['CPLE6'] = data['CPLE6'].reset_index(drop=True)\n",
    "future['SP500_pct'] = data['SP500_pct'].reset_index(drop=True)\n",
    "future['NASDAQ_pct'] = data['NASDAQ_pct'].reset_index(drop=True)\n",
    "future['DAX_pct'] = data['DAX_pct'].reset_index(drop=True)\n",
    "future['FTSE_pct'] = data['FTSE_pct'].reset_index(drop=True)\n",
    "future['NIKKEI_pct'] = data['NIKKEI_pct'].reset_index(drop=True)\n",
    "future['CAC40_pct'] = data['CAC40_pct'].reset_index(drop=True)\n",
    "future['SMAL11_pct'] = data['SMAL11_pct'].reset_index(drop=True)\n",
    "future['VTI_pct'] = data['VTI_pct'].reset_index(drop=True)\n",
    "future['ACWI_pct'] = data['ACWI_pct'].reset_index(drop=True)\n",
    "future['GLD_pct'] = data['GLD_pct'].reset_index(drop=True)\n",
    "future['IOO_pct'] = data['IOO_pct'].reset_index(drop=True)\n",
    "future['USD/BRL_pct'] = data['USD/BRL_pct'].reset_index(drop=True)\n",
    "future['Gold_pct'] = data['Gold_pct'].reset_index(drop=True)\n",
    "future['ITUB4_pct'] = data['ITUB4_pct'].reset_index(drop=True)\n",
    "future['BBAS3_pct'] = data['BBAS3_pct'].reset_index(drop=True)\n",
    "future['VALE3_pct'] = data['VALE3_pct'].reset_index(drop=True)\n",
    "future['SUZB3_pct'] = data['SUZB3_pct'].reset_index(drop=True)\n",
    "future['COCE5_pct'] = data['COCE5_pct'].reset_index(drop=True)\n",
    "future['ENGI11_pct'] = data['ENGI11_pct'].reset_index(drop=True)\n",
    "future['CPLE6_pct'] = data['CPLE6_pct'].reset_index(drop=True)\n",
    "future['EGIE3_pct'] = data['EGIE3_pct'].reset_index(drop=True)\n",
    "future['BPAC11_pct'] = data['BPAC11_pct'].reset_index(drop=True)\n",
    "future['SANB11_pct'] = data['SANB11_pct'].reset_index(drop=True)\n",
    "future['ITSA4_pct'] = data['ITSA4_pct'].reset_index(drop=True)\n",
    "future['selic'] = data['selic'].reset_index(drop=True)\n",
    "\n",
    "# Substituir NaN por 0\n",
    "future = future.fillna(0)\n",
    "\n",
    "# Fazer previsões\n",
    "forecast = model.predict(future)\n"
   ]
  },
  {
   "cell_type": "code",
   "execution_count": 38,
   "metadata": {},
   "outputs": [],
   "source": [
    "# Alinhar as previsões com o período de teste, garantindo datas comuns\n",
    "forecast_test = forecast[forecast['ds'].isin(test['ds'])].set_index('ds')\n",
    "test = test.set_index('ds')\n",
    "common_dates = test.index.intersection(forecast_test.index)\n",
    "aligned_forecast = forecast_test.loc[common_dates]\n",
    "aligned_test = test.loc[common_dates]"
   ]
  },
  {
   "cell_type": "code",
   "execution_count": 39,
   "metadata": {},
   "outputs": [
    {
     "name": "stdout",
     "output_type": "stream",
     "text": [
      "MAE: 4013.11\n",
      "MSE: 19454247.02\n",
      "RMSE: 4410.70\n",
      "Acurácia Percentual: 96.81%\n"
     ]
    }
   ],
   "source": [
    "# Calcular métricas de acurácia\n",
    "mae = mean_absolute_error(aligned_test['y'], aligned_forecast['yhat'])\n",
    "mse = mean_squared_error(aligned_test['y'], aligned_forecast['yhat'])\n",
    "rmse = np.sqrt(mse)\n",
    "\n",
    "# Calcular a acurácia percentual\n",
    "valor_medio_real = aligned_test['y'].mean()\n",
    "acuracia_percentual = 100 * (1 - mae / valor_medio_real)\n",
    "\n",
    "print(f'MAE: {mae:.2f}')\n",
    "print(f'MSE: {mse:.2f}')\n",
    "print(f'RMSE: {rmse:.2f}')\n",
    "print(f'Acurácia Percentual: {acuracia_percentual:.2f}%')"
   ]
  },
  {
   "cell_type": "code",
   "execution_count": 40,
   "metadata": {},
   "outputs": [
    {
     "data": {
      "image/png": "[encoded data removed]",
      "text/plain": [
       "<Figure size 2000x1200 with 1 Axes>"
      ]
     },
     "metadata": {},
     "output_type": "display_data"
    }
   ],
   "source": [
    "# Plotar os resultados\n",
    "plt.figure(figsize=(20, 12))\n",
    "plt.plot(train['ds'], train['y'], label='Treino')\n",
    "plt.plot(aligned_test.index, aligned_test['y'], label='Teste')\n",
    "plt.plot(aligned_forecast.index, aligned_forecast['yhat'], label='Previsão')\n",
    "plt.legend()\n",
    "plt.title('Previsão do Fechamento do Ibovespa com Prophet e Variáveis Exógenas')\n",
    "plt.show()"
   ]
  },
  {
   "cell_type": "code",
   "execution_count": null,
   "metadata": {},
   "outputs": [],
   "source": []
  },
  {
   "cell_type": "code",
   "execution_count": null,
   "metadata": {},
   "outputs": [],
   "source": []
  }
 ],
 "metadata": {
  "kernelspec": {
   "display_name": "base",
   "language": "python",
   "name": "python3"
  },
  "language_info": {
   "codemirror_mode": {
    "name": "ipython",
    "version": 3
   },
   "file_extension": ".py",
   "mimetype": "text/x-python",
   "name": "python",
   "nbconvert_exporter": "python",
   "pygments_lexer": "ipython3",
   "version": "3.11.7"
  }
 },
 "nbformat": 4,
 "nbformat_minor": 2
}
